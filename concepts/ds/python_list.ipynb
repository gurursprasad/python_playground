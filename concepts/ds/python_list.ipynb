{
 "cells": [
  {
   "cell_type": "markdown",
   "id": "d338525f",
   "metadata": {},
   "source": [
    "| Method                             | Description                                                                                           | Example                                                                                       |\n",
    "|------------------------------------|-------------------------------------------------------------------------------------------------------|-----------------------------------------------------------------------------------------------|\n",
    "| `append(x)`                        | Add item `x` to the end of the list.                                                                  | ```lst = [1,2,3] lst.append(5)  # [1,2,3,5]```                                            |\n",
    "| `extend(iterable)`                 | Extend list by appending all elements from `iterable`.                                                | ```lst = [1,2] lst.extend([3,4])  # [1,2,3,4]```                                          |\n",
    "| `insert(i, x)`                     | Insert item `x` at position `i`.                                                                     | ```lst = [1,3] lst.insert(1, 2)  # [1,2,3]```                                            |\n",
    "| `remove(x)`                        | Remove the first occurrence of `x`. Raises `ValueError` if not found.                                 | ```lst = [1,2,3] lst.remove(2)  # [1,3]```                                              |\n",
    "| `pop([i])`                         | Remove and return item at index `i`; if `i` is omitted, removes and returns the last item.           | ```lst = [1,2,3] item = lst.pop()  # item=3, lst=[1,2]```                                 |\n",
    "| `clear()`                          | Remove all items from the list, leaving it empty.                                                    | ```lst = [1,2,3] lst.clear()  # []```                                                   |\n",
    "| `index(x[, start[, end]])`         | Return the first index of `x` (optionally between `start` and `end`).                                 | ```lst = [1,2,3,2] idx = lst.index(2)  # idx=1```                                         |\n",
    "| `count(x)`                         | Return the number of occurrences of `x` in the list.                                                 | ```cnt = [1,2,2,3].count(2)  # cnt=2```                                                   |\n",
    "| `sort(key=None, reverse=False)`    | Sort the list in place; you can supply a `key` function and/or `reverse=True` for descending order. | ```lst = [3,1,2] lst.sort()        # [1,2,3] lst.sort(reverse=True)  # [3,2,1]```       |\n",
    "| `reverse()`                        | Reverse the elements of the list in place.                                                           | ```lst = [1,2,3] lst.reverse()  # [3,2,1]```                                            |\n",
    "| `copy()`                           | Return a shallow copy of the list.                                                                   | ```lst = [1,2,3] lst2 = lst.copy()  # lst2=[1,2,3]```                                     |\n"
   ]
  },
  {
   "cell_type": "markdown",
   "id": "390fb25a",
   "metadata": {},
   "source": []
  },
  {
   "cell_type": "markdown",
   "id": "4a2e3ba3",
   "metadata": {},
   "source": [
    "Tuples support only two built‐in methods (they’re immutable, so no add/remove operations):\n",
    "\n",
    "| Method                         | Description                                                                                 | Example                                                                                   |\n",
    "|--------------------------------|---------------------------------------------------------------------------------------------|-------------------------------------------------------------------------------------------|\n",
    "| `count(x)`                     | Return the number of times `x` appears in the tuple.                                        | ```t = (1,2,2,3) ct = t.count(2)  # ct = 2```                                          |\n",
    "| `index(x[, start[, end]])`     | Return the first index of `x`; you can optionally restrict the search to `start:end`.       | ```t = ('a','b','c','b') i = t.index('b')      # i = 1 j = t.index('b', 2, 4)  # j = 3``` |\n"
   ]
  },
  {
   "cell_type": "markdown",
   "id": "aa15dbcc",
   "metadata": {},
   "source": []
  }
 ],
 "metadata": {
  "language_info": {
   "name": "python"
  }
 },
 "nbformat": 4,
 "nbformat_minor": 5
}
