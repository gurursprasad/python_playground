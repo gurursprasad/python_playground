{
 "cells": [
  {
   "cell_type": "markdown",
   "id": "3d80ce15",
   "metadata": {},
   "source": [
    "Sets support the following built-in methods:\n",
    "\n",
    "| Method                         | Description                                                                                          | Example                                                                                       |\n",
    "|--------------------------------|------------------------------------------------------------------------------------------------------|-----------------------------------------------------------------------------------------------|\n",
    "| `add(elem)`                    | Add `elem` to the set.                                                                               | ```s = {1,2,3} s.add(4)  # {1,2,3,4}```                                                    |\n",
    "| `clear()`                      | Remove all elements from the set.                                                                    | ```s = {1,2,3} s.clear()  # set()```                                                      |\n",
    "| `copy()`                       | Return a shallow copy of the set.                                                                   | ```s = {1,2,3} s2 = s.copy()  # {1,2,3}```                                                |\n",
    "| `difference(*others)`          | Return elements in the set that are not in any of the others.                                        | ```s1 = {1,2,3}; s2 = {2,4} d = s1.difference(s2)  # {1,3}```                             |\n",
    "| `difference_update(*others)`   | Remove all elements found in the others from the set.                                                | ```s = {1,2,3}; s.difference_update({2});  # s = {1,3}```                                  |\n",
    "| `discard(elem)`                | Remove `elem` if present; do nothing if absent (no error).                                          | ```s = {1,2} s.discard(3)  # {1,2}```                                                     |\n",
    "| `intersection(*others)`        | Return elements common to the set and all the others.                                                | ```s1 = {1,2,3}; s2 = {2,3,4} i = s1.intersection(s2)  # {2,3}```                        |\n",
    "| `intersection_update(*others)` | Keep only elements found in both the set and all the others.                                         | ```s = {1,2,3}; s.intersection_update({2,3});  # s = {2,3}```                              |\n",
    "| `isdisjoint(other)`            | Return `True` if the set has no elements in common with `other`.                                     | ```{1,2}.isdisjoint({3,4})  # True```                                                     |\n",
    "| `issubset(other)`              | Return `True` if every element of the set is in `other`.                                             | ```{1,2}.issubset({1,2,3})  # True```                                                     |\n",
    "| `issuperset(other)`            | Return `True` if every element of `other` is in the set.                                             | ```{1,2,3}.issuperset({1,2})  # True```                                                   |\n",
    "| `pop()`                        | Remove and return an arbitrary element. Raises `KeyError` if the set is empty.                       | ```s = {1,2,3} e = s.pop()  # e could be 1,2 or 3; s now missing that element```         |\n",
    "| `remove(elem)`                 | Remove `elem`; raise `KeyError` if not present.                                                      | ```s = {1,2,3} s.remove(2)  # s = {1,3}```                                                |\n",
    "| `symmetric_difference(other)`  | Return elements in either the set or `other` but not both.                                           | ```{1,2,3}.symmetric_difference({2,3,4})  # {1,4}```                                      |\n",
    "| `symmetric_difference_update(other)` | Update the set, keeping only elements found in either the set or `other` but not both.      | ```s = {1,2,3}; s.symmetric_difference_update({2,3,4});  # s = {1,4}```                    |\n",
    "| `union(*others)`               | Return a new set with elements from the set and all the others.                                      | ```{1,2}.union({2,3},{3,4})  # {1,2,3,4}```                                                |\n",
    "| `update(*others)`              | Update the set, adding elements from all the others.                                                 | ```s = {1} s.update({2},{3,4});  # s = {1,2,3,4}```                                      |\n"
   ]
  },
  {
   "cell_type": "markdown",
   "id": "f51fe2d7",
   "metadata": {},
   "source": []
  },
  {
   "cell_type": "markdown",
   "id": "75d16347",
   "metadata": {},
   "source": [
    "frozenset supports the same non-mutating methods (since it’s immutable):\n",
    "\n",
    "| Method                         | Description                                                                                          | Example                                                                                       |\n",
    "|--------------------------------|------------------------------------------------------------------------------------------------------|-----------------------------------------------------------------------------------------------|\n",
    "| `copy()`                       | Return a shallow copy (often itself, since immutable).                                               | ```fs = frozenset([1,2,3]); fs2 = fs.copy()  # frozenset({1,2,3})```                       |\n",
    "| `difference(*others)`          | Return elements in the frozenset that are not in any of the others.                                  | ```fs1 = frozenset([1,2,3]); d = fs1.difference({2})  # frozenset({1,3})```                 |\n",
    "| `intersection(*others)`        | Return elements common to the frozenset and all the others.                                          | ```fs1 = frozenset([1,2]); i = fs1.intersection({2,3})  # frozenset({2})```                |\n",
    "| `isdisjoint(other)`            | Return `True` if the frozenset has no elements in common with `other`.                               | ```frozenset([1,2]).isdisjoint({3})  # True```                                           |\n",
    "| `issubset(other)`              | Return `True` if every element of the frozenset is in `other`.                                       | ```frozenset([1,2]).issubset({1,2,3})  # True```                                           |\n",
    "| `issuperset(other)`            | Return `True` if every element of `other` is in the frozenset.                                       | ```frozenset([1,2,3]).issuperset({2})  # True```                                           |\n",
    "| `symmetric_difference(other)`  | Return elements in either the frozenset or `other` but not both.                                     | ```frozenset([1,2]).symmetric_difference({2,3})  # frozenset({1,3})```                    |\n",
    "| `union(*others)`               | Return a new frozenset with elements from the frozenset and all the others.                          | ```frozenset([1]).union({2},{3})  # frozenset({1,2,3})```                                  |\n"
   ]
  },
  {
   "cell_type": "markdown",
   "id": "7f77af63",
   "metadata": {},
   "source": []
  }
 ],
 "metadata": {
  "language_info": {
   "name": "python"
  }
 },
 "nbformat": 4,
 "nbformat_minor": 5
}
