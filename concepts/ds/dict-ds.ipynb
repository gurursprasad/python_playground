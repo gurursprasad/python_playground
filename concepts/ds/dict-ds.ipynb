{
 "cells": [
  {
   "cell_type": "code",
   "execution_count": 1,
   "id": "f0d5a590",
   "metadata": {},
   "outputs": [],
   "source": [
    "# To represent a group of objects as key-value pairs\n",
    "\n",
    "# Properties:\n",
    "#     key-value pairs\n",
    "#     key should be unique, but values can be duplicates\n",
    "#     Insertion order is not preserved. It is based on hashcode of keys\n",
    "#     Indexing and slicing are not allowed\n",
    "#     Hetrogenous objects are allowed for keys and values\n",
    "#     It is mutable\n",
    "#     Dynamic in nature\n",
    "    \n",
    "# Syntax:\n",
    "#     d = {k1:v1, k2:v2}\n",
    "\n",
    "# When trying to add a duplicate key, then the existing value of that key is replaced by the new entry\n",
    "    \n"
   ]
  },
  {
   "cell_type": "code",
   "execution_count": 2,
   "id": "3915c067",
   "metadata": {},
   "outputs": [
    {
     "name": "stdout",
     "output_type": "stream",
     "text": [
      "{100: 'A', 200: 'B', 300: 'C'}\n"
     ]
    }
   ],
   "source": [
    "l = [(100,'A'), (200, 'B'), (300, 'C')] # List of tuples / List of lists / tuple of tuples\n",
    "# But set of lists is not possible. Inside set elements are added based on hash code. But list is unhashable. List objects cannot be added to set\n",
    "d = dict(l)\n",
    "print(d)"
   ]
  },
  {
   "cell_type": "code",
   "execution_count": 3,
   "id": "b91bcc8c",
   "metadata": {},
   "outputs": [
    {
     "ename": "KeyboardInterrupt",
     "evalue": "Interrupted by user",
     "output_type": "error",
     "traceback": [
      "\u001b[0;31m---------------------------------------------------------------------------\u001b[0m",
      "\u001b[0;31mKeyboardInterrupt\u001b[0m                         Traceback (most recent call last)",
      "Input \u001b[0;32mIn [3]\u001b[0m, in \u001b[0;36m<cell line: 1>\u001b[0;34m()\u001b[0m\n\u001b[0;32m----> 1\u001b[0m d \u001b[38;5;241m=\u001b[39m \u001b[38;5;28meval\u001b[39m(\u001b[38;5;28;43minput\u001b[39;49m\u001b[43m(\u001b[49m\u001b[38;5;124;43m\"\u001b[39;49m\u001b[38;5;124;43mEnter dictionary\u001b[39;49m\u001b[38;5;124;43m\"\u001b[39;49m\u001b[43m)\u001b[49m)\n\u001b[1;32m      2\u001b[0m \u001b[38;5;28mprint\u001b[39m(d)\n",
      "File \u001b[0;32m~/anaconda3/lib/python3.9/site-packages/ipykernel/kernelbase.py:1075\u001b[0m, in \u001b[0;36mKernel.raw_input\u001b[0;34m(self, prompt)\u001b[0m\n\u001b[1;32m   1071\u001b[0m \u001b[38;5;28;01mif\u001b[39;00m \u001b[38;5;129;01mnot\u001b[39;00m \u001b[38;5;28mself\u001b[39m\u001b[38;5;241m.\u001b[39m_allow_stdin:\n\u001b[1;32m   1072\u001b[0m     \u001b[38;5;28;01mraise\u001b[39;00m StdinNotImplementedError(\n\u001b[1;32m   1073\u001b[0m         \u001b[38;5;124m\"\u001b[39m\u001b[38;5;124mraw_input was called, but this frontend does not support input requests.\u001b[39m\u001b[38;5;124m\"\u001b[39m\n\u001b[1;32m   1074\u001b[0m     )\n\u001b[0;32m-> 1075\u001b[0m \u001b[38;5;28;01mreturn\u001b[39;00m \u001b[38;5;28;43mself\u001b[39;49m\u001b[38;5;241;43m.\u001b[39;49m\u001b[43m_input_request\u001b[49m\u001b[43m(\u001b[49m\n\u001b[1;32m   1076\u001b[0m \u001b[43m    \u001b[49m\u001b[38;5;28;43mstr\u001b[39;49m\u001b[43m(\u001b[49m\u001b[43mprompt\u001b[49m\u001b[43m)\u001b[49m\u001b[43m,\u001b[49m\n\u001b[1;32m   1077\u001b[0m \u001b[43m    \u001b[49m\u001b[38;5;28;43mself\u001b[39;49m\u001b[38;5;241;43m.\u001b[39;49m\u001b[43m_parent_ident\u001b[49m\u001b[43m[\u001b[49m\u001b[38;5;124;43m\"\u001b[39;49m\u001b[38;5;124;43mshell\u001b[39;49m\u001b[38;5;124;43m\"\u001b[39;49m\u001b[43m]\u001b[49m\u001b[43m,\u001b[49m\n\u001b[1;32m   1078\u001b[0m \u001b[43m    \u001b[49m\u001b[38;5;28;43mself\u001b[39;49m\u001b[38;5;241;43m.\u001b[39;49m\u001b[43mget_parent\u001b[49m\u001b[43m(\u001b[49m\u001b[38;5;124;43m\"\u001b[39;49m\u001b[38;5;124;43mshell\u001b[39;49m\u001b[38;5;124;43m\"\u001b[39;49m\u001b[43m)\u001b[49m\u001b[43m,\u001b[49m\n\u001b[1;32m   1079\u001b[0m \u001b[43m    \u001b[49m\u001b[43mpassword\u001b[49m\u001b[38;5;241;43m=\u001b[39;49m\u001b[38;5;28;43;01mFalse\u001b[39;49;00m\u001b[43m,\u001b[49m\n\u001b[1;32m   1080\u001b[0m \u001b[43m\u001b[49m\u001b[43m)\u001b[49m\n",
      "File \u001b[0;32m~/anaconda3/lib/python3.9/site-packages/ipykernel/kernelbase.py:1120\u001b[0m, in \u001b[0;36mKernel._input_request\u001b[0;34m(self, prompt, ident, parent, password)\u001b[0m\n\u001b[1;32m   1117\u001b[0m             \u001b[38;5;28;01mbreak\u001b[39;00m\n\u001b[1;32m   1118\u001b[0m \u001b[38;5;28;01mexcept\u001b[39;00m \u001b[38;5;167;01mKeyboardInterrupt\u001b[39;00m:\n\u001b[1;32m   1119\u001b[0m     \u001b[38;5;66;03m# re-raise KeyboardInterrupt, to truncate traceback\u001b[39;00m\n\u001b[0;32m-> 1120\u001b[0m     \u001b[38;5;28;01mraise\u001b[39;00m \u001b[38;5;167;01mKeyboardInterrupt\u001b[39;00m(\u001b[38;5;124m\"\u001b[39m\u001b[38;5;124mInterrupted by user\u001b[39m\u001b[38;5;124m\"\u001b[39m) \u001b[38;5;28;01mfrom\u001b[39;00m \u001b[38;5;28;01mNone\u001b[39;00m\n\u001b[1;32m   1121\u001b[0m \u001b[38;5;28;01mexcept\u001b[39;00m \u001b[38;5;167;01mException\u001b[39;00m:\n\u001b[1;32m   1122\u001b[0m     \u001b[38;5;28mself\u001b[39m\u001b[38;5;241m.\u001b[39mlog\u001b[38;5;241m.\u001b[39mwarning(\u001b[38;5;124m\"\u001b[39m\u001b[38;5;124mInvalid Message:\u001b[39m\u001b[38;5;124m\"\u001b[39m, exc_info\u001b[38;5;241m=\u001b[39m\u001b[38;5;28;01mTrue\u001b[39;00m)\n",
      "\u001b[0;31mKeyboardInterrupt\u001b[0m: Interrupted by user"
     ]
    }
   ],
   "source": [
    "d = eval(input(\"Enter dictionary\"))\n",
    "print(d)"
   ]
  },
  {
   "cell_type": "code",
   "execution_count": null,
   "id": "174eeff3",
   "metadata": {},
   "outputs": [],
   "source": [
    "# Access data from dict"
   ]
  },
  {
   "cell_type": "code",
   "execution_count": 1,
   "id": "75a615cb",
   "metadata": {},
   "outputs": [],
   "source": [
    "d = {100: 'Guru', 200: 'Sidarth', 300: 'Harinee'}"
   ]
  },
  {
   "cell_type": "code",
   "execution_count": null,
   "id": "ab73f570",
   "metadata": {},
   "outputs": [],
   "source": [
    "d[100]"
   ]
  },
  {
   "cell_type": "code",
   "execution_count": null,
   "id": "7bb1c580",
   "metadata": {},
   "outputs": [],
   "source": [
    "d[700]"
   ]
  },
  {
   "cell_type": "code",
   "execution_count": null,
   "id": "7c86c525",
   "metadata": {},
   "outputs": [],
   "source": [
    "# Avoiding KeyError\n",
    "k = int(input(\"Input the key to search in the dict\"))\n",
    "if k in d:\n",
    "    print(\"Key is present\")\n",
    "else:\n",
    "    print(\"key is not present\")"
   ]
  },
  {
   "cell_type": "code",
   "execution_count": null,
   "id": "5f15931d",
   "metadata": {},
   "outputs": [],
   "source": [
    "# Add or update data in dict\n",
    "# d[key] = value"
   ]
  },
  {
   "cell_type": "code",
   "execution_count": null,
   "id": "4df95797",
   "metadata": {},
   "outputs": [],
   "source": [
    "# Delete from dict\n",
    "# del d[key]"
   ]
  },
  {
   "cell_type": "code",
   "execution_count": null,
   "id": "738cb26b",
   "metadata": {},
   "outputs": [],
   "source": [
    "# Save students name and marks into a dict and display it in table format"
   ]
  },
  {
   "cell_type": "code",
   "execution_count": null,
   "id": "a51ea16e",
   "metadata": {},
   "outputs": [],
   "source": [
    "n = int(input(\"Enter the number of students\"))\n",
    "for i in range(n):\n",
    "    name = input(\"Enter student name\")\n",
    "    marks = int(input(\"Enter student marks\"))\n",
    "    d[name] = marks\n",
    "print(d)"
   ]
  },
  {
   "cell_type": "code",
   "execution_count": null,
   "id": "81e34146",
   "metadata": {},
   "outputs": [],
   "source": [
    "print(\"*\"*30)\n",
    "print(\"Name\",\"\\t\\t\",\"Marks\")\n",
    "print(\"*\"*30)\n",
    "for k in d:\n",
    "    print(k,'\\t\\t',d[k])"
   ]
  },
  {
   "cell_type": "code",
   "execution_count": null,
   "id": "2d201c88",
   "metadata": {},
   "outputs": [],
   "source": [
    "l = []\n",
    "for k,v in d.items():\n",
    "    l.append(k)\n",
    "print(l)\n",
    "for name in l:\n",
    "    del d[name]"
   ]
  },
  {
   "cell_type": "code",
   "execution_count": null,
   "id": "31b2e5ff",
   "metadata": {},
   "outputs": [],
   "source": [
    "print(d)"
   ]
  },
  {
   "cell_type": "code",
   "execution_count": null,
   "id": "7e13e89c",
   "metadata": {},
   "outputs": [],
   "source": [
    "# Mathematical Equality, Relational and Membership operators for dict"
   ]
  },
  {
   "cell_type": "code",
   "execution_count": 1,
   "id": "c4d9f1f0",
   "metadata": {},
   "outputs": [],
   "source": [
    "d1 = {100: 'A', 200: 'B'}\n",
    "d2 = {300: 'C', 400: 'D'}\n",
    "d3 = {200: 'B', 100: 'A'}"
   ]
  },
  {
   "cell_type": "code",
   "execution_count": 2,
   "id": "c57b8a44",
   "metadata": {},
   "outputs": [
    {
     "ename": "TypeError",
     "evalue": "unsupported operand type(s) for +: 'dict' and 'dict'",
     "output_type": "error",
     "traceback": [
      "\u001b[0;31m---------------------------------------------------------------------------\u001b[0m",
      "\u001b[0;31mTypeError\u001b[0m                                 Traceback (most recent call last)",
      "Input \u001b[0;32mIn [2]\u001b[0m, in \u001b[0;36m<cell line: 1>\u001b[0;34m()\u001b[0m\n\u001b[0;32m----> 1\u001b[0m \u001b[43md1\u001b[49m\u001b[43m \u001b[49m\u001b[38;5;241;43m+\u001b[39;49m\u001b[43m \u001b[49m\u001b[43md2\u001b[49m\n",
      "\u001b[0;31mTypeError\u001b[0m: unsupported operand type(s) for +: 'dict' and 'dict'"
     ]
    }
   ],
   "source": [
    "d1 + d2"
   ]
  },
  {
   "cell_type": "code",
   "execution_count": 3,
   "id": "34ac50db",
   "metadata": {},
   "outputs": [
    {
     "ename": "TypeError",
     "evalue": "unsupported operand type(s) for *: 'dict' and 'dict'",
     "output_type": "error",
     "traceback": [
      "\u001b[0;31m---------------------------------------------------------------------------\u001b[0m",
      "\u001b[0;31mTypeError\u001b[0m                                 Traceback (most recent call last)",
      "Input \u001b[0;32mIn [3]\u001b[0m, in \u001b[0;36m<cell line: 1>\u001b[0;34m()\u001b[0m\n\u001b[0;32m----> 1\u001b[0m \u001b[43md1\u001b[49m\u001b[43m \u001b[49m\u001b[38;5;241;43m*\u001b[39;49m\u001b[43m \u001b[49m\u001b[43md2\u001b[49m\n",
      "\u001b[0;31mTypeError\u001b[0m: unsupported operand type(s) for *: 'dict' and 'dict'"
     ]
    }
   ],
   "source": [
    "d1 * d2"
   ]
  },
  {
   "cell_type": "code",
   "execution_count": 4,
   "id": "1bcae01b",
   "metadata": {},
   "outputs": [
    {
     "data": {
      "text/plain": [
       "False"
      ]
     },
     "execution_count": 4,
     "metadata": {},
     "output_type": "execute_result"
    }
   ],
   "source": [
    "d1 == d2"
   ]
  },
  {
   "cell_type": "code",
   "execution_count": 5,
   "id": "d89e2aa0",
   "metadata": {},
   "outputs": [
    {
     "data": {
      "text/plain": [
       "True"
      ]
     },
     "execution_count": 5,
     "metadata": {},
     "output_type": "execute_result"
    }
   ],
   "source": [
    "d1 == d3"
   ]
  },
  {
   "cell_type": "code",
   "execution_count": null,
   "id": "9bba550d",
   "metadata": {},
   "outputs": [],
   "source": [
    "# Methods and functions in dict: len(), get() and update()"
   ]
  },
  {
   "cell_type": "code",
   "execution_count": 5,
   "id": "85b7ee9a",
   "metadata": {},
   "outputs": [
    {
     "name": "stdout",
     "output_type": "stream",
     "text": [
      "3\n"
     ]
    }
   ],
   "source": [
    "print(len(d))"
   ]
  },
  {
   "cell_type": "code",
   "execution_count": 8,
   "id": "921b94e7",
   "metadata": {},
   "outputs": [
    {
     "name": "stdout",
     "output_type": "stream",
     "text": [
      "None\n"
     ]
    }
   ],
   "source": [
    "print(d.get(400)) # Returns none when key not found as oppesed to d[key] where we get keyerror"
   ]
  },
  {
   "cell_type": "code",
   "execution_count": 9,
   "id": "439f2088",
   "metadata": {},
   "outputs": [
    {
     "ename": "KeyError",
     "evalue": "400",
     "output_type": "error",
     "traceback": [
      "\u001b[0;31m---------------------------------------------------------------------------\u001b[0m",
      "\u001b[0;31mKeyError\u001b[0m                                  Traceback (most recent call last)",
      "Input \u001b[0;32mIn [9]\u001b[0m, in \u001b[0;36m<cell line: 1>\u001b[0;34m()\u001b[0m\n\u001b[0;32m----> 1\u001b[0m \u001b[43md\u001b[49m\u001b[43m[\u001b[49m\u001b[38;5;241;43m400\u001b[39;49m\u001b[43m]\u001b[49m\n",
      "\u001b[0;31mKeyError\u001b[0m: 400"
     ]
    }
   ],
   "source": [
    "d[400]"
   ]
  },
  {
   "cell_type": "code",
   "execution_count": 10,
   "id": "9480c7d9",
   "metadata": {},
   "outputs": [],
   "source": [
    "# Another use if d.get(key)\n",
    "# d.get(key, default_value)"
   ]
  },
  {
   "cell_type": "code",
   "execution_count": 12,
   "id": "eb8617c4",
   "metadata": {},
   "outputs": [
    {
     "data": {
      "text/plain": [
       "'Default Value'"
      ]
     },
     "execution_count": 12,
     "metadata": {},
     "output_type": "execute_result"
    }
   ],
   "source": [
    "d.get(400, \"Default Value\")"
   ]
  },
  {
   "cell_type": "code",
   "execution_count": 13,
   "id": "410b17bd",
   "metadata": {},
   "outputs": [],
   "source": [
    "# update()"
   ]
  },
  {
   "cell_type": "code",
   "execution_count": 3,
   "id": "1a75acf3",
   "metadata": {},
   "outputs": [
    {
     "name": "stdout",
     "output_type": "stream",
     "text": [
      "{100: 'A', 200: 'B', 300: 'C', 400: 'D'}\n"
     ]
    }
   ],
   "source": [
    "d1.update(d2)\n",
    "print(d1)"
   ]
  },
  {
   "cell_type": "code",
   "execution_count": 18,
   "id": "d63ff92b",
   "metadata": {},
   "outputs": [],
   "source": [
    "# Methods and functions for dict: keys(), values() and items()"
   ]
  },
  {
   "cell_type": "code",
   "execution_count": 5,
   "id": "9a9c0dfb",
   "metadata": {},
   "outputs": [
    {
     "name": "stdout",
     "output_type": "stream",
     "text": [
      "100\n",
      "200\n",
      "300\n",
      "400\n"
     ]
    }
   ],
   "source": [
    "keys = d1.keys()\n",
    "for key in keys:\n",
    "    print(key)"
   ]
  },
  {
   "cell_type": "code",
   "execution_count": 6,
   "id": "e644d3e9",
   "metadata": {},
   "outputs": [
    {
     "name": "stdout",
     "output_type": "stream",
     "text": [
      "A\n",
      "B\n",
      "C\n",
      "D\n"
     ]
    }
   ],
   "source": [
    "values = d1.values()\n",
    "for value in values:\n",
    "    print(value)"
   ]
  },
  {
   "cell_type": "code",
   "execution_count": 9,
   "id": "17ada5f9",
   "metadata": {},
   "outputs": [
    {
     "name": "stdout",
     "output_type": "stream",
     "text": [
      "(100, 'A')\n",
      "(200, 'B')\n",
      "(300, 'C')\n",
      "(400, 'D')\n"
     ]
    }
   ],
   "source": [
    "items = d1.items()\n",
    "for item in items:\n",
    "    print(item)"
   ]
  },
  {
   "cell_type": "code",
   "execution_count": 10,
   "id": "ac78d9ff",
   "metadata": {},
   "outputs": [],
   "source": [
    "# Get value from the dict for the given key"
   ]
  },
  {
   "cell_type": "code",
   "execution_count": 14,
   "id": "d7f59aea",
   "metadata": {},
   "outputs": [
    {
     "data": {
      "text/plain": [
       "'def'"
      ]
     },
     "execution_count": 14,
     "metadata": {},
     "output_type": "execute_result"
    }
   ],
   "source": [
    "d1.get(700, 'def')"
   ]
  },
  {
   "cell_type": "code",
   "execution_count": 11,
   "id": "9fa9f604",
   "metadata": {},
   "outputs": [],
   "source": [
    "# Get key from the dict for the given value"
   ]
  },
  {
   "cell_type": "code",
   "execution_count": 16,
   "id": "6e38c9ad",
   "metadata": {},
   "outputs": [
    {
     "name": "stdout",
     "output_type": "stream",
     "text": [
      "400\n"
     ]
    }
   ],
   "source": [
    "for k,v in d1.items():\n",
    "    if \"D\" in v:\n",
    "        print(k)"
   ]
  },
  {
   "cell_type": "code",
   "execution_count": 17,
   "id": "7a691c9a",
   "metadata": {},
   "outputs": [],
   "source": [
    "# Methods and functions for dict: pop(), popitem(), clear()"
   ]
  },
  {
   "cell_type": "code",
   "execution_count": null,
   "id": "ab89252f",
   "metadata": {},
   "outputs": [],
   "source": []
  }
 ],
 "metadata": {
  "kernelspec": {
   "display_name": "Python 3 (ipykernel)",
   "language": "python",
   "name": "python3"
  },
  "language_info": {
   "codemirror_mode": {
    "name": "ipython",
    "version": 3
   },
   "file_extension": ".py",
   "mimetype": "text/x-python",
   "name": "python",
   "nbconvert_exporter": "python",
   "pygments_lexer": "ipython3",
   "version": "3.9.12"
  }
 },
 "nbformat": 4,
 "nbformat_minor": 5
}
