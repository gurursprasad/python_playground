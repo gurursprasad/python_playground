{
 "cells": [
  {
   "cell_type": "code",
   "execution_count": 17,
   "id": "178c541d",
   "metadata": {},
   "outputs": [],
   "source": [
    "# Represent in key-value pairs.\n",
    "# d={} or d=dict()\n",
    "# Add an item to dict d[key] = 'value'\n",
    "# Get value in dict d[key] = 'value'"
   ]
  },
  {
   "cell_type": "code",
   "execution_count": 2,
   "id": "4a41e954",
   "metadata": {},
   "outputs": [
    {
     "name": "stdout",
     "output_type": "stream",
     "text": [
      "Enter the number of students:2\n",
      "Enter name: hg\n",
      "Enter mark: 65\n",
      "Enter name: hj\n",
      "Enter mark: 6\n",
      "{'hg': '65', 'hj': '6'}\n"
     ]
    }
   ],
   "source": [
    "n=int(input(\"Enter the number of students:\"))\n",
    "d={}\n",
    "i=1\n",
    "while i<=n:\n",
    "    name=input(\"Enter name: \")\n",
    "    mark=input(\"Enter mark: \")\n",
    "    d[name]=mark\n",
    "    i=i+1\n",
    "print(d)"
   ]
  },
  {
   "cell_type": "code",
   "execution_count": 3,
   "id": "3383bd83",
   "metadata": {},
   "outputs": [
    {
     "name": "stdout",
     "output_type": "stream",
     "text": [
      "{1: 'guru', 2: 'shree', 3: 'padma', 4: 'sridhar'}\n"
     ]
    },
    {
     "data": {
      "text/plain": [
       "{1: 'guru', 2: 'shree', 3: 'padma', 4: 'harinee'}"
      ]
     },
     "execution_count": 3,
     "metadata": {},
     "output_type": "execute_result"
    }
   ],
   "source": [
    "# Update dict\n",
    "d={1:'guru', 2:'shree', 3:'padma'}\n",
    "d[4]='sridhar'\n",
    "print(d)\n",
    "d[4]='harinee'\n",
    "d"
   ]
  },
  {
   "cell_type": "code",
   "execution_count": null,
   "id": "5b551e45",
   "metadata": {},
   "outputs": [],
   "source": [
    "# Delete elements from dict\n",
    "# del d[key]\n",
    "del d[4]\n",
    "print(d)"
   ]
  },
  {
   "cell_type": "code",
   "execution_count": null,
   "id": "d61d7fe5",
   "metadata": {},
   "outputs": [],
   "source": [
    "# Clear/delete all elements\n",
    "# d.clear()\n",
    "d.clear()\n",
    "print(d)"
   ]
  },
  {
   "cell_type": "code",
   "execution_count": null,
   "id": "f88b0bc6",
   "metadata": {},
   "outputs": [],
   "source": [
    "print(d)\n",
    "del d\n",
    "print(d)"
   ]
  },
  {
   "cell_type": "code",
   "execution_count": null,
   "id": "41d4c34a",
   "metadata": {},
   "outputs": [],
   "source": [
    "d.get(key)\n",
    "d.get(key, default)"
   ]
  },
  {
   "cell_type": "code",
   "execution_count": null,
   "id": "d411e3a7",
   "metadata": {},
   "outputs": [],
   "source": [
    "d.pop(key)"
   ]
  },
  {
   "cell_type": "code",
   "execution_count": null,
   "id": "37acc0a8",
   "metadata": {},
   "outputs": [],
   "source": [
    "d.popitem()"
   ]
  },
  {
   "cell_type": "code",
   "execution_count": 4,
   "id": "99a50d4c",
   "metadata": {},
   "outputs": [
    {
     "data": {
      "text/plain": [
       "dict_keys([1, 2, 3, 4])"
      ]
     },
     "execution_count": 4,
     "metadata": {},
     "output_type": "execute_result"
    }
   ],
   "source": [
    "d.keys()"
   ]
  },
  {
   "cell_type": "code",
   "execution_count": 5,
   "id": "85a1dc8d",
   "metadata": {},
   "outputs": [
    {
     "data": {
      "text/plain": [
       "dict_values(['guru', 'shree', 'padma', 'harinee'])"
      ]
     },
     "execution_count": 5,
     "metadata": {},
     "output_type": "execute_result"
    }
   ],
   "source": [
    "d.values()"
   ]
  },
  {
   "cell_type": "code",
   "execution_count": 6,
   "id": "e746428a",
   "metadata": {},
   "outputs": [
    {
     "data": {
      "text/plain": [
       "dict_items([(1, 'guru'), (2, 'shree'), (3, 'padma'), (4, 'harinee')])"
      ]
     },
     "execution_count": 6,
     "metadata": {},
     "output_type": "execute_result"
    }
   ],
   "source": [
    "d.items()"
   ]
  },
  {
   "cell_type": "code",
   "execution_count": 8,
   "id": "6689ef61",
   "metadata": {},
   "outputs": [],
   "source": [
    "d1=d.copy()"
   ]
  },
  {
   "cell_type": "code",
   "execution_count": null,
   "id": "8c5c726d",
   "metadata": {},
   "outputs": [],
   "source": [
    "# if the key is available, do not update the value and if the key is not available add the new value\n",
    "d.setdefault(k,v)"
   ]
  },
  {
   "cell_type": "code",
   "execution_count": 9,
   "id": "f07aa8d1",
   "metadata": {},
   "outputs": [
    {
     "data": {
      "text/plain": [
       "{1: 'guru', 2: 'shree', 3: 'padma', 4: 'harinee'}"
      ]
     },
     "execution_count": 9,
     "metadata": {},
     "output_type": "execute_result"
    }
   ],
   "source": [
    "d.update(d1)\n",
    "d"
   ]
  },
  {
   "cell_type": "code",
   "execution_count": 2,
   "id": "5b03b872",
   "metadata": {},
   "outputs": [
    {
     "name": "stdout",
     "output_type": "stream",
     "text": [
      "{'a': 100, 'b': 200, 'c': 300}\n",
      "Sum is: 600\n"
     ]
    }
   ],
   "source": [
    "# Take dictionary from the keyboard and print the sum of values ==> Sum is: 600\n",
    "d=eval(input(\"Enter a dictionary\"))\n",
    "print(d)\n",
    "sum=0\n",
    "for k,v in d.items():\n",
    "    sum = sum+v\n",
    "print('Sum is:', sum)\n",
    "\n"
   ]
  },
  {
   "cell_type": "code",
   "execution_count": 15,
   "id": "bba1631c",
   "metadata": {},
   "outputs": [
    {
     "name": "stdout",
     "output_type": "stream",
     "text": [
      "Enter some word: missi\n",
      "{'m': 1, 'i': 2, 's': 2}\n",
      "i appears 2 times\n",
      "m appears 1 times\n",
      "s appears 2 times\n"
     ]
    }
   ],
   "source": [
    "# Number of occurance of each letter present in the given string\n",
    "word = input(\"Enter some word: \")\n",
    "d={}\n",
    "for x in word:\n",
    "    d[x]=d.get(x,0)+1\n",
    "print(d)\n",
    "for k,v in sorted(d.items()):\n",
    "    print(\"{} appears {} times\".format(k,v))"
   ]
  },
  {
   "cell_type": "code",
   "execution_count": 1,
   "id": "40b08f15",
   "metadata": {},
   "outputs": [
    {
     "name": "stdout",
     "output_type": "stream",
     "text": [
      "Enter some word: guruprasad\n",
      "{'u': 2, 'a': 2}\n",
      "a appears 2 times\n",
      "u appears 2 times\n"
     ]
    }
   ],
   "source": [
    "# NUmber of occurances of each vowels in the string\n",
    "word = input(\"Enter some word: \")\n",
    "d = {}\n",
    "l = ['a','e','i','o','u']\n",
    "for x in word:\n",
    "    if x in l:\n",
    "        d[x] = d.get(x,0)+1\n",
    "print(d)\n",
    "for k,v in sorted(d.items()):\n",
    "    print(\"{} appears {} times\".format(k,v))"
   ]
  },
  {
   "cell_type": "code",
   "execution_count": 3,
   "id": "4fac98a8",
   "metadata": {},
   "outputs": [
    {
     "name": "stdout",
     "output_type": "stream",
     "text": [
      "Enter no of students: 1\n",
      "Input name: guru\n",
      "Input marks: 100\n",
      "{'guru': 100}\n",
      "Enter student name to get marksprasad\n",
      "Student not available\n",
      "Do you want to add the new student info marks[Yes|No]No\n",
      "Do you want to find the marks of another student[Yes|No]No\n",
      "Thanks for using our application!!!\n"
     ]
    }
   ],
   "source": [
    "# Add some student name and marks to a dict. \n",
    "# After this print all the marks when particular student name is entered. \n",
    "# The program needs to ask yes/no if we want to find the marks for any other student\n",
    "# https://www.youtube.com/watch?v=J-Lye2a3p-c&list=PLd3UqWTnYXOmzcSdWIh-EggqAtCXvJxzu&index=31 -> Skip to time 49:05\n",
    "\n",
    "n = eval(input(\"Enter no of students: \"))\n",
    "d = {}\n",
    "i = 1\n",
    "while i<=n:\n",
    "    name = input(\"Input name: \")\n",
    "    marks = eval(input(\"Input marks: \"))\n",
    "    d[name] = marks\n",
    "    i = i+1\n",
    "print(d)\n",
    "\n",
    "while True:\n",
    "    name = input(\"Enter student name to get marks\")\n",
    "    marks = d.get(name,-1)\n",
    "    if marks == -1:\n",
    "        print(\"Student not available\")\n",
    "        while True:\n",
    "            addOption = input(\"Do you want to add the new student info marks[Yes|No]\")\n",
    "            if addOption == \"Yes\":\n",
    "                marks = eval(input(\"Input marks: \"))\n",
    "                d[name] = marks\n",
    "            else:\n",
    "                break          \n",
    "    else:\n",
    "        print(\"Marks of {} are: {}\".format(name,marks))\n",
    "    option = input(\"Do you want to find the marks of another student[Yes|No]\")\n",
    "    if option == \"No\":\n",
    "        break\n",
    "print(\"Thanks for using our application!!!\")\n"
   ]
  },
  {
   "cell_type": "code",
   "execution_count": 1,
   "id": "42f39f43",
   "metadata": {},
   "outputs": [
    {
     "name": "stdout",
     "output_type": "stream",
     "text": [
      "Enter starting range: 1\n",
      "Enter ending range: 10\n",
      "{1: 1, 2: 4, 3: 9, 4: 16, 5: 25, 6: 36, 7: 49, 8: 64, 9: 81, 10: 100}\n"
     ]
    }
   ],
   "source": [
    "# Comprehension\n",
    "# Find square of the entered number and store it in the dict\n",
    "m = int(input(\"Enter starting range: \"))\n",
    "n = int(input(\"Enter ending range: \"))\n",
    "\n",
    "squares = {i:i*i for i in range(m,n+1)}\n",
    "print(squares)\n",
    "\n"
   ]
  },
  {
   "cell_type": "code",
   "execution_count": null,
   "id": "2c7fb897",
   "metadata": {},
   "outputs": [],
   "source": []
  },
  {
   "cell_type": "code",
   "execution_count": null,
   "id": "0e40c224",
   "metadata": {},
   "outputs": [],
   "source": []
  },
  {
   "cell_type": "code",
   "execution_count": null,
   "id": "3e56f2da",
   "metadata": {},
   "outputs": [],
   "source": []
  },
  {
   "cell_type": "code",
   "execution_count": null,
   "id": "f86b6915",
   "metadata": {},
   "outputs": [],
   "source": []
  },
  {
   "cell_type": "code",
   "execution_count": null,
   "id": "bb596623",
   "metadata": {},
   "outputs": [],
   "source": []
  },
  {
   "cell_type": "code",
   "execution_count": 1,
   "id": "e7eaf706",
   "metadata": {},
   "outputs": [
    {
     "name": "stdout",
     "output_type": "stream",
     "text": [
      "{'Ten': 10, 'Twenty': 20, 'Thirty': 30}\n"
     ]
    }
   ],
   "source": [
    "# Convert two lists into a dictionary\n",
    "keys = ['Ten', 'Twenty', 'Thirty']\n",
    "values = [10, 20, 30]\n",
    "\n",
    "d = dict(zip(keys,values))\n",
    "print(d)"
   ]
  },
  {
   "cell_type": "code",
   "execution_count": null,
   "id": "514f4bfc",
   "metadata": {},
   "outputs": [],
   "source": [
    "d = dict()\n",
    "for i in range(len(keys)):\n",
    "    d.update({keys[i]: values[i]})\n",
    "print(d)"
   ]
  },
  {
   "cell_type": "code",
   "execution_count": 2,
   "id": "3df2f460",
   "metadata": {},
   "outputs": [
    {
     "data": {
      "text/plain": [
       "{'Ten': 10, 'Twenty': 20, 'Thirty': 30, 'Fourty': 40, 'Fifty': 50}"
      ]
     },
     "execution_count": 2,
     "metadata": {},
     "output_type": "execute_result"
    }
   ],
   "source": [
    "# Merge two Python dictionaries into one\n",
    "dict1 = {'Ten': 10, 'Twenty': 20, 'Thirty': 30}\n",
    "dict2 = {'Thirty': 30, 'Fourty': 40, 'Fifty': 50}\n",
    "dict3 = dict()\n",
    "dict3 = dict1.copy()\n",
    "dict3.update(dict2)\n",
    "dict3\n"
   ]
  },
  {
   "cell_type": "code",
   "execution_count": 3,
   "id": "73efdd5f",
   "metadata": {},
   "outputs": [
    {
     "data": {
      "text/plain": [
       "{'Ten': 10, 'Twenty': 20, 'Thirty': 30, 'Fourty': 40, 'Fifty': 50}"
      ]
     },
     "execution_count": 3,
     "metadata": {},
     "output_type": "execute_result"
    }
   ],
   "source": [
    "dict3 = {**dict1, **dict2}\n",
    "dict3"
   ]
  },
  {
   "cell_type": "code",
   "execution_count": null,
   "id": "448f45f7",
   "metadata": {},
   "outputs": [],
   "source": [
    "# Print the value of key ‘history’ from the below dict\n",
    "sampleDict = {\n",
    "    \"class\": {\n",
    "        \"student\": {\n",
    "            \"name\": \"Mike\",\n",
    "            \"marks\": {\n",
    "                \"physics\": 70,\n",
    "                \"history\": 80\n",
    "            }\n",
    "        }\n",
    "    }\n",
    "}\n",
    "\n",
    "print(sampleDict[\"class\"][\"student\"][\"marks\"][\"history\"])"
   ]
  },
  {
   "cell_type": "code",
   "execution_count": 4,
   "id": "63287ddc",
   "metadata": {},
   "outputs": [
    {
     "data": {
      "text/plain": [
       "{'name': 'Kelly', 'salary': 8000}"
      ]
     },
     "execution_count": 4,
     "metadata": {},
     "output_type": "execute_result"
    }
   ],
   "source": [
    "# Create a dictionary by extracting the keys from a given dictionary\n",
    "sample_dict = {\n",
    "    \"name\": \"Kelly\",\n",
    "    \"age\": 25,\n",
    "    \"salary\": 8000,\n",
    "    \"city\": \"New york\"}\n",
    "\n",
    "# Keys to extract\n",
    "keys = [\"name\", \"salary\"]\n",
    "\n",
    "\n",
    "new_d = dict()\n",
    "for k in keys:\n",
    "    new_d.update({k: sample_dict[k]})\n",
    "\n",
    "new_d"
   ]
  },
  {
   "cell_type": "code",
   "execution_count": null,
   "id": "89ff6310",
   "metadata": {},
   "outputs": [],
   "source": [
    "# Delete a list of keys from a dictionary\n",
    "sample_dict = {\n",
    "    \"name\": \"Kelly\",\n",
    "    \"age\": 25,\n",
    "    \"salary\": 8000,\n",
    "    \"city\": \"New york\"\n",
    "}\n",
    "\n",
    "# Keys to remove\n",
    "keys = [\"name\", \"salary\"]\n",
    "\n",
    "for k in keys:\n",
    "    sample_dict.pop(k)\n",
    "\n",
    "sample_dict"
   ]
  },
  {
   "cell_type": "code",
   "execution_count": null,
   "id": "1829e12e",
   "metadata": {},
   "outputs": [],
   "source": [
    "# Check if a value exists in a dictionary\n",
    "sample_dict = {'a': 100, 'b': 200, 'c': 300}\n",
    "\n",
    "for k,v in sample_dict.items():\n",
    "    if v == 100:\n",
    "        print(\"{} is present in the dict\".format(v))"
   ]
  },
  {
   "cell_type": "code",
   "execution_count": null,
   "id": "d36ad89f",
   "metadata": {},
   "outputs": [],
   "source": [
    "# Rename key of a dictionary\n",
    "sample_dict = {\n",
    "  \"name\": \"Kelly\",\n",
    "  \"age\":25,\n",
    "  \"salary\": 8000,\n",
    "  \"city\": \"New york\"\n",
    "}\n",
    "\n",
    "sample_dict['location'] = sample_dict.pop('city')\n",
    "sample_dict"
   ]
  },
  {
   "cell_type": "code",
   "execution_count": null,
   "id": "67a4db67",
   "metadata": {},
   "outputs": [],
   "source": [
    "# Change value of a key in a nested dictionary\n",
    "sample_dict = {\n",
    "    'emp1': {'name': 'Jhon', 'salary': 7500},\n",
    "    'emp2': {'name': 'Emma', 'salary': 8000},\n",
    "    'emp3': {'name': 'Brad', 'salary': 500}\n",
    "}\n",
    "\n",
    "sample_dict['emp3']['salary'] = 8500\n",
    "sample_dict\n"
   ]
  },
  {
   "cell_type": "code",
   "execution_count": null,
   "id": "6ba5cec6",
   "metadata": {},
   "outputs": [],
   "source": [
    "# Sort Dictionary By Key in Python\n",
    "\n",
    "myDict = {'ravi': 10, 'rajnish': 9,\n",
    "        'sanjeev': 15, 'yash': 2, 'suraj': 32}\n",
    "new_d = dict()\n",
    "l = []\n",
    "for k,v in myDict.items():\n",
    "    l.append(k)\n",
    "\n",
    "l.sort()\n",
    "\n",
    "for i in l:\n",
    "    d.update({i: myDict[i]})\n",
    "    \n",
    "d"
   ]
  },
  {
   "cell_type": "code",
   "execution_count": 6,
   "id": "6d2905f9",
   "metadata": {},
   "outputs": [
    {
     "name": "stdout",
     "output_type": "stream",
     "text": [
      "Enter the number: 1553\n",
      "digit: 3\n",
      "reverse: 3\n",
      "n: 155\n",
      "digit: 5\n",
      "reverse: 35\n",
      "n: 15\n",
      "digit: 5\n",
      "reverse: 355\n",
      "n: 1\n",
      "digit: 1\n",
      "reverse: 3551\n",
      "n: 0\n",
      "The reversed number is:  3551\n"
     ]
    }
   ],
   "source": [
    "# Python program that reverses a number\n",
    "n = int(input(\"Enter the number: \"))\n",
    "reverse = 0\n",
    "while(n>0):\n",
    "    digit = n%10\n",
    "    print(\"digit:\", digit)\n",
    "    reverse = reverse*10+digit\n",
    "    print(\"reverse:\", reverse)\n",
    "    n=n//10\n",
    "    print(\"n:\", n)\n",
    "print(\"The reversed number is: \",reverse)"
   ]
  },
  {
   "cell_type": "code",
   "execution_count": 9,
   "id": "6ec7dbea",
   "metadata": {},
   "outputs": [
    {
     "name": "stdout",
     "output_type": "stream",
     "text": [
      "0\n"
     ]
    }
   ],
   "source": []
  },
  {
   "cell_type": "code",
   "execution_count": null,
   "id": "7e14099c",
   "metadata": {},
   "outputs": [],
   "source": []
  },
  {
   "cell_type": "code",
   "execution_count": null,
   "id": "bd11f805",
   "metadata": {},
   "outputs": [],
   "source": []
  },
  {
   "cell_type": "code",
   "execution_count": 33,
   "id": "317f7457",
   "metadata": {},
   "outputs": [
    {
     "data": {
      "text/plain": [
       "{'ImageId': 'ami-00afb13afea931c86',\n",
       " 'Description': 'Test parseVM',\n",
       " 'ImageName': 'pytest-image-q123dfghfs12',\n",
       " 'UserData': 'ZWNobyBIaQ==',\n",
       " 'ImageType': 'qcow2',\n",
       " 'User': '',\n",
       " 'UserKeyPem': ''}"
      ]
     },
     "execution_count": 33,
     "metadata": {},
     "output_type": "execute_result"
    }
   ],
   "source": [
    "{\n",
    "    \"ImageId\": \"ami-00afb13afea931c86\",\n",
    "    \"Description\": \"Test parseVM\",\n",
    "    \"ImageName\": \"pytest-image-q123dfghfs12\",\n",
    "    \"UserData\": \"ZWNobyBIaQ==\",\n",
    "    \"ImageType\": \"qcow2\",\n",
    "    \"User\": \"\",\n",
    "    \"UserKeyPem\": \"\"\n",
    "}"
   ]
  },
  {
   "cell_type": "code",
   "execution_count": 34,
   "id": "ee7b3ef6",
   "metadata": {},
   "outputs": [
    {
     "name": "stdout",
     "output_type": "stream",
     "text": [
      "API URL: http://18.246.241.245:5000/v1/xcompute/parse\n",
      "Response Status Code: 200\n",
      "37\n"
     ]
    }
   ],
   "source": [
    "import json\n",
    "import requests\n",
    "\n",
    "api_url = f\"http://18.246.241.245:5000/v1/xcompute/parse\"\n",
    "print(\"API URL: \" + api_url)\n",
    "headers = {\"Content-Type\": \"application/json\"}\n",
    "with open(\"/home/guru/Desktop/Desktop/GuruPrasad/exostellar/git_repo/x_compute_pytest/configuration_files/rest-api-payloads/parseVm.json\") as f:\n",
    "    assert f is not None, \"Null pointer exception: 'f' is null\"\n",
    "    request_data = f.read()\n",
    "    assert (request_data is not None), \"Null pointer exception: 'request_data' is null\"\n",
    "response = requests.post(api_url, headers=headers, data=request_data)\n",
    "response_data = response.json()\n",
    "print(\"Response Status Code: \" + str(response.status_code))\n",
    "assert (response_data is not None), \"Null pointer exception: 'response_data' is null\"\n",
    "assert \"JobId\" in response_data, \"Expected JobId in response\"\n",
    "assert (response.status_code == 200), \"Request failed with status code: {}\".format(response.status_code)\n",
    "parse_job_id = response_data[\"JobId\"]\n",
    "print(parse_job_id)\n",
    "assert (parse_job_id is not None), \"parse_job_id is not set. Hence skipping the test!!\""
   ]
  },
  {
   "cell_type": "code",
   "execution_count": null,
   "id": "2b54c552",
   "metadata": {},
   "outputs": [],
   "source": []
  }
 ],
 "metadata": {
  "kernelspec": {
   "display_name": "base",
   "language": "python",
   "name": "python3"
  },
  "language_info": {
   "codemirror_mode": {
    "name": "ipython",
    "version": 3
   },
   "file_extension": ".py",
   "mimetype": "text/x-python",
   "name": "python",
   "nbconvert_exporter": "python",
   "pygments_lexer": "ipython3",
   "version": "3.9.12"
  }
 },
 "nbformat": 4,
 "nbformat_minor": 5
}
