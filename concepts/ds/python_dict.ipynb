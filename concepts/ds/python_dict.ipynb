{
 "cells": [
  {
   "cell_type": "markdown",
   "id": "8e07e256",
   "metadata": {},
   "source": [
    "Python’s `dict` type provides the following built-in methods:\n",
    "\n",
    "| Method                                  | Description                                                                                                           | Example                                                                                     |\n",
    "|-----------------------------------------|-----------------------------------------------------------------------------------------------------------------------|---------------------------------------------------------------------------------------------|\n",
    "| `clear()`                               | Remove all items from the dictionary.                                                                                 | ```d = {'a':1,'b':2} d.clear()  # {} ```                                                |\n",
    "| `copy()`                                | Return a shallow copy of the dictionary.                                                                              | ```d2 = d.copy()  # d2 == {'a':1,'b':2} ```                                              |\n",
    "| `fromkeys(iterable[, value])`           | Create a new dict with keys from the iterable, all mapped to `value` (defaults to `None`).                            | ```d = {}.fromkeys(['x','y'], 0)  # {'x':0, 'y':0} ```                                   |\n",
    "| `get(key[, default])`                   | Return `dict[key]` if present, else `default` (defaults to `None`).                                                    | ```v = d.get('a', 0)  # returns d['a'] or 0 if 'a' not in d ```                          |\n",
    "| `items()`                               | Return a “view” of the dict’s `(key, value)` pairs.                                                                   | ```for k, v in d.items(): print(k, v)```                                                |\n",
    "| `keys()`                                | Return a “view” of the dict’s keys.                                                                                   | ```list(d.keys())  # ['a','b']```                                                        |\n",
    "| `pop(key[, default])`                   | Remove `key` and return its value; if missing, return `default` if given, else raise `KeyError`.                      | ```val = d.pop('b', None)  # removes 'b' or returns None if not present```             |\n",
    "| `popitem()`                             | Remove and return **an arbitrary** `(key, value)` pair. Raises `KeyError` if the dict is empty.                        | ```k, v = d.popitem()```                                                                 |\n",
    "| `setdefault(key[, default])`            | If `key` exists, return its value; otherwise insert it with `default` (defaults to `None`) and return `default`.      | ```v = d.setdefault('c', 3)  # adds 'c':3 if missing, else returns existing d['c']```    |\n",
    "| `update([other])`                       | Update the dict, adding/updating pairs from another mapping or iterable of pairs.                                      | ```d.update({'a':10, 'd':4})  # merges keys/values into d```                             |\n",
    "| `values()`                              | Return a “view” of the dict’s values.                                                                                 | ```list(d.values())  # [1, 10, 4]```                                                     |\n",
    "\n",
    "\n",
    "> **Tip:** Besides these methods, you can always use bracket-notation (`d[key]`, `del d[key]`) and comprehensions (`{k:v for …}`).\n"
   ]
  },
  {
   "cell_type": "markdown",
   "id": "9f4a48a9",
   "metadata": {},
   "source": []
  },
  {
   "cell_type": "code",
   "execution_count": null,
   "id": "ee1bfe40",
   "metadata": {},
   "outputs": [],
   "source": [
    "# To represent a group of objects as key-value pairs\n",
    "\n",
    "# Properties:\n",
    "#     key-value pairs\n",
    "#     key should be unique, but values can be duplicates\n",
    "#     Insertion order is not preserved. It is based on hashcode of keys\n",
    "#     Indexing and slicing are not allowed\n",
    "#     Hetrogenous objects are allowed for keys and values\n",
    "#     It is mutable\n",
    "#     Dynamic in nature\n",
    "    \n",
    "# Syntax:\n",
    "#     d = {k1:v1, k2:v2}\n",
    "\n",
    "# When trying to add a duplicate key, then the existing value of that key is replaced by the new entry\n",
    "    \n"
   ]
  },
  {
   "cell_type": "code",
   "execution_count": null,
   "id": "d74e6e4a",
   "metadata": {},
   "outputs": [],
   "source": [
    "l = [(100,'A'), (200, 'B'), (300, 'C')] # List of tuples / List of lists / tuple of tuples\n",
    "# But set of lists is not possible. Inside set elements are added based on hash code. But list is unhashable. List objects cannot be added to set\n",
    "d = dict(l)\n",
    "print(d)"
   ]
  },
  {
   "cell_type": "code",
   "execution_count": null,
   "id": "bf18e205",
   "metadata": {},
   "outputs": [],
   "source": [
    "d = eval(input(\"Enter dictionary\"))\n",
    "print(d)"
   ]
  },
  {
   "cell_type": "code",
   "execution_count": 1,
   "id": "2a72c7f1",
   "metadata": {},
   "outputs": [
    {
     "ename": "KeyError",
     "evalue": "700",
     "output_type": "error",
     "traceback": [
      "\u001b[0;31m---------------------------------------------------------------------------\u001b[0m",
      "\u001b[0;31mKeyError\u001b[0m                                  Traceback (most recent call last)",
      "Input \u001b[0;32mIn [1]\u001b[0m, in \u001b[0;36m<cell line: 3>\u001b[0;34m()\u001b[0m\n\u001b[1;32m      1\u001b[0m d \u001b[38;5;241m=\u001b[39m {\u001b[38;5;241m100\u001b[39m: \u001b[38;5;124m'\u001b[39m\u001b[38;5;124mGuru\u001b[39m\u001b[38;5;124m'\u001b[39m, \u001b[38;5;241m200\u001b[39m: \u001b[38;5;124m'\u001b[39m\u001b[38;5;124mSidarth\u001b[39m\u001b[38;5;124m'\u001b[39m, \u001b[38;5;241m300\u001b[39m: \u001b[38;5;124m'\u001b[39m\u001b[38;5;124mHarinee\u001b[39m\u001b[38;5;124m'\u001b[39m}\n\u001b[1;32m      2\u001b[0m d[\u001b[38;5;241m100\u001b[39m]\n\u001b[0;32m----> 3\u001b[0m \u001b[43md\u001b[49m\u001b[43m[\u001b[49m\u001b[38;5;241;43m700\u001b[39;49m\u001b[43m]\u001b[49m\n",
      "\u001b[0;31mKeyError\u001b[0m: 700"
     ]
    }
   ],
   "source": [
    "d = {100: 'Guru', 200: 'Sidarth', 300: 'Harinee'}\n",
    "d[100]\n",
    "d[700]"
   ]
  },
  {
   "cell_type": "code",
   "execution_count": null,
   "id": "cde6a3d8",
   "metadata": {},
   "outputs": [],
   "source": [
    "# Avoiding the above key error\n",
    "k = int(input(\"Enter the key to search\"))\n",
    "\n",
    "if not k in d:\n",
    "    print(\"Entered is not found\")\n"
   ]
  },
  {
   "cell_type": "code",
   "execution_count": null,
   "id": "6d162415",
   "metadata": {},
   "outputs": [],
   "source": [
    "# Save students name and marks into a dict and display it in table format\n",
    "n = int(input(\"Enter the number of students to save\"))\n",
    "d = {}\n",
    "for i in range(n):\n",
    "    name = input(\"Enter name:\")\n",
    "    marks = int(input(\"Enter marks:\"))\n",
    "    d[name] = marks\n",
    "\n",
    "print(d)"
   ]
  },
  {
   "cell_type": "code",
   "execution_count": null,
   "id": "edeab3d4",
   "metadata": {},
   "outputs": [],
   "source": [
    "# Mathematical Equality, Relational and Membership operators for dict\n",
    "\n",
    "d1 = {100: 'A', 200: 'B'}\n",
    "d2 = {300: 'C', 400: 'D'}\n",
    "d3 = {200: 'B', 100: 'A'}"
   ]
  },
  {
   "cell_type": "code",
   "execution_count": null,
   "id": "8d58438b",
   "metadata": {},
   "outputs": [],
   "source": [
    "d1 + d2"
   ]
  },
  {
   "cell_type": "code",
   "execution_count": null,
   "id": "89a1041c",
   "metadata": {},
   "outputs": [],
   "source": [
    "d1 * d2"
   ]
  },
  {
   "cell_type": "code",
   "execution_count": null,
   "id": "909f9666",
   "metadata": {},
   "outputs": [],
   "source": [
    "d1 == d2"
   ]
  },
  {
   "cell_type": "code",
   "execution_count": null,
   "id": "055665eb",
   "metadata": {},
   "outputs": [],
   "source": [
    "d1 == d3"
   ]
  },
  {
   "cell_type": "code",
   "execution_count": null,
   "id": "61ed92ed",
   "metadata": {},
   "outputs": [],
   "source": [
    "# Methods and functions in dict: len(), get() and update()\n",
    "print(len(d))\n",
    "print(d.get(400)) # Returns none when key not found as oppesed to d[key] where we get keyerror\n",
    "d[400]"
   ]
  },
  {
   "cell_type": "code",
   "execution_count": 2,
   "id": "25313b4c",
   "metadata": {},
   "outputs": [
    {
     "data": {
      "text/plain": [
       "'Default Value'"
      ]
     },
     "execution_count": 2,
     "metadata": {},
     "output_type": "execute_result"
    }
   ],
   "source": [
    "# Another use if d.get(key)\n",
    "# d.get(key, default_value)\n",
    "d.get(400, \"Default Value\")"
   ]
  },
  {
   "cell_type": "code",
   "execution_count": null,
   "id": "5bade013",
   "metadata": {},
   "outputs": [],
   "source": [
    "# update()\n",
    "d1.update(d2)\n",
    "print(d1)"
   ]
  },
  {
   "cell_type": "code",
   "execution_count": null,
   "id": "ebb002e5",
   "metadata": {},
   "outputs": [],
   "source": [
    "# Methods and functions for dict: keys(), values() and items()\n",
    "keys = d1.keys()\n",
    "for key in keys:\n",
    "    print(key)\n",
    "\n",
    "values = d1.values()\n",
    "for value in values:\n",
    "    print(value)\n",
    "\n",
    "items = d1.items()\n",
    "for item in items:\n",
    "    print(item)"
   ]
  },
  {
   "cell_type": "code",
   "execution_count": null,
   "id": "a52b2205",
   "metadata": {},
   "outputs": [],
   "source": [
    "# Convert two lists into a dictionary\n",
    "keys = ['Ten', 'Twenty', 'Thirty']\n",
    "values = [10, 20, 30]\n",
    "\n",
    "d = {}\n",
    "\n",
    "for i in keys:\n",
    "    for j in values:\n",
    "        d[i] = j\n",
    "\n",
    "print(d)"
   ]
  },
  {
   "cell_type": "code",
   "execution_count": null,
   "id": "2dd5674c",
   "metadata": {},
   "outputs": [],
   "source": [
    "# Merge two Python dictionaries into one\n",
    "dict1 = {'Ten': 10, 'Twenty': 20, 'Thirty': 30}\n",
    "dict2 = {'Thirty': 30, 'Fourty': 40, 'Fifty': 50}\n",
    "dict3 = {}\n",
    "\n",
    "for k,v in dict1.items():\n",
    "    dict3[k] = v\n",
    "\n",
    "for k,v in dict2.items():\n",
    "    dict3[k] = v\n",
    "\n",
    "print(dict3)\n"
   ]
  },
  {
   "cell_type": "code",
   "execution_count": null,
   "id": "c47ca82e",
   "metadata": {},
   "outputs": [],
   "source": [
    "# Create a dictionary by extracting the keys from a given dictionary\n",
    "sample_dict = {\n",
    "    \"name\": \"Kelly\",\n",
    "    \"age\": 25,\n",
    "    \"salary\": 8000,\n",
    "    \"city\": \"New york\"}\n",
    "\n",
    "# Keys to extract\n",
    "keys = [\"name\", \"salary\"]\n",
    "\n",
    "new_d = {}\n",
    "\n",
    "for k, v in sample_dict.items():\n",
    "    if k in keys:\n",
    "        new_d[k] = v\n",
    "\n",
    "print(new_d)"
   ]
  },
  {
   "cell_type": "code",
   "execution_count": null,
   "id": "cea669f7",
   "metadata": {},
   "outputs": [],
   "source": [
    "# Delete a list of keys from a dictionary\n",
    "sample_dict = {\n",
    "    \"name\": \"Kelly\",\n",
    "    \"age\": 25,\n",
    "    \"salary\": 8000,\n",
    "    \"city\": \"New york\"\n",
    "}\n",
    "\n",
    "# Keys to remove\n",
    "keys = [\"name\", \"salary\"]\n",
    "\n",
    "for k in keys:\n",
    "    sample_dict.pop(k)\n",
    "\n",
    "sample_dict"
   ]
  },
  {
   "cell_type": "code",
   "execution_count": null,
   "id": "f976baaf",
   "metadata": {},
   "outputs": [],
   "source": [
    "# Sort Dictionary By Key in Python\n",
    "\n",
    "myDict = {'ravi': 10, 'rajnish': 9,\n",
    "        'sanjeev': 15, 'yash': 2, 'suraj': 32}\n",
    "d = {}\n",
    "l = []\n",
    "\n",
    "for k,v in myDict.items():\n",
    "    l.append(k)\n",
    "\n",
    "l.sort()\n",
    "\n",
    "for i in l:\n",
    "    d[i] = myDict[i]\n",
    "\n",
    "print(d)"
   ]
  },
  {
   "cell_type": "code",
   "execution_count": null,
   "id": "6a869c84",
   "metadata": {},
   "outputs": [],
   "source": [
    "# Write a program to generate a dictionary that contains (i, i*i) such that is an integral number between 1 and n (both included). \n",
    "# and then the program should print the dictionary.\n",
    "n = 8\n",
    "d = {}\n",
    "\n",
    "for i in range(1, n+1):\n",
    "    d[i] = i*i\n",
    "\n",
    "print(d)"
   ]
  },
  {
   "cell_type": "code",
   "execution_count": 7,
   "id": "c312b819",
   "metadata": {},
   "outputs": [
    {
     "name": "stdout",
     "output_type": "stream",
     "text": [
      "{'b': 2, 'd': 3, 'j': 6, 'v': 2, 'k': 4, 'x': 1, ' ': 1, 'f': 2, 'g': 1}\n"
     ]
    }
   ],
   "source": [
    "# Write a code for print each character count for given String.\n",
    "s = input(\"Enter the string : \")\n",
    "d = {}\n",
    "\n",
    "for ch in s:\n",
    "    k = d.keys()\n",
    "    if ch in k:\n",
    "        d[ch] = d[ch]+1\n",
    "    else:\n",
    "        d[ch] = 1\n",
    "\n",
    "print(d)"
   ]
  },
  {
   "cell_type": "code",
   "execution_count": 8,
   "id": "848d5d38",
   "metadata": {},
   "outputs": [
    {
     "name": "stdout",
     "output_type": "stream",
     "text": [
      "{'g': 1, 'u': 2, 'r': 1}\n"
     ]
    }
   ],
   "source": [
    "# Write a code for print each character count for given String.\n",
    "s = input(\"Enter the string : \")\n",
    "d = {}\n",
    "\n",
    "for ch in s:\n",
    "    d[ch] = d.get(ch, 0) + 1\n",
    "\n",
    "print(d)"
   ]
  },
  {
   "cell_type": "code",
   "execution_count": 5,
   "id": "d5ec4235",
   "metadata": {},
   "outputs": [
    {
     "name": "stdout",
     "output_type": "stream",
     "text": [
      "g occurs 1 times\n"
     ]
    }
   ],
   "source": [
    "# Write a Program for get given character count for given String\n",
    "#     input  -> 'testleaf'\n",
    "#     input  -> 'e'\n",
    "#     output -> {'e': 2}\n",
    "\n",
    "s = input(\"Enter the string: \")\n",
    "n = input(\"Enter the letter: \")\n",
    "d = {}\n",
    "\n",
    "for ch in s:\n",
    "    d[ch] = d.get(ch, 0) + 1\n",
    "\n",
    "\n",
    "for k, v in d.items():\n",
    "    if n == k:\n",
    "        print(f\"{k} occurs {v} times\")"
   ]
  },
  {
   "cell_type": "code",
   "execution_count": null,
   "id": "b4b02703",
   "metadata": {},
   "outputs": [
    {
     "name": "stdout",
     "output_type": "stream",
     "text": [
      "{'Data': 2, 'hello': 1}\n"
     ]
    }
   ],
   "source": [
    "# Write a code for print each word count for given String.\n",
    "\n",
    "#     input  -> \"Data hello Data\";\n",
    "#     output -> \"{'Data': 2, 'hello': 1}\"\n",
    "\n",
    "s = input(\"Enter the sentence:\")\n",
    "l = s.split()\n",
    "d = {}\n",
    "\n",
    "for word in l:\n",
    "    d[word] = d.get(word, 0) + 1\n",
    "\n",
    "print(d)"
   ]
  },
  {
   "cell_type": "code",
   "execution_count": null,
   "id": "a7c3fdb5",
   "metadata": {},
   "outputs": [],
   "source": []
  }
 ],
 "metadata": {
  "kernelspec": {
   "display_name": "base",
   "language": "python",
   "name": "python3"
  },
  "language_info": {
   "codemirror_mode": {
    "name": "ipython",
    "version": 3
   },
   "file_extension": ".py",
   "mimetype": "text/x-python",
   "name": "python",
   "nbconvert_exporter": "python",
   "pygments_lexer": "ipython3",
   "version": "3.9.12"
  }
 },
 "nbformat": 4,
 "nbformat_minor": 5
}
