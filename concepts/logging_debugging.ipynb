{
 "cells": [
  {
   "cell_type": "code",
   "execution_count": 1,
   "id": "6cccb6df",
   "metadata": {},
   "outputs": [],
   "source": [
    "# https://www.youtube.com/watch?v=ImnBd_2ta3U&list=PL6X5MDnC9oqOrCtwCxo3VsVMbLpNW7SkK&index=53\n",
    "    \n",
    "# - Debugging is simplified through logging\n",
    "# - Provides statistics using log file\n",
    "\n",
    "# Logging levels:\n",
    "#     CRITICAL - 50\n",
    "#     ERROR - 40\n",
    "#     WARNING - 30\n",
    "#     INFO - 20\n",
    "#     DEBUG - 10\n",
    "#     NOTSET - 0\n",
    "\n",
    "# By default warning or higher levels will be displayed"
   ]
  },
  {
   "cell_type": "code",
   "execution_count": 2,
   "id": "fcdc0791",
   "metadata": {},
   "outputs": [],
   "source": [
    "# Logging implementation:\n",
    "#     Name of the file\n",
    "#     Level messages to be displayed\n",
    "\n",
    "# basicConfig() of logging module is used to do the above steps\n",
    "\n",
    "# logging.basicConfig(filename='log.txt', level=logging.WARNING)\n",
    "# logging.debug(message)\n",
    "# logging.info(message)\n",
    "# logging.warning(message)\n",
    "# logging.error(message)\n",
    "# logging.critical(message)"
   ]
  },
  {
   "cell_type": "code",
   "execution_count": 1,
   "id": "55fe7a96",
   "metadata": {},
   "outputs": [
    {
     "name": "stdout",
     "output_type": "stream",
     "text": [
      "Python logging demo\n"
     ]
    }
   ],
   "source": [
    "# Create log file and write warning and higher level message\n",
    "\n",
    "import logging\n",
    "logging.basicConfig(filename='log.txt', level=logging.WARNING)\n",
    "print(\"Python logging demo\")\n",
    "logging.debug(\"Debug message\")\n",
    "logging.info(\"Info message\")\n",
    "logging.warning(\"Warning message\")\n",
    "logging.error(\"Error message\")\n",
    "logging.critical(\"Critical message\")\n",
    "# To catch python exception information we can use logging.exception(msg) method\n",
    "# logging.exception(msg)"
   ]
  },
  {
   "cell_type": "code",
   "execution_count": 2,
   "id": "f5a06831",
   "metadata": {},
   "outputs": [
    {
     "name": "stdout",
     "output_type": "stream",
     "text": [
      "Python logging demo\n",
      "Enter first number: fdsfds\n",
      "Enter only int values\n"
     ]
    }
   ],
   "source": [
    "import logging\n",
    "logging.basicConfig(filename='log.txt', level=logging.WARNING)\n",
    "print(\"Python logging demo\")\n",
    "try:\n",
    "    x = int(input(\"Enter first number: \"))\n",
    "    y = int(input(\"Enter second number: \"))\n",
    "    print(x/y)\n",
    "except ZeroDivisionError as msg:\n",
    "    print(\"Cannot divide by zero\")\n",
    "    logging.exception(msg)\n",
    "\n",
    "except ValueError as msg:\n",
    "    print(\"Enter only int values\")\n",
    "    logging.exception(msg)"
   ]
  },
  {
   "cell_type": "code",
   "execution_count": 3,
   "id": "19e8f05e",
   "metadata": {},
   "outputs": [],
   "source": [
    "# Assert\n",
    "# Types:\n",
    "#     Simple Version\n",
    "#     Very simple version (Augmented version"
   ]
  },
  {
   "cell_type": "code",
   "execution_count": 8,
   "id": "fb08b118",
   "metadata": {},
   "outputs": [
    {
     "name": "stdout",
     "output_type": "stream",
     "text": [
      "2\n",
      "3\n",
      "4\n"
     ]
    }
   ],
   "source": [
    "def squareIt(x):\n",
    "    return x**2\n",
    "\n",
    "assert squareIt(2) == 4, \"Square of 2 should be 4\"\n",
    "assert squareIt(3) == 9, \"Square of 3 should be 9\"\n",
    "\n",
    "print(2)\n",
    "print(3)\n",
    "print(4)"
   ]
  },
  {
   "cell_type": "code",
   "execution_count": null,
   "id": "4f351ea9",
   "metadata": {},
   "outputs": [],
   "source": []
  }
 ],
 "metadata": {
  "kernelspec": {
   "display_name": "base",
   "language": "python",
   "name": "python3"
  },
  "language_info": {
   "codemirror_mode": {
    "name": "ipython",
    "version": 3
   },
   "file_extension": ".py",
   "mimetype": "text/x-python",
   "name": "python",
   "nbconvert_exporter": "python",
   "pygments_lexer": "ipython3",
   "version": "3.9.12"
  }
 },
 "nbformat": 4,
 "nbformat_minor": 5
}
