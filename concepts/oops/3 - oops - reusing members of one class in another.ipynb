{
 "cells": [
  {
   "cell_type": "code",
   "execution_count": 30,
   "id": "984e6123",
   "metadata": {},
   "outputs": [],
   "source": [
    "# Employee Has-A relationship to Car - Composition\n",
    "# Employees Is-A relation to Person - Inheritance\n",
    "\n",
    "class Car:\n",
    "    def __init__(self, name, model, color):\n",
    "        self.name = name\n",
    "        self.model = model\n",
    "        self.color = color\n",
    "        \n",
    "    def get_info(self):\n",
    "        print(\"Employee Car info:\")\n",
    "        print(f\"Car Name: {self.name}\")\n",
    "        print(f\"Model: {self.model}\")\n",
    "        print(f\"Color: {self.color}\")\n",
    "        \n",
    "class Person:\n",
    "    def __init__(self, name, age):\n",
    "        self.name = name\n",
    "        self.age = age\n",
    "    \n",
    "    def eat_n_drink(self):\n",
    "        print(\"Eating!!! and Drinking!!!\")\n",
    "        \n",
    "class Employee(Person):\n",
    "    def __init__(self, name, age, eno, esal, car):\n",
    "#         self.name = name\n",
    "#         self.age = age\n",
    "        super().__init__(name, age)\n",
    "        self.eno = eno\n",
    "        self.esal = esal\n",
    "        self.car = car\n",
    "        \n",
    "    def work(self):\n",
    "        print(\"Python programming\")\n",
    "        \n",
    "    def emp_info(self):\n",
    "        print(\"Employee Info\")\n",
    "        print(f\"Employee Name: {self.name}\")\n",
    "        print(f\"Employee Age: {self.age}\")\n",
    "        print(f\"Employee Number: {self.eno}\")\n",
    "        print(f\"Employee Salary: {self.esal}\")\n",
    "        self.car.get_info()\n",
    "        "
   ]
  },
  {
   "cell_type": "code",
   "execution_count": 31,
   "id": "0727feff",
   "metadata": {},
   "outputs": [
    {
     "name": "stdout",
     "output_type": "stream",
     "text": [
      "Python programming\n",
      "Employee Info\n",
      "Employee Name: Guru\n",
      "Employee Age: 31\n",
      "Employee Number: 1234\n",
      "Employee Salary: 2L\n",
      "Employee Car info:\n",
      "Car Name: Honda\n",
      "Model: City\n",
      "Color: Red\n"
     ]
    }
   ],
   "source": [
    "car = Car(\"Honda\", \"City\", \"Red\")\n",
    "e = Employee(\"Guru\", 31, 1234, \"2L\", car)\n",
    "\n",
    "e.work()\n",
    "e.emp_info()"
   ]
  },
  {
   "cell_type": "code",
   "execution_count": 32,
   "id": "3a20e18c",
   "metadata": {},
   "outputs": [],
   "source": [
    "# super()\n",
    "\n",
    "class P:\n",
    "    def __init__(self, name, age, ht, wt):\n",
    "        self.name = name\n",
    "        self.age = age\n",
    "        self.ht = ht\n",
    "        self.wt = wt\n",
    "        \n",
    "    def display(self):\n",
    "        print(f\"Person Name: {self.name}\")\n",
    "        print(f\"Person Age: {self.age}\")\n",
    "        print(f\"Person Height: {self.ht}\")\n",
    "        print(f\"Person Weight: {self.wt}\")\n",
    "        \n",
    "class C(P):\n",
    "    def __init__(self, name, age, ht, wt, rollno, marks):\n",
    "        super().__init__(name, age, ht, wt)\n",
    "        self.rollno = rollno\n",
    "        self.marks = marks\n",
    "        \n",
    "    def display(self):\n",
    "        super().display()\n",
    "        print(f\"Person Rollno: {self.rollno}\")\n",
    "        print(f\"Person Marks: {self.marks}\")"
   ]
  },
  {
   "cell_type": "code",
   "execution_count": 34,
   "id": "78b1065c",
   "metadata": {},
   "outputs": [
    {
     "name": "stdout",
     "output_type": "stream",
     "text": [
      "Person Name: Guru\n",
      "Person Age: 32\n",
      "Person Height: 6\n",
      "Person Weight: 83\n",
      "Person Rollno: 1234\n",
      "Person Marks: 100\n"
     ]
    }
   ],
   "source": [
    "c = C(\"Guru\", 32, 6,83, 1234, 100)\n",
    "c.display()"
   ]
  },
  {
   "cell_type": "code",
   "execution_count": null,
   "id": "2a72f0aa",
   "metadata": {},
   "outputs": [],
   "source": []
  }
 ],
 "metadata": {
  "kernelspec": {
   "display_name": "Python 3 (ipykernel)",
   "language": "python",
   "name": "python3"
  },
  "language_info": {
   "codemirror_mode": {
    "name": "ipython",
    "version": 3
   },
   "file_extension": ".py",
   "mimetype": "text/x-python",
   "name": "python",
   "nbconvert_exporter": "python",
   "pygments_lexer": "ipython3",
   "version": "3.9.12"
  }
 },
 "nbformat": 4,
 "nbformat_minor": 5
}
