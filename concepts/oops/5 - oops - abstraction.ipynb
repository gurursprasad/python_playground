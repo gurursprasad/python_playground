{
 "cells": [
  {
   "cell_type": "code",
   "execution_count": 4,
   "id": "bebe91e1",
   "metadata": {},
   "outputs": [
    {
     "data": {
      "text/plain": [
       "'Child class implementation'"
      ]
     },
     "execution_count": 4,
     "metadata": {},
     "output_type": "execute_result"
    }
   ],
   "source": [
    "# - Abstract method\n",
    "# - Abstract class\n",
    "# - Interface\n",
    "\n",
    "# A method with only definition and no implementation is called abstract method\n",
    "\n",
    "from abc import abstractmethod\n",
    "class Test:\n",
    "    @abstractmethod\n",
    "    def m1(self):\n",
    "        pass\n",
    "    \n",
    "# A class with incomplete implementation is called abstract class. Every abstract class should be a child of ABC class\n",
    "\n",
    "from abc import ABC, abstractmethod\n",
    "class Test(ABC):\n",
    "    @abstractmethod\n",
    "    def m1(self):\n",
    "        pass\n",
    "    \n",
    "# Child classes are responsible for providing implementation to these classes\n",
    "\n",
    "class Bus(Test):\n",
    "    def m1(self):\n",
    "        return f\"Child class implementation\"\n",
    "    \n",
    "b = Bus()\n",
    "b.m1()\n",
    "\n",
    "# Conclusions:\n",
    "#     If an abstract class contains atlease 1 abstract method, then object instantioations is not possible\n",
    "#     If we are creating a child class for every abstract method, we should provide implementation for every abs method\n",
    "\n",
    "# Officially interface is absent in python. But using abstract method we can achieve interfaces in python. An interface\n",
    "# is a class that has only abstract methods"
   ]
  },
  {
   "cell_type": "code",
   "execution_count": 17,
   "id": "38b7df5a",
   "metadata": {},
   "outputs": [
    {
     "name": "stdout",
     "output_type": "stream",
     "text": [
      "10\n"
     ]
    }
   ],
   "source": [
    "# Public, Private and Protected members:\n",
    "#     By default all members inside a class are public. Adding \"__\" as prefix, makes it private. It can only be accessed\n",
    "#     inside a class.\n",
    "    \n",
    "class Test:\n",
    "    def __init__(self):\n",
    "        self.__x = 10\n",
    "        \n",
    "    def __m1(self):\n",
    "        return f\"Private Method\"\n",
    "    \n",
    "    def m2(self):\n",
    "        print(self.__x)\n",
    "        self.__m1()\n",
    "\n",
    "t = Test()\n",
    "#  memeber t.__x\n",
    "# t.__m1()\n",
    "# t.m2()\n",
    "\n",
    "# To access a private member directly outside a class is possible by a concept called Name mangling. By this concept,\n",
    "# python saves a private member with a prefix \"_clasname__member\". In out case its \"_Test__x and \"_Test__m1()\"\n",
    "t._Test__x\n",
    "t._Test__m1()\n",
    "\n",
    "# Protected member can only be accessed inside a class and inside a chained class. It is prefixed by \"_\"\n",
    "class P:\n",
    "    def __init__(self):\n",
    "        self._x = 10\n",
    "        \n",
    "    def _m1(self):\n",
    "        return f\"Protected Method\"\n",
    "    \n",
    "class C(P):\n",
    "    def m2(self):\n",
    "        print(self._x)\n",
    "        self._m1()\n",
    "\n",
    "c = C()\n",
    "c.m2()"
   ]
  },
  {
   "cell_type": "code",
   "execution_count": null,
   "id": "adc375ce",
   "metadata": {},
   "outputs": [],
   "source": []
  }
 ],
 "metadata": {
  "kernelspec": {
   "display_name": "Python 3 (ipykernel)",
   "language": "python",
   "name": "python3"
  },
  "language_info": {
   "codemirror_mode": {
    "name": "ipython",
    "version": 3
   },
   "file_extension": ".py",
   "mimetype": "text/x-python",
   "name": "python",
   "nbconvert_exporter": "python",
   "pygments_lexer": "ipython3",
   "version": "3.9.12"
  }
 },
 "nbformat": 4,
 "nbformat_minor": 5
}
