{
 "cells": [
  {
   "cell_type": "code",
   "execution_count": 1,
   "id": "37eb85a4",
   "metadata": {},
   "outputs": [],
   "source": [
    "# https://www.youtube.com/watch?v=ark2VQUZvAA&list=PLvRRU_krnBdZTLO3OvbkFcHT_ORHka2Ue&index=1\n",
    "# important terms: \n",
    "#     class - blueprint(just a plan). Represents properties of data members and behaviour of object. Eg: A tv model.\n",
    "#     object - physical existance or a instance of a class(building). Eg: A single tv of a particular model.\n",
    "#     reference variable - refer an object, required to perform operatiosn on python objects. Eg: A remote to perform operations on that tv.\n",
    "    "
   ]
  },
  {
   "cell_type": "code",
   "execution_count": 2,
   "id": "8ef23aab",
   "metadata": {},
   "outputs": [],
   "source": [
    "# How to define a class?\n",
    "# class classname:\n",
    "#     variables => properties/attributes\n",
    "#     methods => actions/behaviours"
   ]
  },
  {
   "cell_type": "code",
   "execution_count": null,
   "id": "e27c6a36",
   "metadata": {},
   "outputs": [],
   "source": [
    "# Within a python class, there are three types of variables are allowed:\n",
    "#     Instance variable - Object level variables\n",
    "#     Static variable - Class level variables\n",
    "#     Local variable - Method level variables\n",
    "class MyClass:\n",
    "    # 1) Class variable\n",
    "    kind = \"widget\"\n",
    "\n",
    "    def __init__(self, value):\n",
    "        # 2) Instance variable\n",
    "        self.value = value\n",
    "\n",
    "    def compute(self):\n",
    "        # 3) Local variable\n",
    "        temp = self.value * 2\n",
    "        return f\"{self.kind}({temp})\"\n",
    "\n",
    "# Within a pyhton class, there are three types of methods are allowed:\n",
    "#     Instance methods\n",
    "#     class methods\n",
    "#     Static methods\n",
    "class MyClass:\n",
    "    # a class variable\n",
    "    counter = 0\n",
    "\n",
    "    def __init__(self, value):\n",
    "        self.value = value                  # instance variable\n",
    "        MyClass.counter += 1\n",
    "\n",
    "    def instance_method(self):\n",
    "        # can access both self.value and MyClass.counter\n",
    "        return f\"Instance has {self.value}, total created = {MyClass.counter}\"\n",
    "\n",
    "    @classmethod\n",
    "    def from_sum(cls, a, b):\n",
    "        # alternative constructor: create instance with value = a + b\n",
    "        return cls(a + b)\n",
    "\n",
    "    @staticmethod\n",
    "    def is_even(x):\n",
    "        # simple utility: knows nothing about MyClass or its instances\n",
    "        return x % 2 == 0\n",
    "\n",
    "\n",
    "# Usage:\n",
    "obj = MyClass(10)\n",
    "print(obj.instance_method())          # Instance has 10, total created = 1\n",
    "\n",
    "obj2 = MyClass.from_sum(3, 4)         # calls classmethod\n",
    "print(obj2.value)                     # 7\n",
    "\n",
    "print(MyClass.is_even(42))            # True\n",
    "\n",
    "\n",
    "# Functions defined inside class are called methods\n",
    "    "
   ]
  }
 ],
 "metadata": {
  "kernelspec": {
   "display_name": "Python 3 (ipykernel)",
   "language": "python",
   "name": "python3"
  },
  "language_info": {
   "codemirror_mode": {
    "name": "ipython",
    "version": 3
   },
   "file_extension": ".py",
   "mimetype": "text/x-python",
   "name": "python",
   "nbconvert_exporter": "python",
   "pygments_lexer": "ipython3",
   "version": "3.9.12"
  }
 },
 "nbformat": 4,
 "nbformat_minor": 5
}
