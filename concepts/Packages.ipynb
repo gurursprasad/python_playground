{
 "cells": [
  {
   "cell_type": "code",
   "execution_count": 1,
   "id": "8b5003a9",
   "metadata": {},
   "outputs": [],
   "source": [
    "# Packages in python:\n",
    "#     Its an encapsulation mechanism to group related modules into a single unit\n",
    "#     Folder/Directory that has many modules is called a package\n",
    "#     Any folder that has a special file(__init__.py) can be called as package\n",
    "#     From python 3.3 onwards it is not mandatory to have this file\n",
    "#     Package can contain sub-packages also    "
   ]
  },
  {
   "cell_type": "code",
   "execution_count": 2,
   "id": "424a5798",
   "metadata": {},
   "outputs": [],
   "source": [
    "# Advantages:\n",
    "#     We can Resolve naming conflicts\n",
    "#     Identify our components uniquely\n",
    "#     Modularity is improved\n",
    "#     Readability is improved\n",
    "#     Maintainability is improved  "
   ]
  },
  {
   "cell_type": "code",
   "execution_count": null,
   "id": "e2e9137e",
   "metadata": {},
   "outputs": [],
   "source": []
  }
 ],
 "metadata": {
  "kernelspec": {
   "display_name": "Python 3 (ipykernel)",
   "language": "python",
   "name": "python3"
  },
  "language_info": {
   "codemirror_mode": {
    "name": "ipython",
    "version": 3
   },
   "file_extension": ".py",
   "mimetype": "text/x-python",
   "name": "python",
   "nbconvert_exporter": "python",
   "pygments_lexer": "ipython3",
   "version": "3.9.12"
  }
 },
 "nbformat": 4,
 "nbformat_minor": 5
}
