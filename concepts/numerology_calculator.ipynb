{
 "cells": [
  {
   "cell_type": "code",
   "execution_count": 1,
   "id": "4b9e9b17",
   "metadata": {},
   "outputs": [],
   "source": [
    "d = {\"A\": 1, \"B\": 2, \"C\": 3, \"D\": 4, \"E\": 5, \"F\": 8, \"G\": 3, \"H\": 5, \"I\": 1, \"J\": 1, \"K\": 2, \"L\": 3, \"M\": 4, \"N\": 5, \n",
    "\"O\": 7, \"P\": 8, \"Q\": 1, \"R\": 2, \"S\": 3, \"T\": 4, \"U\": 6, \"V\": 6, \"W\": 6, \"X\": 5, \"Y\": 1, \"Z\": 7,}"
   ]
  },
  {
   "cell_type": "code",
   "execution_count": 8,
   "id": "22c8f5b2",
   "metadata": {},
   "outputs": [
    {
     "name": "stdout",
     "output_type": "stream",
     "text": [
      "Enter name: sudarshan\n",
      "30\n"
     ]
    }
   ],
   "source": [
    "s = input(\"Enter name: \")\n",
    "l = []\n",
    "name_sum = 0\n",
    "for _ in s:\n",
    "    for k, v in d.items():\n",
    "        if _.upper() == k:\n",
    "            l.append(v)\n",
    "for _ in l:\n",
    "    name_sum = name_sum + _\n",
    "    \n",
    "print(name_sum)"
   ]
  },
  {
   "cell_type": "markdown",
   "id": "f016121f",
   "metadata": {},
   "source": []
  },
  {
   "cell_type": "code",
   "execution_count": null,
   "id": "e29bc4ea",
   "metadata": {},
   "outputs": [],
   "source": []
  }
 ],
 "metadata": {
  "kernelspec": {
   "display_name": "Python 3 (ipykernel)",
   "language": "python",
   "name": "python3"
  },
  "language_info": {
   "codemirror_mode": {
    "name": "ipython",
    "version": 3
   },
   "file_extension": ".py",
   "mimetype": "text/x-python",
   "name": "python",
   "nbconvert_exporter": "python",
   "pygments_lexer": "ipython3",
   "version": "3.9.12"
  }
 },
 "nbformat": 4,
 "nbformat_minor": 5
}
