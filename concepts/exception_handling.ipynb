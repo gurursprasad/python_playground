{
 "cells": [
  {
   "cell_type": "code",
   "execution_count": 3,
   "id": "e172e382",
   "metadata": {},
   "outputs": [],
   "source": [
    "# https://www.youtube.com/watch?v=vqlLa62AVXU&list=PL6X5MDnC9oqOrCtwCxo3VsVMbLpNW7SkK&index=49\n",
    "# https://www.youtube.com/watch?v=ENrv4dmPWYI&list=PL6X5MDnC9oqOrCtwCxo3VsVMbLpNW7SkK&index=50\n",
    "# Skipping to video number 53\n",
    "\n",
    "# Two types of errors:\n",
    "#     Syntax errors\n",
    "#     Runtime errors(Logical errors)\n",
    "    \n",
    "# Exception handling: \n",
    "#     It is for runtime errors only. It occurs while running a program.\n",
    "#     Eg - print(10/0)\n",
    "#     For graceful termination of the program\n",
    "#     Defining alternatives to continue the program normally\n",
    "    \n",
    "# What is exception:\n",
    "#     Some unexpected event that disturbs the normal flow of the program\n",
    "#     Eg:\n",
    "#         ZeroDivisionError\n",
    "#         TypeError\n",
    "#         ValueError\n",
    "#         FileNotFoundError\n",
    "#         EOFError"
   ]
  },
  {
   "cell_type": "code",
   "execution_count": 4,
   "id": "13e98863",
   "metadata": {},
   "outputs": [],
   "source": [
    "# try:\n",
    "#     to read a file from a location\n",
    "# (if)except FilenotFoundError: # This is the Catch statement in python\n",
    "#     Then use a local file and continue the program execution"
   ]
  },
  {
   "cell_type": "code",
   "execution_count": 5,
   "id": "6ee88b92",
   "metadata": {},
   "outputs": [],
   "source": [
    "# Default Exception Handling:\n",
    "#     Every exception is an object in py. \n",
    "#     Seperate classes are available for every exceptions. \n",
    "#     If any exception happens python will call the class and check if any exception handling is available or not\n",
    "#     If the exception handling code is available inside the except block, it will be executed\n",
    "#     If its not present then it will terminate the program abruptly   "
   ]
  },
  {
   "cell_type": "code",
   "execution_count": null,
   "id": "edc8282b",
   "metadata": {},
   "outputs": [],
   "source": [
    "# Every exception in python is a class.\n",
    "# Exception Hierarchy:\n",
    "#     BaseException is the primary root\n",
    "#     It has childs in the below order:\n",
    "#         BaseException:\n",
    "#             Exception:\n",
    "#                 AttributeError\n",
    "#                 ArithmeticError:\n",
    "#                     ZeroDivisionError\n",
    "#                     FloatingError\n",
    "#                     OverfloeError\n",
    "#                 EOFError\n",
    "#                 NameError\n",
    "#                 LookupError:\n",
    "#                     IndexError\n",
    "#                     KeyError\n",
    "#                 OSError:\n",
    "#                     FileNotFoundError\n",
    "#                     InterruptedError\n",
    "#                     PermissionError\n",
    "#                     TimeOutError                    \n",
    "#                 TypeError\n",
    "#                 ValueError\n",
    "#             SystemExit\n",
    "#             GeneratorExit\n",
    "#             KeyBoardInterrupt       "
   ]
  },
  {
   "cell_type": "code",
   "execution_count": null,
   "id": "363f18d9",
   "metadata": {},
   "outputs": [],
   "source": [
    "# Customized Exception Handling:\n",
    "#     Code that may raise exception is defined inside try block\n",
    "#     Inside except block handling code is written\n",
    "#     try:\n",
    "#         Risky code\n",
    "#     except:\n",
    "#         Handling code   "
   ]
  },
  {
   "cell_type": "code",
   "execution_count": 1,
   "id": "8d29cb53",
   "metadata": {},
   "outputs": [
    {
     "name": "stdout",
     "output_type": "stream",
     "text": [
      "Hello\n"
     ]
    },
    {
     "ename": "ZeroDivisionError",
     "evalue": "division by zero",
     "output_type": "error",
     "traceback": [
      "\u001b[0;31m---------------------------------------------------------------------------\u001b[0m",
      "\u001b[0;31mZeroDivisionError\u001b[0m                         Traceback (most recent call last)",
      "Input \u001b[0;32mIn [1]\u001b[0m, in \u001b[0;36m<cell line: 2>\u001b[0;34m()\u001b[0m\n\u001b[1;32m      1\u001b[0m \u001b[38;5;28mprint\u001b[39m(\u001b[38;5;124m\"\u001b[39m\u001b[38;5;124mHello\u001b[39m\u001b[38;5;124m\"\u001b[39m)\n\u001b[0;32m----> 2\u001b[0m \u001b[38;5;28mprint\u001b[39m(\u001b[38;5;241;43m10\u001b[39;49m\u001b[38;5;241;43m/\u001b[39;49m\u001b[38;5;241;43m0\u001b[39;49m)\n\u001b[1;32m      3\u001b[0m \u001b[38;5;28mprint\u001b[39m(\u001b[38;5;124m\"\u001b[39m\u001b[38;5;124mHi\u001b[39m\u001b[38;5;124m\"\u001b[39m)\n",
      "\u001b[0;31mZeroDivisionError\u001b[0m: division by zero"
     ]
    }
   ],
   "source": [
    "print(\"Hello\")\n",
    "print(10/0)\n",
    "print(\"Hi\")"
   ]
  },
  {
   "cell_type": "code",
   "execution_count": 4,
   "id": "eb021a45",
   "metadata": {},
   "outputs": [
    {
     "name": "stdout",
     "output_type": "stream",
     "text": [
      "Hello\n",
      "5.0\n",
      "Hi\n"
     ]
    }
   ],
   "source": [
    "print(\"Hello\")\n",
    "try:\n",
    "    print(10/0)\n",
    "    print(\"Hiiii\")\n",
    "except BaseException:\n",
    "    print(10/2)\n",
    "print(\"Hi\")"
   ]
  },
  {
   "cell_type": "code",
   "execution_count": null,
   "id": "751a087a",
   "metadata": {},
   "outputs": [],
   "source": [
    "# Have multiple exceptions in a single except block\n",
    "# except (e1,e2,e3,...) as e:\n",
    "#     print(e)"
   ]
  },
  {
   "cell_type": "code",
   "execution_count": null,
   "id": "af310492",
   "metadata": {},
   "outputs": [],
   "source": [
    "# Cleanup code/Resource deallocation code is always written inside \"finally\" block\n",
    "# \"finally\" block is always executed whether we get exception or not"
   ]
  },
  {
   "cell_type": "code",
   "execution_count": null,
   "id": "a17fe643",
   "metadata": {},
   "outputs": [],
   "source": []
  },
  {
   "cell_type": "code",
   "execution_count": null,
   "id": "4a4aa7fd",
   "metadata": {},
   "outputs": [],
   "source": []
  }
 ],
 "metadata": {
  "kernelspec": {
   "display_name": "Python 3 (ipykernel)",
   "language": "python",
   "name": "python3"
  },
  "language_info": {
   "codemirror_mode": {
    "name": "ipython",
    "version": 3
   },
   "file_extension": ".py",
   "mimetype": "text/x-python",
   "name": "python",
   "nbconvert_exporter": "python",
   "pygments_lexer": "ipython3",
   "version": "3.9.12"
  }
 },
 "nbformat": 4,
 "nbformat_minor": 5
}
