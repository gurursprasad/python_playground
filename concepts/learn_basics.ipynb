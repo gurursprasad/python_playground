{
 "cells": [
  {
   "cell_type": "code",
   "execution_count": 1,
   "id": "0941cc52",
   "metadata": {},
   "outputs": [],
   "source": [
    "# Types of variables\n",
    "\n",
    "# Global: Global variables are declared outside of a function and can be accessed from anywhere within the code.\n",
    "\n",
    "# Local: Local variables are declared within a function and can only be accessed from within that function.\n",
    "\n",
    "# Instance: Instance variables are variables that are bound to an instance of a class. \n",
    "# They are created when an instance of the class is created and can be accessed from anywhere within the class.\n",
    "\n",
    "# Class: Class variables are variables that are bound to a class rather than an instance of the class. \n",
    "# They are created when the class is defined and can be accessed from anywhere within the class or its instances."
   ]
  },
  {
   "cell_type": "code",
   "execution_count": 4,
   "id": "ec0e2984",
   "metadata": {},
   "outputs": [],
   "source": [
    "# Global variable\n",
    "global_var = \"I am a global variable\"\n",
    "\n",
    "def function1():\n",
    "    # Local variable\n",
    "    local_var = \"I am a local variable\"\n",
    "    print(local_var)\n",
    "\n",
    "class MyClass:\n",
    "    # Class variable\n",
    "    class_var = \"I am a class variable\"\n",
    "    \n",
    "    def __init__(self):\n",
    "        # Instance variable\n",
    "        self.instance_var = \"I am an instance variable\""
   ]
  },
  {
   "cell_type": "code",
   "execution_count": 48,
   "id": "d1ee0c34",
   "metadata": {},
   "outputs": [],
   "source": [
    "class MyClass:\n",
    "    def __init__(self, name, age):\n",
    "        self.name = name\n",
    "        self.age = age\n",
    "    \n",
    "    def func1(self, name):\n",
    "        return name\n",
    "        \n",
    "    def func2(self, age):\n",
    "        return age\n",
    "        "
   ]
  },
  {
   "cell_type": "code",
   "execution_count": 49,
   "id": "e648f588",
   "metadata": {},
   "outputs": [],
   "source": [
    "c1 = MyClass('Shree1', 25)"
   ]
  },
  {
   "cell_type": "code",
   "execution_count": 50,
   "id": "8eeb43fc",
   "metadata": {},
   "outputs": [
    {
     "name": "stdout",
     "output_type": "stream",
     "text": [
      "Shree1\n"
     ]
    }
   ],
   "source": [
    "print(c1.name)"
   ]
  },
  {
   "cell_type": "code",
   "execution_count": 51,
   "id": "c71a6aac",
   "metadata": {},
   "outputs": [
    {
     "data": {
      "text/plain": [
       "'Guru'"
      ]
     },
     "execution_count": 51,
     "metadata": {},
     "output_type": "execute_result"
    }
   ],
   "source": [
    "c1.func1('Guru')"
   ]
  },
  {
   "cell_type": "code",
   "execution_count": 52,
   "id": "9371bf2a",
   "metadata": {},
   "outputs": [
    {
     "data": {
      "text/plain": [
       "30"
      ]
     },
     "execution_count": 52,
     "metadata": {},
     "output_type": "execute_result"
    }
   ],
   "source": [
    "c1.func2(30)"
   ]
  },
  {
   "cell_type": "code",
   "execution_count": 1,
   "id": "6a337ac1",
   "metadata": {},
   "outputs": [],
   "source": [
    "class BankStatement:\n",
    "    def __init__(self, accNum, balance):\n",
    "        self.accNum = accNum\n",
    "        self.balance = balance\n",
    "        \n",
    "    def deposit(self, amount):\n",
    "        self.balance = self.balance + amount\n",
    "        \n",
    "    def withdraw(self, amount):\n",
    "        if self.balance >= amount:\n",
    "            self.balance = self.balance - amount\n",
    "        else:\n",
    "            print(\"Insufficient funds\")\n",
    "            \n",
    "    def get_balance(self):\n",
    "        return self.balance\n",
    "    \n",
    "    def __str__(self):\n",
    "        return f\"Account number {selfaccNum} has a balance of {self.balance}\" \n",
    "    "
   ]
  },
  {
   "cell_type": "code",
   "execution_count": 2,
   "id": "59ec0ed6",
   "metadata": {},
   "outputs": [],
   "source": [
    "b1 = BankStatement(\"55167989\", 10000)"
   ]
  },
  {
   "cell_type": "code",
   "execution_count": 3,
   "id": "3096d441",
   "metadata": {},
   "outputs": [],
   "source": [
    "b1.deposit(500)"
   ]
  },
  {
   "cell_type": "code",
   "execution_count": 4,
   "id": "f5443784",
   "metadata": {},
   "outputs": [
    {
     "data": {
      "text/plain": [
       "10500"
      ]
     },
     "execution_count": 4,
     "metadata": {},
     "output_type": "execute_result"
    }
   ],
   "source": [
    "b1.get_balance()"
   ]
  },
  {
   "cell_type": "code",
   "execution_count": 57,
   "id": "498cf690",
   "metadata": {},
   "outputs": [],
   "source": [
    "b1.withdraw(600)"
   ]
  },
  {
   "cell_type": "code",
   "execution_count": 58,
   "id": "deb610bd",
   "metadata": {},
   "outputs": [
    {
     "data": {
      "text/plain": [
       "9900"
      ]
     },
     "execution_count": 58,
     "metadata": {},
     "output_type": "execute_result"
    }
   ],
   "source": [
    "b1.get_balance()"
   ]
  },
  {
   "cell_type": "code",
   "execution_count": 59,
   "id": "883213d8",
   "metadata": {},
   "outputs": [
    {
     "name": "stdout",
     "output_type": "stream",
     "text": [
      "Account number 55167989 has a balance of 9900\n"
     ]
    }
   ],
   "source": [
    "print(b1)"
   ]
  },
  {
   "cell_type": "code",
   "execution_count": 134,
   "id": "a9169622",
   "metadata": {},
   "outputs": [],
   "source": [
    "class ArgTypes:\n",
    "    def __init__(self, a, b, c, d, e=0, *args, **kwargs):\n",
    "        self.a = a\n",
    "        self.b = b\n",
    "        self.c = c\n",
    "        self.d = d\n",
    "        self.e = e\n",
    "        self.my_list = list(args)\n",
    "        self.d = dict(kwargs)\n",
    "        \n",
    "    def posArg(self, a,b):\n",
    "        return self.a+self.b\n",
    "    \n",
    "    def keyWordArg(self, c, d):\n",
    "        return self.c+self.d\n",
    "    \n",
    "    def defaultArg(self, c, e):\n",
    "        return str(self.c) + self.e\n",
    "    \n",
    "    def varLenArg(self, *args):\n",
    "        sum = 0\n",
    "        for arg in self.my_list:\n",
    "            sum = sum + arg\n",
    "        return sum\n",
    "    \n",
    "    def keyWordVarLenArg(self, **kwargs):\n",
    "        d = {}\n",
    "        for k,v in self.d.items():\n",
    "            d[k] = v\n",
    "        return d\n",
    "            "
   ]
  },
  {
   "cell_type": "code",
   "execution_count": 83,
   "id": "a2e208d0",
   "metadata": {},
   "outputs": [
    {
     "ename": "TypeError",
     "evalue": "__init__() missing 1 required positional argument: 'd'",
     "output_type": "error",
     "traceback": [
      "\u001b[0;31m---------------------------------------------------------------------------\u001b[0m",
      "\u001b[0;31mTypeError\u001b[0m                                 Traceback (most recent call last)",
      "Input \u001b[0;32mIn [83]\u001b[0m, in \u001b[0;36m<cell line: 1>\u001b[0;34m()\u001b[0m\n\u001b[0;32m----> 1\u001b[0m a \u001b[38;5;241m=\u001b[39m \u001b[43mArgTypes\u001b[49m\u001b[43m(\u001b[49m\u001b[38;5;241;43m1\u001b[39;49m\u001b[43m,\u001b[49m\u001b[38;5;241;43m1\u001b[39;49m\u001b[43m,\u001b[49m\u001b[38;5;241;43m1\u001b[39;49m\u001b[43m)\u001b[49m\n",
      "\u001b[0;31mTypeError\u001b[0m: __init__() missing 1 required positional argument: 'd'"
     ]
    }
   ],
   "source": [
    "a = ArgTypes(1,1,1)"
   ]
  },
  {
   "cell_type": "code",
   "execution_count": 77,
   "id": "cec6acdc",
   "metadata": {},
   "outputs": [
    {
     "data": {
      "text/plain": [
       "5"
      ]
     },
     "execution_count": 77,
     "metadata": {},
     "output_type": "execute_result"
    }
   ],
   "source": [
    "a.posArg(2,3)"
   ]
  },
  {
   "cell_type": "code",
   "execution_count": 78,
   "id": "dc16634e",
   "metadata": {},
   "outputs": [
    {
     "data": {
      "text/plain": [
       "'5Guru'"
      ]
     },
     "execution_count": 78,
     "metadata": {},
     "output_type": "execute_result"
    }
   ],
   "source": [
    "a.defaultArg(5)"
   ]
  },
  {
   "cell_type": "code",
   "execution_count": 79,
   "id": "3a6f6314",
   "metadata": {},
   "outputs": [
    {
     "data": {
      "text/plain": [
       "8"
      ]
     },
     "execution_count": 79,
     "metadata": {},
     "output_type": "execute_result"
    }
   ],
   "source": [
    "a.keyWordArg(c=4, d=4)"
   ]
  },
  {
   "cell_type": "code",
   "execution_count": 80,
   "id": "3a47fdb9",
   "metadata": {},
   "outputs": [
    {
     "data": {
      "text/plain": [
       "10"
      ]
     },
     "execution_count": 80,
     "metadata": {},
     "output_type": "execute_result"
    }
   ],
   "source": [
    "a.varLenArg(1,2,3,4)"
   ]
  },
  {
   "cell_type": "code",
   "execution_count": 81,
   "id": "dfbb0043",
   "metadata": {},
   "outputs": [
    {
     "data": {
      "text/plain": [
       "{'name': 'Guru', 'age': '30'}"
      ]
     },
     "execution_count": 81,
     "metadata": {},
     "output_type": "execute_result"
    }
   ],
   "source": [
    "a.keyWordVarLenArg(name='Guru', age='30')"
   ]
  },
  {
   "cell_type": "code",
   "execution_count": 135,
   "id": "42947872",
   "metadata": {},
   "outputs": [],
   "source": [
    "# # def __init__(self, a, b, c, d, e='Guru', *args, **kwargs)\n",
    " \n",
    "b = ArgTypes(1,2,3,4,  1,2,3,4,  name='Guru', age='30')"
   ]
  },
  {
   "cell_type": "code",
   "execution_count": 128,
   "id": "46adff6c",
   "metadata": {},
   "outputs": [
    {
     "data": {
      "text/plain": [
       "9"
      ]
     },
     "execution_count": 128,
     "metadata": {},
     "output_type": "execute_result"
    }
   ],
   "source": [
    "b.varLenArg(1,1,1,1,1)"
   ]
  },
  {
   "cell_type": "code",
   "execution_count": 136,
   "id": "b5f30118",
   "metadata": {},
   "outputs": [
    {
     "data": {
      "text/plain": [
       "{'name': 'Guru', 'age': '30'}"
      ]
     },
     "execution_count": 136,
     "metadata": {},
     "output_type": "execute_result"
    }
   ],
   "source": [
    "b.keyWordVarLenArg()"
   ]
  },
  {
   "cell_type": "code",
   "execution_count": 137,
   "id": "f8a5aa1d",
   "metadata": {},
   "outputs": [],
   "source": [
    "# Types of functions"
   ]
  },
  {
   "cell_type": "code",
   "execution_count": 143,
   "id": "8d2a9acd",
   "metadata": {},
   "outputs": [
    {
     "data": {
      "text/plain": [
       "120"
      ]
     },
     "execution_count": 143,
     "metadata": {},
     "output_type": "execute_result"
    }
   ],
   "source": [
    "# Recursive function: A function that can call itselves\n",
    "def recFact(n):\n",
    "    if n == 0:\n",
    "        result = 1\n",
    "    else:\n",
    "        result = n*recFact(n-1)\n",
    "    return result\n",
    "\n",
    "recFact(5)"
   ]
  },
  {
   "cell_type": "code",
   "execution_count": 146,
   "id": "e72ab948",
   "metadata": {},
   "outputs": [
    {
     "name": "stdout",
     "output_type": "stream",
     "text": [
      "6\n"
     ]
    }
   ],
   "source": [
    "# Lambda function: Nameless functions that is used for smaller/single use problems. These are anonymous functions\n",
    "s = lambda a,b:a+b\n",
    "print(s(2,4))"
   ]
  },
  {
   "cell_type": "code",
   "execution_count": 147,
   "id": "40fbf833",
   "metadata": {},
   "outputs": [],
   "source": [
    "# There are other three types of function where one function is passed into another function\n",
    "# filter()\n",
    "# map()\n",
    "# reduce()"
   ]
  },
  {
   "cell_type": "code",
   "execution_count": 154,
   "id": "156e559c",
   "metadata": {},
   "outputs": [
    {
     "name": "stdout",
     "output_type": "stream",
     "text": [
      "Normal function [10, 44, 66]\n",
      "Using lambda [10, 44, 66]\n"
     ]
    }
   ],
   "source": [
    "# filter() - Used when we need true/false kind of solution. filter(func, input_sequence\n",
    "l = [10,29,44,66,67]\n",
    "\n",
    "def isEven(x):\n",
    "    if x%2 == 0:\n",
    "        return True\n",
    "    else:\n",
    "        return False  \n",
    "    \n",
    "s = list(filter(isEven, l))\n",
    "print(\"Normal function\", s)\n",
    "\n",
    "# Using lambds function\n",
    "a = lambda x: True if x%2==0 else False\n",
    "s1 = list(filter(a, l))\n",
    "print(\"Using lambda\", s1)"
   ]
  },
  {
   "cell_type": "code",
   "execution_count": 161,
   "id": "7b87982f",
   "metadata": {},
   "outputs": [
    {
     "name": "stdout",
     "output_type": "stream",
     "text": [
      "Normal function [20, 58, 88, 132, 134]\n",
      "Using lambda [20, 58, 88, 132, 134]\n"
     ]
    }
   ],
   "source": [
    "# map() - Used when we need apply any logic to every item in the list/sequence. map(function, sequence/list).\n",
    "# map() can take multiple lists as inputs. But make sure their lengths are same as the extra elements as ignored\n",
    "l = [10,29,44,66,67]\n",
    "\n",
    "def double(x):\n",
    "    return 2*x\n",
    "\n",
    "s = list(map(double, l))\n",
    "print(\"Normal function\", s)\n",
    "\n",
    "# Using lambda\n",
    "a = lambda x:2*x\n",
    "s1 = list(map(a, l))\n",
    "print(\"Using lambda\", s1)\n"
   ]
  },
  {
   "cell_type": "code",
   "execution_count": 166,
   "id": "903bc005",
   "metadata": {},
   "outputs": [
    {
     "name": "stdout",
     "output_type": "stream",
     "text": [
      "[11, 44]\n"
     ]
    }
   ],
   "source": [
    "l1=[1,2,3,4,5,6]\n",
    "l2=[11,22]\n",
    "a = lambda x,y: x*y\n",
    "s = list(map(a, l1,l2))\n",
    "print(s)"
   ]
  },
  {
   "cell_type": "code",
   "execution_count": 168,
   "id": "8bd7aba3",
   "metadata": {},
   "outputs": [
    {
     "name": "stdout",
     "output_type": "stream",
     "text": [
      "216\n"
     ]
    }
   ],
   "source": [
    "# reduce() - Used when we need to reduce a sequence to a single element\n",
    "from functools import *\n",
    "\n",
    "l = [10,29,44,66,67]\n",
    "a = lambda x,y:x+y\n",
    "\n",
    "s = reduce(a, l)\n",
    "print(s)"
   ]
  },
  {
   "cell_type": "code",
   "execution_count": null,
   "id": "be5a2577",
   "metadata": {},
   "outputs": [],
   "source": []
  },
  {
   "cell_type": "code",
   "execution_count": null,
   "id": "2452d371",
   "metadata": {},
   "outputs": [],
   "source": []
  },
  {
   "cell_type": "code",
   "execution_count": null,
   "id": "1be02cf3",
   "metadata": {},
   "outputs": [],
   "source": []
  },
  {
   "cell_type": "code",
   "execution_count": null,
   "id": "c17e6ed4",
   "metadata": {},
   "outputs": [],
   "source": []
  },
  {
   "cell_type": "code",
   "execution_count": null,
   "id": "53574d43",
   "metadata": {},
   "outputs": [],
   "source": []
  }
 ],
 "metadata": {
  "kernelspec": {
   "display_name": "Python 3 (ipykernel)",
   "language": "python",
   "name": "python3"
  },
  "language_info": {
   "codemirror_mode": {
    "name": "ipython",
    "version": 3
   },
   "file_extension": ".py",
   "mimetype": "text/x-python",
   "name": "python",
   "nbconvert_exporter": "python",
   "pygments_lexer": "ipython3",
   "version": "3.9.12"
  }
 },
 "nbformat": 4,
 "nbformat_minor": 5
}
