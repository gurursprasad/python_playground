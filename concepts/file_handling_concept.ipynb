{
 "cells": [
  {
   "cell_type": "code",
   "execution_count": 23,
   "id": "18170ce0",
   "metadata": {},
   "outputs": [],
   "source": [
    "# https://www.youtube.com/watch?v=ijMfsFi-aoU&list=PL6X5MDnC9oqOrCtwCxo3VsVMbLpNW7SkK&index=54\n",
    "# https://www.youtube.com/watch?v=Yq_6J_YICpo&list=PL6X5MDnC9oqOrCtwCxo3VsVMbLpNW7SkK&index=55\n",
    "# Open a file\n",
    "# f = open(fileName, mode)\n",
    "\n",
    "# Types of files:\n",
    "#     Text files\n",
    "#     Binary files\n",
    "\n",
    "# Allowed modes:\n",
    "#     r - open an existing file for read operation. FileNotFoundError when no file found. Filepointer is at the begining of the file. It is the default mode.\n",
    "#     w - open an existing file for write operation. Overrides existing data. Creates a new file even if the specified file is not present\n",
    "#     a - open an existing file for append operation. Appends the data. Creates a new file even if the specified file is not present\n",
    "#     r+ - perform read and write operation at the same time. Data is appended\n",
    "#     w+ - perform write operation first and then write the data. Data is over ridden\n",
    "#     a+ - perform append and read. \n",
    "#     x - open file in exclusive creation mode for write operation. FileExistsError if file name is already present. So to use this the file should not be present\n",
    "\n",
    "# All these methods are applicable only for text files. To use it for binary files suffix the modes with 'b'.\n",
    "# So the modes will be rb, wb,ab,r+b, w+b, a+b, xb\n",
    "\n",
    "# Always close the files after the operations are done. Use f.close()"
   ]
  },
  {
   "cell_type": "code",
   "execution_count": 5,
   "id": "eeeb668e",
   "metadata": {},
   "outputs": [],
   "source": [
    "# Various properties of the file object:\n",
    "#     f.name\n",
    "#     f.mode\n",
    "#     f.closed\n",
    "#     f.readable()\n",
    "#     f.writable()"
   ]
  },
  {
   "cell_type": "code",
   "execution_count": 6,
   "id": "e122dc8f",
   "metadata": {},
   "outputs": [],
   "source": [
    "f = open('abc.text', 'w')"
   ]
  },
  {
   "cell_type": "code",
   "execution_count": 7,
   "id": "d78fe6e7",
   "metadata": {},
   "outputs": [
    {
     "name": "stdout",
     "output_type": "stream",
     "text": [
      "abc.text\n"
     ]
    }
   ],
   "source": [
    "print(f.name)"
   ]
  },
  {
   "cell_type": "code",
   "execution_count": 8,
   "id": "739648c6",
   "metadata": {},
   "outputs": [
    {
     "name": "stdout",
     "output_type": "stream",
     "text": [
      "w\n"
     ]
    }
   ],
   "source": [
    "print(f.mode)"
   ]
  },
  {
   "cell_type": "code",
   "execution_count": 14,
   "id": "731d61de",
   "metadata": {},
   "outputs": [
    {
     "name": "stdout",
     "output_type": "stream",
     "text": [
      "True\n"
     ]
    }
   ],
   "source": [
    "print(f.closed)"
   ]
  },
  {
   "cell_type": "code",
   "execution_count": 10,
   "id": "fef3e8cf",
   "metadata": {},
   "outputs": [
    {
     "name": "stdout",
     "output_type": "stream",
     "text": [
      "False\n"
     ]
    }
   ],
   "source": [
    "print(f.readable())"
   ]
  },
  {
   "cell_type": "code",
   "execution_count": 11,
   "id": "c5610a59",
   "metadata": {},
   "outputs": [
    {
     "name": "stdout",
     "output_type": "stream",
     "text": [
      "True\n"
     ]
    }
   ],
   "source": [
    "print(f.writable())"
   ]
  },
  {
   "cell_type": "code",
   "execution_count": 13,
   "id": "4564954d",
   "metadata": {},
   "outputs": [],
   "source": [
    "f.close()"
   ]
  },
  {
   "cell_type": "code",
   "execution_count": null,
   "id": "8c4b4471",
   "metadata": {},
   "outputs": [],
   "source": [
    "# Writing data to the file\n",
    "# f.write(str)\n",
    "# f.writelines(list of lines)"
   ]
  },
  {
   "cell_type": "code",
   "execution_count": 18,
   "id": "025a2920",
   "metadata": {},
   "outputs": [
    {
     "name": "stdout",
     "output_type": "stream",
     "text": [
      "Data written successfully\n"
     ]
    }
   ],
   "source": [
    "f = open('abcd.txt', 'w')\n",
    "f.write('Guru\\n')\n",
    "f.write('Prasad\\n')\n",
    "print(\"Data written successfully\")\n",
    "f.close()"
   ]
  },
  {
   "cell_type": "code",
   "execution_count": 22,
   "id": "01a021e4",
   "metadata": {},
   "outputs": [
    {
     "name": "stdout",
     "output_type": "stream",
     "text": [
      "Data written successfully\n"
     ]
    }
   ],
   "source": [
    "f = open('abcd.txt', 'a')\n",
    "f.write('Guru\\n')\n",
    "f.write('Prasad\\n')\n",
    "print(\"Data written successfully\")\n",
    "f.close()"
   ]
  },
  {
   "cell_type": "code",
   "execution_count": 26,
   "id": "fdf2877f",
   "metadata": {},
   "outputs": [
    {
     "name": "stdout",
     "output_type": "stream",
     "text": [
      "Data written successfully\n"
     ]
    }
   ],
   "source": [
    "f = open('abcd.txt', 'a')\n",
    "l = ['Guru\\n', 'Prasad\\n', 'Shree\\n', 'Naath\\n']\n",
    "f.writelines(l)\n",
    "print(\"Data written successfully\")\n",
    "f.close()"
   ]
  },
  {
   "cell_type": "code",
   "execution_count": null,
   "id": "6ecacc72",
   "metadata": {},
   "outputs": [],
   "source": []
  }
 ],
 "metadata": {
  "kernelspec": {
   "display_name": "Python 3 (ipykernel)",
   "language": "python",
   "name": "python3"
  },
  "language_info": {
   "codemirror_mode": {
    "name": "ipython",
    "version": 3
   },
   "file_extension": ".py",
   "mimetype": "text/x-python",
   "name": "python",
   "nbconvert_exporter": "python",
   "pygments_lexer": "ipython3",
   "version": "3.9.12"
  }
 },
 "nbformat": 4,
 "nbformat_minor": 5
}
