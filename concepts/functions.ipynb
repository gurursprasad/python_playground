{
 "cells": [
  {
   "cell_type": "markdown",
   "id": "7521656e",
   "metadata": {},
   "source": [
    "# Functions and Arguments"
   ]
  },
  {
   "cell_type": "code",
   "execution_count": 1,
   "id": "2f9fc382",
   "metadata": {},
   "outputs": [],
   "source": [
    "# https://www.youtube.com/watch?v=0uQGy-7lR7M&list=PLd3UqWTnYXOmzcSdWIh-EggqAtCXvJxzu&index=32\n",
    "# Two types of functions User defined and inbuilt functions\n",
    "# Functions defined inside a class is called as method\n",
    "# Functions defined outside a class is called as funtions\n",
    "# In python a function can return multiple values"
   ]
  },
  {
   "cell_type": "code",
   "execution_count": 1,
   "id": "1b493f55",
   "metadata": {},
   "outputs": [],
   "source": [
    "# Parameters\n",
    "# There are four types of parameters/arguments are present:\n",
    "# Positional\n",
    "# Keyword\n",
    "# default\n",
    "# var-arg - variable length parameters\n",
    "# keyword variable length arguments"
   ]
  },
  {
   "cell_type": "code",
   "execution_count": 18,
   "id": "5bc0580a",
   "metadata": {},
   "outputs": [],
   "source": [
    "def calc(a,b):\n",
    "    sum = a+b\n",
    "    return sum"
   ]
  },
  {
   "cell_type": "code",
   "execution_count": 19,
   "id": "9e0626d7",
   "metadata": {},
   "outputs": [],
   "source": [
    "# Positional arg: The order of arguments matters\n",
    "# calc(100,50)"
   ]
  },
  {
   "cell_type": "code",
   "execution_count": 20,
   "id": "bca3098e",
   "metadata": {},
   "outputs": [
    {
     "ename": "TypeError",
     "evalue": "calc() got multiple values for argument 'a'",
     "output_type": "error",
     "traceback": [
      "\u001b[0;31m---------------------------------------------------------------------------\u001b[0m",
      "\u001b[0;31mTypeError\u001b[0m                                 Traceback (most recent call last)",
      "Input \u001b[0;32mIn [20]\u001b[0m, in \u001b[0;36m<cell line: 8>\u001b[0;34m()\u001b[0m\n\u001b[1;32m      1\u001b[0m \u001b[38;5;66;03m# Keyword arg: The order doesn't matter\u001b[39;00m\n\u001b[1;32m      2\u001b[0m \u001b[38;5;66;03m# print(calc(a=100, b=50))\u001b[39;00m\n\u001b[1;32m      3\u001b[0m \u001b[38;5;66;03m# print(calc(b=100, a=50))\u001b[39;00m\n\u001b[0;32m   (...)\u001b[0m\n\u001b[1;32m      6\u001b[0m \u001b[38;5;66;03m# print(calc(b=100, 50))\u001b[39;00m\n\u001b[1;32m      7\u001b[0m \u001b[38;5;66;03m# arg \"a\" is already assigned as \"100\" and cannot be re-assigned as \"50\"\u001b[39;00m\n\u001b[0;32m----> 8\u001b[0m \u001b[38;5;28mprint\u001b[39m(\u001b[43mcalc\u001b[49m\u001b[43m(\u001b[49m\u001b[38;5;241;43m100\u001b[39;49m\u001b[43m,\u001b[49m\u001b[43m \u001b[49m\u001b[43ma\u001b[49m\u001b[38;5;241;43m=\u001b[39;49m\u001b[38;5;241;43m50\u001b[39;49m\u001b[43m)\u001b[49m)\n",
      "\u001b[0;31mTypeError\u001b[0m: calc() got multiple values for argument 'a'"
     ]
    }
   ],
   "source": [
    "# Keyword arg: The order doesn't matter\n",
    "# print(calc(a=100, b=50))\n",
    "# print(calc(b=100, a=50))\n",
    "# print(calc(100, b=50))\n",
    "# Always make sure to have the positional arg first and then the keyword arg\n",
    "# print(calc(b=100, 50))\n",
    "# arg \"a\" is already assigned as \"100\" and cannot be re-assigned as \"50\"\n",
    "print(calc(100, a=50))"
   ]
  },
  {
   "cell_type": "code",
   "execution_count": 23,
   "id": "cca6814b",
   "metadata": {},
   "outputs": [
    {
     "ename": "SyntaxError",
     "evalue": "non-default argument follows default argument (2931564984.py, line 2)",
     "output_type": "error",
     "traceback": [
      "\u001b[0;36m  Input \u001b[0;32mIn [23]\u001b[0;36m\u001b[0m\n\u001b[0;31m    def wish(msg, name='Guest', vari):\u001b[0m\n\u001b[0m                                    ^\u001b[0m\n\u001b[0;31mSyntaxError\u001b[0m\u001b[0;31m:\u001b[0m non-default argument follows default argument\n"
     ]
    }
   ],
   "source": [
    "# Default arg: These should always be declared at the last \"name='Guest'\"\n",
    "def wish(msg, name='Guest', vari):\n",
    "    pass"
   ]
  },
  {
   "cell_type": "code",
   "execution_count": 15,
   "id": "b548aa06",
   "metadata": {},
   "outputs": [
    {
     "name": "stdout",
     "output_type": "stream",
     "text": [
      "var-arg function\n",
      "var-arg function\n",
      "var-arg function\n",
      "The sum is: 0\n",
      "The sum is: 6\n"
     ]
    }
   ],
   "source": [
    "# Variable length arguments(var-arg methods): Used when we may not know the number of arguments passed.\n",
    "# Here \"n\" means a tuple\n",
    "def f1(*n):\n",
    "    print(\"var-arg function\")\n",
    "\n",
    "f1()\n",
    "f1(1,2)\n",
    "f1(1,1,1,1,1)\n",
    "\n",
    "def f2(*n):\n",
    "    s = 0\n",
    "    for _ in n:\n",
    "        s=s+_\n",
    "    print(\"The sum is:\", s)\n",
    "f2()\n",
    "f2(1,2,3)"
   ]
  },
  {
   "cell_type": "code",
   "execution_count": 20,
   "id": "347846f8",
   "metadata": {},
   "outputs": [
    {
     "name": "stdout",
     "output_type": "stream",
     "text": [
      "The sum by Guru is 60\n"
     ]
    }
   ],
   "source": [
    "# var-arg arguments and positional args can work flawlessly\n",
    "def f3(*n, name):\n",
    "    s = 0\n",
    "    for _ in n:\n",
    "        s=s+_\n",
    "    print(\"The sum by\", name, \"is\", s)\n",
    "    \n",
    "# Keyword and var-args can also work together. But make sure to give the keyword arg at the last\n",
    "f3(10,20,30, name=\"Guru\")\n",
    "# f3(name=\"Guru\",10,10)  "
   ]
  },
  {
   "cell_type": "code",
   "execution_count": 21,
   "id": "d94b53dd",
   "metadata": {},
   "outputs": [
    {
     "name": "stdout",
     "output_type": "stream",
     "text": [
      "The sum by Guru is 31\n"
     ]
    }
   ],
   "source": [
    "# Note that when we declare any arg first and var-arg next, then there is no rule needed\n",
    "# \n",
    "def f4(name, *n):\n",
    "    s = 0\n",
    "    for _ in n:\n",
    "        s=s+_\n",
    "    print(\"The sum by\", name, \"is\", s)\n",
    "    \n",
    "f4(\"Guru\",10,20,1)\n",
    "# f4(10,20,\"Guru\")"
   ]
  },
  {
   "cell_type": "code",
   "execution_count": 22,
   "id": "933fc5de",
   "metadata": {},
   "outputs": [
    {
     "name": "stdout",
     "output_type": "stream",
     "text": [
      "Recording the info!!!\n",
      "name .... Guru\n",
      "marks .... 100\n",
      "age .... 30\n",
      "gf .... Sunny\n"
     ]
    },
    {
     "data": {
      "text/plain": [
       "{'name': 'Guru', 'marks': 100, 'age': 30, 'gf': 'Sunny'}"
      ]
     },
     "execution_count": 22,
     "metadata": {},
     "output_type": "execute_result"
    }
   ],
   "source": [
    "# keyword variable length arguments(kwargs): We should be able to pass any type of arguments and store it as dict\n",
    "def display(**kwargs):\n",
    "    d={}\n",
    "    print(\"Recording the info!!!\")\n",
    "    for k,v in kwargs.items():\n",
    "        print(k,\"....\",v)\n",
    "        d[k]=v\n",
    "    return d\n",
    "\n",
    "display(name=\"Guru\", marks=100, age=30, gf=\"Sunny\")\n",
    "# display(name=\"Guru\", wife1=\"abc\", wife2=\"xyz\", wife3=\"Sunny\")"
   ]
  },
  {
   "cell_type": "markdown",
   "id": "c4ed9c95",
   "metadata": {},
   "source": [
    "# Types of Functions"
   ]
  },
  {
   "cell_type": "code",
   "execution_count": null,
   "id": "bc8a2de5",
   "metadata": {},
   "outputs": [],
   "source": [
    "# https://www.youtube.com/watch?v=6yS-MbcMi-E&list=PL6X5MDnC9oqOrCtwCxo3VsVMbLpNW7SkK&index=42\n",
    "# https://www.youtube.com/watch?v=ozG83zDeE9o&list=PLd3UqWTnYXOmzcSdWIh-EggqAtCXvJxzu&index=33\n",
    "# https://www.youtube.com/watch?v=IioFvmBgDnQ&list=PL6X5MDnC9oqOrCtwCxo3VsVMbLpNW7SkK&index=42\n",
    "# A function that calls itselves is called a recursive function\n",
    "# Advantages:\n",
    "# Reduce length of code"
   ]
  },
  {
   "cell_type": "code",
   "execution_count": 23,
   "id": "49b73695",
   "metadata": {},
   "outputs": [
    {
     "name": "stdout",
     "output_type": "stream",
     "text": [
      "120\n"
     ]
    }
   ],
   "source": [
    "# Factorial function by using recursion\n",
    "def factorial(n):\n",
    "    if n==0:\n",
    "        result=1\n",
    "    else:\n",
    "        result=n*factorial(n-1)\n",
    "    return result\n",
    "print(factorial(5))"
   ]
  },
  {
   "cell_type": "code",
   "execution_count": 1,
   "id": "2cb39929",
   "metadata": {},
   "outputs": [
    {
     "name": "stdout",
     "output_type": "stream",
     "text": [
      "120\n"
     ]
    }
   ],
   "source": [
    "n = 5\n",
    "fact = 1\n",
    "while (n>1):\n",
    "    fact = fact*n\n",
    "    n=n-1\n",
    "print(fact)"
   ]
  },
  {
   "cell_type": "code",
   "execution_count": 24,
   "id": "fdcad37b",
   "metadata": {},
   "outputs": [
    {
     "name": "stdout",
     "output_type": "stream",
     "text": [
      "16\n"
     ]
    }
   ],
   "source": [
    "# Anonymous functions/Lambda functions:\n",
    "# Declare a function without name. Nameless function. These are anonymous function\n",
    "# Functions for Instant use or use it only once\n",
    "\n",
    "# Normal function for square\n",
    "def squareIt(n):\n",
    "    return n*n\n",
    "# Anonymous function or lambda function: The above normal function can be written using lambda (input_arg):(actual_logic)\n",
    "s = lambda n:n*n\n",
    "print(s(4))"
   ]
  },
  {
   "cell_type": "code",
   "execution_count": 6,
   "id": "664db27c",
   "metadata": {},
   "outputs": [
    {
     "name": "stdout",
     "output_type": "stream",
     "text": [
      "The sum of 2 and 4 is: 6\n"
     ]
    }
   ],
   "source": [
    "s = lambda a,b:a+b\n",
    "print(\"The sum of {} and {} is: {}\".format(2, 4, s(2,4)))"
   ]
  },
  {
   "cell_type": "code",
   "execution_count": 8,
   "id": "633e5e1d",
   "metadata": {},
   "outputs": [
    {
     "name": "stdout",
     "output_type": "stream",
     "text": [
      "3\n"
     ]
    }
   ],
   "source": [
    "s = lambda a,b:a if a>b else b # Ternary operator\n",
    "print(s(2,3))"
   ]
  },
  {
   "cell_type": "code",
   "execution_count": 36,
   "id": "847bced8",
   "metadata": {},
   "outputs": [
    {
     "name": "stdout",
     "output_type": "stream",
     "text": [
      "[10, 40, 90, 160]\n",
      "[10, 40, 90, 160]\n"
     ]
    }
   ],
   "source": [
    "l1=[1,2,3,4]\n",
    "l2=[10,20,30,40]\n",
    "l3=[]\n",
    "# Normal method\n",
    "def listProd(x,y):\n",
    "    i = 0\n",
    "    while i<len(x):\n",
    "        l3.append(l1[i]*l2[i])\n",
    "        i = i+1\n",
    "    return l3\n",
    "\n",
    "print(listProd(l1,l2))\n",
    "\n",
    "# Lambda function\n",
    "# The above example can be solved easily by combining lambda and map methods. \n",
    "# map() function can take l1 and l2 as multiple inputs\n",
    "l4 = list(map(lambda x,y:x*y,l1,l2))\n",
    "print(l4)     \n",
    "        "
   ]
  },
  {
   "cell_type": "code",
   "execution_count": 9,
   "id": "42809267",
   "metadata": {},
   "outputs": [],
   "source": [
    "# We can pass a function as argument to another function. Lambda functions are used widely\n",
    "# - filter()\n",
    "# - map()\n",
    "# - reduce()\n",
    "# These functions always use another function as argument"
   ]
  },
  {
   "cell_type": "code",
   "execution_count": 15,
   "id": "b9016367",
   "metadata": {},
   "outputs": [
    {
     "name": "stdout",
     "output_type": "stream",
     "text": [
      "[10, 20, 66]\n"
     ]
    }
   ],
   "source": [
    "# filter()\n",
    "# syntax:\n",
    "# filter(function, sequence/list)\n",
    "# The function passed in the argument can be used in every element/sequence/list that is passed as the 2nd argument\n",
    "# Used when we need true/false kind of solution\n",
    "\n",
    "def isEven(x):\n",
    "    if x%2==0:\n",
    "        return True\n",
    "    else:\n",
    "        return False\n",
    "\n",
    "l = [10,20,31,67,89,45,66]\n",
    "l1 = list(filter(isEven,l))\n",
    "print(l1)"
   ]
  },
  {
   "cell_type": "code",
   "execution_count": 19,
   "id": "94421d26",
   "metadata": {},
   "outputs": [
    {
     "data": {
      "text/plain": [
       "[10, 20, 66]"
      ]
     },
     "execution_count": 19,
     "metadata": {},
     "output_type": "execute_result"
    }
   ],
   "source": [
    "# Using lambda and filter()\n",
    "s = lambda x: True if x%2==0 else False\n",
    "l = [10,20,31,67,89,45,66]\n",
    "l1 = list(filter(s,l))\n",
    "l1"
   ]
  },
  {
   "cell_type": "code",
   "execution_count": 24,
   "id": "49f8c800",
   "metadata": {},
   "outputs": [
    {
     "name": "stdout",
     "output_type": "stream",
     "text": [
      "[2, 4, 6, 8, 10]\n",
      "[1, 2, 3, 4, 5]\n"
     ]
    }
   ],
   "source": [
    "# map():\n",
    "# syntax:\n",
    "# map(function, sequence/list)\n",
    "# Used when-ever we need to apply some logic to every element/sequence/list that is passed as the 2nd argument\n",
    "\n",
    "def double(x):\n",
    "    return 2*x\n",
    "l = [1,2,3,4,5]\n",
    "l1 = list(map(double,l))\n",
    "print(l1)\n",
    "l2 = list(filter(double,l))\n",
    "print(l2)"
   ]
  },
  {
   "cell_type": "code",
   "execution_count": 25,
   "id": "6f4229f5",
   "metadata": {},
   "outputs": [
    {
     "name": "stdout",
     "output_type": "stream",
     "text": [
      "[2, 4, 6, 8, 10]\n",
      "[1, 2, 3, 4, 5]\n"
     ]
    }
   ],
   "source": [
    "# Using lambda\n",
    "s = lambda x:2*x\n",
    "l1 = list(map(s,l))\n",
    "print(l1)\n",
    "l2 = list(filter(s,l))\n",
    "print(l2)"
   ]
  },
  {
   "cell_type": "code",
   "execution_count": 44,
   "id": "b98616a9",
   "metadata": {},
   "outputs": [
    {
     "name": "stdout",
     "output_type": "stream",
     "text": [
      "[10, 40]\n"
     ]
    }
   ],
   "source": [
    "l1=[1,2,3,4,5,6]\n",
    "l2=[10,20]\n",
    "l3=[]\n",
    "# Normal method\n",
    "# def listProd(x,y):\n",
    "#     i = 0\n",
    "#     while i<len(x):\n",
    "#         l3.append(l1[i]*l2[i])\n",
    "#         i = i+1\n",
    "#     return l3\n",
    "\n",
    "# print(listProd(l1,l2))\n",
    "\n",
    "# Lambda function\n",
    "# The above example can be solved easily by combining lambda and map methods. \n",
    "# map() function can take l1 and l2 as multiple inputs\n",
    "# Make sure that the length of the inputs are same\n",
    "# If the lengths are not equal, then the extra elements are ignored\n",
    "l4 = list(map(lambda x,y:x*y,l1,l2))\n",
    "print(l4)"
   ]
  },
  {
   "cell_type": "code",
   "execution_count": 47,
   "id": "f37c4204",
   "metadata": {},
   "outputs": [
    {
     "name": "stdout",
     "output_type": "stream",
     "text": [
      "150\n"
     ]
    }
   ],
   "source": [
    "# https://www.youtube.com/watch?v=6yS-MbcMi-E&list=PL6X5MDnC9oqOrCtwCxo3VsVMbLpNW7SkK&index=42\n",
    "# reduce()\n",
    "# syntax:\n",
    "# reduce(function, sequence/list)\n",
    "# It reduces sequence of elements into a single element by applying specified function\n",
    "\n",
    "from functools import *\n",
    "l = [10,20,30,40,50]\n",
    "result=reduce(lambda x,y:x+y,l)\n",
    "print(result)\n"
   ]
  },
  {
   "cell_type": "code",
   "execution_count": 53,
   "id": "60edb0f7",
   "metadata": {},
   "outputs": [
    {
     "name": "stdout",
     "output_type": "stream",
     "text": [
      "139732744706224\n",
      "139732744706224\n",
      "Good morning Guru\n"
     ]
    }
   ],
   "source": [
    "# Function aliasing\n",
    "\n",
    "def wish(name):\n",
    "    print(\"Good morning {}\".format(name))\n",
    "greet=wish\n",
    "print(id(wish))\n",
    "print(id(greet))\n",
    "del wish\n",
    "greet(\"Guru\")\n",
    "# wish(\"Guru\")"
   ]
  },
  {
   "cell_type": "code",
   "execution_count": 1,
   "id": "70b10b6f",
   "metadata": {},
   "outputs": [],
   "source": [
    "# Decorators:\n",
    "# https://www.youtube.com/watch?v=IioFvmBgDnQ&list=PL6X5MDnC9oqOrCtwCxo3VsVMbLpNW7SkK&index=42\n",
    "# If you want to extend a function without modifying the existing functionality of a function we use decorators concept\n",
    "# This will help to make our code shorter\n",
    "# Always takes another function as argument\n",
    "\n",
    "# Input function ==> Decorator Function ==> Output with extended functionality\n"
   ]
  },
  {
   "cell_type": "code",
   "execution_count": 20,
   "id": "2ba44667",
   "metadata": {},
   "outputs": [],
   "source": [
    "# The decor function is the decorator function. It will have the argument as another function. 'func' in this case\n",
    "# Notice inside the else block we have written the func(name). This can be any function having 'name' as the arg.\n",
    "# Inside the else block is where the NORMAL FUNCTION WILL BE CALLED\n",
    "def decor(func):\n",
    "    def inner(name):\n",
    "        if name == \"Sunny\":\n",
    "            print(\"Hello Sunny!! Bad morning..!!\")\n",
    "        else:\n",
    "            func(name)\n",
    "    return inner\n",
    "    "
   ]
  },
  {
   "cell_type": "code",
   "execution_count": 21,
   "id": "46d94280",
   "metadata": {},
   "outputs": [
    {
     "name": "stdout",
     "output_type": "stream",
     "text": [
      "Hello Guru good evening\n"
     ]
    }
   ],
   "source": [
    "# Make sure to link the decorator function and the normal function\n",
    "# While calling the normal function, this function will internally call the decorator function.\n",
    "# Here in this example the wish function is a very simple function. But we are able to extend its functionality\n",
    "@decor\n",
    "def wish(name):\n",
    "    print(\"Hello {} good evening\".format(name))\n",
    "wish(\"Guru\")"
   ]
  },
  {
   "cell_type": "code",
   "execution_count": 11,
   "id": "72040ef7",
   "metadata": {},
   "outputs": [
    {
     "name": "stdout",
     "output_type": "stream",
     "text": [
      "Hello Guru good evening\n",
      "Hello Sunny!! Bad morning..!!\n"
     ]
    }
   ],
   "source": [
    "wish(\"Guru\")\n",
    "wish(\"Sunny\")"
   ]
  },
  {
   "cell_type": "code",
   "execution_count": 19,
   "id": "abd46910",
   "metadata": {},
   "outputs": [],
   "source": [
    "# Example -2 decorators\n",
    "def make_pretty(func):\n",
    "    def inner():\n",
    "        print(\"I got decorated\")\n",
    "        func()\n",
    "    return inner\n",
    "\n",
    "def make_more_prettier(func):\n",
    "    def inner():\n",
    "        print(\"I'm more prettier now!!!\")\n",
    "        func()\n",
    "    return inner\n",
    "\n",
    "@make_pretty\n",
    "@make_more_prettier\n",
    "def ordinary():\n",
    "    print(\"I am ordinary\")"
   ]
  },
  {
   "cell_type": "code",
   "execution_count": 18,
   "id": "7b62d3d4",
   "metadata": {},
   "outputs": [
    {
     "name": "stdout",
     "output_type": "stream",
     "text": [
      "I got decorated\n",
      "I'm more prettoer now!!!\n",
      "I am ordinary\n"
     ]
    }
   ],
   "source": [
    "ordinary()"
   ]
  },
  {
   "cell_type": "code",
   "execution_count": 16,
   "id": "43edd193",
   "metadata": {},
   "outputs": [
    {
     "data": {
      "text/plain": [
       "8"
      ]
     },
     "execution_count": 16,
     "metadata": {},
     "output_type": "execute_result"
    }
   ],
   "source": [
    "# Passing a function as argument\n",
    "def add(x,y):\n",
    "    return x+y\n",
    "\n",
    "def calculate(func, x,y):\n",
    "    return func(x,y)\n",
    "\n",
    "calculate(add, 3,5)\n"
   ]
  },
  {
   "cell_type": "code",
   "execution_count": 38,
   "id": "926c3c12",
   "metadata": {},
   "outputs": [
    {
     "name": "stdout",
     "output_type": "stream",
     "text": [
      "Divide by zero error!!!\n"
     ]
    }
   ],
   "source": [
    "# Example - 3 decorators\n",
    "def smartDivision(func):\n",
    "    def inner(a,b):\n",
    "        if b == 0:\n",
    "            return \"Divide by zero error!!!\"\n",
    "        else:\n",
    "            return func(a,b)\n",
    "    return inner\n",
    "\n",
    "\n",
    "@smartDivision\n",
    "def division(a,b):\n",
    "    return a/b\n",
    "\n",
    "print(division(2,0))"
   ]
  },
  {
   "cell_type": "code",
   "execution_count": 22,
   "id": "12a26787",
   "metadata": {},
   "outputs": [
    {
     "name": "stdout",
     "output_type": "stream",
     "text": [
      "200\n"
     ]
    }
   ],
   "source": [
    "# While chaining decorators the output of the previous decorator function will become the input to the next decorator function\n",
    "# In this case the output of decor1 function will become the input of decor function\n",
    "def decor1(func):\n",
    "    def inner():\n",
    "        x=func()\n",
    "        return x*x\n",
    "    return inner\n",
    "\n",
    "def decor(func):\n",
    "    def inner():\n",
    "        x=func()\n",
    "        return 2*x\n",
    "    return inner\n",
    "\n",
    "@decor\n",
    "@decor1\n",
    "def num():\n",
    "    return 10\n",
    "\n",
    "print(num())"
   ]
  },
  {
   "cell_type": "code",
   "execution_count": 8,
   "id": "3ea720f4",
   "metadata": {},
   "outputs": [
    {
     "name": "stdout",
     "output_type": "stream",
     "text": [
      "Before function call !\n",
      "Hi\n",
      "After function call !\n"
     ]
    }
   ],
   "source": [
    "# Example - 4 decorators\n",
    "def decor_function(target_function):\n",
    "    def wrapper_function(*args, **kwargs):\n",
    "        print(\"Before function call !\")\n",
    "        a = target_function(*args, **kwargs)\n",
    "        print(\"After function call !\")\n",
    "        return a\n",
    "    return wrapper_function\n",
    "\n",
    "@decor_function\n",
    "def greet(*args, **kwargs):\n",
    "    print(\"Hi\")\n",
    "#     print(f\"Hi {*args}!\")\n",
    "\n",
    "\n",
    "greet(\"Guru\", name=\"Guru\")\n",
    "\n"
   ]
  },
  {
   "cell_type": "code",
   "execution_count": 1,
   "id": "025b59e5",
   "metadata": {},
   "outputs": [
    {
     "name": "stdout",
     "output_type": "stream",
     "text": [
      "0\n",
      "1\n"
     ]
    }
   ],
   "source": [
    "# https://www.youtube.com/watch?v=gEBImpg6jeU&list=PL6X5MDnC9oqOrCtwCxo3VsVMbLpNW7SkK&index=43\n",
    "# Generators:\n",
    "# In a normal list the object are stored in the memory. So when handling huge amount of data the memory utilisation increases.\n",
    "# A generator does not store anything in the memory. It evaluates each record when they are called.\n",
    "# On the fly it is going to evaluate and show us the value.\n",
    "# Advantages:\n",
    "#     Easy to use\n",
    "#     Memory utilisation is improved\n",
    "#     Performance will be improved\n",
    "#     Best suitable for reading data from large no of files\n",
    "#     Web scrapping and crawling\n",
    "    \n",
    "l = (x*x for x in range(1000000000000))\n",
    "print(next(l))\n",
    "print(next(l))"
   ]
  },
  {
   "cell_type": "code",
   "execution_count": 13,
   "id": "cbb28699",
   "metadata": {},
   "outputs": [
    {
     "name": "stdout",
     "output_type": "stream",
     "text": [
      "List Execution took: 0.00015997886657714844\n",
      "Generator Execution took: 5.14984130859375e-05\n"
     ]
    }
   ],
   "source": [
    "import random\n",
    "import time\n",
    "people = [\"Guru\", \"Shree\", \"Harinee\"]\n",
    "subjects = [\"EEE\", \"CSE\", \"M.Com\"]\n",
    "\n",
    "def people_list(num_of_records):\n",
    "    result = []\n",
    "    for i in range(num_of_records):\n",
    "        d = {\n",
    "            \"id\": i,\n",
    "            \"name\": random.choice(people),\n",
    "            \"subject\": random.choice(subjects)\n",
    "        }\n",
    "        result.append(d)\n",
    "    return result\n",
    "\n",
    "def people_generator(num_of_records):\n",
    "    for i in range(num_of_records):\n",
    "        d = {\n",
    "            \"id\": i,\n",
    "            \"name\": random.choice(people),\n",
    "            \"subject\": random.choice(subjects)            \n",
    "        }\n",
    "        yield d\n",
    "\n",
    "t1 = time.time()\n",
    "people = people_list(100)\n",
    "t2 = time.time()\n",
    "print(\"List Execution took:\", (t2-t1))\n",
    "\n",
    "t1 = time.time()\n",
    "people = people_generator(100)\n",
    "t2 = time.time()\n",
    "print(\"Generator Execution took:\", (t2-t1))"
   ]
  },
  {
   "cell_type": "code",
   "execution_count": 26,
   "id": "39a54322",
   "metadata": {},
   "outputs": [
    {
     "name": "stdout",
     "output_type": "stream",
     "text": [
      "<class 'generator'>\n",
      "A\n",
      "Using iterators\n",
      "B\n",
      "C\n",
      "D\n"
     ]
    }
   ],
   "source": [
    "def my_generator():\n",
    "    yield \"A\"\n",
    "    yield \"B\"\n",
    "    yield \"C\"\n",
    "    yield \"D\"\n",
    "    \n",
    "g = my_generator()\n",
    "print(type(g))\n",
    "# print(next(g))\n",
    "# print(next(g))\n",
    "# print(next(g))\n",
    "print(next(g))\n",
    "print(\"Using iterators\")\n",
    "for x in g:\n",
    "    print(x)"
   ]
  },
  {
   "cell_type": "code",
   "execution_count": 5,
   "id": "35d9d99f",
   "metadata": {},
   "outputs": [
    {
     "name": "stdout",
     "output_type": "stream",
     "text": [
      "10\n",
      "9\n",
      "8\n",
      "7\n",
      "6\n",
      "5\n",
      "4\n",
      "3\n",
      "2\n",
      "1\n"
     ]
    }
   ],
   "source": [
    "def countDown(num):\n",
    "    while(num>0):\n",
    "        yield num\n",
    "        num = num-1\n",
    "        \n",
    "values = countDown(10)\n",
    "for x in values:\n",
    "    print(x)"
   ]
  },
  {
   "cell_type": "code",
   "execution_count": 25,
   "id": "db83a0db",
   "metadata": {},
   "outputs": [
    {
     "name": "stdout",
     "output_type": "stream",
     "text": [
      "11\n",
      "12\n",
      "13\n",
      "14\n"
     ]
    }
   ],
   "source": [
    "# To give first n numbers\n",
    "def firstN(num):\n",
    "    n = 11\n",
    "    while n<num:\n",
    "        yield n\n",
    "        n = n+1\n",
    "val = firstN(15)\n",
    "for x in val:\n",
    "    print(x)"
   ]
  },
  {
   "cell_type": "code",
   "execution_count": 2,
   "id": "6ccc0ea8",
   "metadata": {},
   "outputs": [
    {
     "name": "stdout",
     "output_type": "stream",
     "text": [
      "0\n",
      "1\n",
      "1\n",
      "2\n",
      "3\n",
      "5\n",
      "8\n",
      "13\n",
      "21\n",
      "34\n",
      "55\n",
      "89\n"
     ]
    }
   ],
   "source": [
    "# To generate fibonacci numbers. Next number is equal to the sum of prev two numbers ==> 0,1,1,2,3,5,8\n",
    "def fib():\n",
    "    a,b = 0,1\n",
    "    while True:\n",
    "        yield a\n",
    "        a,b = b, a+b\n",
    "        \n",
    "f = fib()\n",
    "for x in f:\n",
    "    if x > 100:\n",
    "        break\n",
    "    print(x)\n"
   ]
  },
  {
   "cell_type": "code",
   "execution_count": null,
   "id": "aa501949",
   "metadata": {},
   "outputs": [],
   "source": []
  },
  {
   "cell_type": "code",
   "execution_count": null,
   "id": "46ec0dcb",
   "metadata": {},
   "outputs": [],
   "source": []
  }
 ],
 "metadata": {
  "kernelspec": {
   "display_name": "Python 3 (ipykernel)",
   "language": "python",
   "name": "python3"
  },
  "language_info": {
   "codemirror_mode": {
    "name": "ipython",
    "version": 3
   },
   "file_extension": ".py",
   "mimetype": "text/x-python",
   "name": "python",
   "nbconvert_exporter": "python",
   "pygments_lexer": "ipython3",
   "version": "3.9.12"
  }
 },
 "nbformat": 4,
 "nbformat_minor": 5
}
