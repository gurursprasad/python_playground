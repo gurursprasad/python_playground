{
 "cells": [
  {
   "cell_type": "code",
   "execution_count": 1,
   "id": "835755a4",
   "metadata": {},
   "outputs": [],
   "source": [
    "# https://www.youtube.com/watch?v=NyqBDlfQfww&list=PL6X5MDnC9oqOrCtwCxo3VsVMbLpNW7SkK&index=47\n",
    "# Group of functions and variables saved to a file is called as module\n",
    "# Even though we add multiple import statements for the same module, it'll be imported only once"
   ]
  },
  {
   "cell_type": "code",
   "execution_count": 2,
   "id": "d2ef54f2",
   "metadata": {},
   "outputs": [],
   "source": [
    "# Possibilities of import:\n",
    "#     import moduleName,\n",
    "#     import module1, modeule2\n",
    "#     import moduyle1 as m\n",
    "#     import module1 as m1, module2 as m2, module3 as m3\n",
    "    \n",
    "#     from module import member\n",
    "#     from module import member1, member2\n",
    "#     from module import member1 as m1\n",
    "#     from module import *\n",
    "    "
   ]
  },
  {
   "cell_type": "code",
   "execution_count": 3,
   "id": "f8d79548",
   "metadata": {},
   "outputs": [],
   "source": [
    "# Advantages:\n",
    "#     Code reusability\n",
    "#     Length of code is reduced and readability is improved\n",
    "#     Maintanance of app is improved"
   ]
  },
  {
   "cell_type": "code",
   "execution_count": 4,
   "id": "346df8d2",
   "metadata": {},
   "outputs": [],
   "source": [
    "# For every module the compiled module file is stored in __pycache__ folder"
   ]
  },
  {
   "cell_type": "code",
   "execution_count": 5,
   "id": "4a6474b5",
   "metadata": {},
   "outputs": [
    {
     "name": "stdout",
     "output_type": "stream",
     "text": [
      "Program is entering sleep state\n",
      "Program ends\n",
      "Program is entering sleep state\n"
     ]
    },
    {
     "data": {
      "text/plain": [
       "['__builtins__',\n",
       " '__cached__',\n",
       " '__doc__',\n",
       " '__file__',\n",
       " '__loader__',\n",
       " '__name__',\n",
       " '__package__',\n",
       " '__spec__',\n",
       " 'f1']"
      ]
     },
     "execution_count": 5,
     "metadata": {},
     "output_type": "execute_result"
    }
   ],
   "source": [
    "# Even though we add multiple import statements for the same module, it'll be imported only once\n",
    "# Reloading a module:\n",
    "#     By using \"imp\" module and reload() function we can do this\n",
    "#     Finding members of a module by using dir(moduleName) function\n",
    "\n",
    "import time\n",
    "from imp import reload\n",
    "import module1\n",
    "print(\"Program is entering sleep state\")\n",
    "time.sleep(5)\n",
    "reload(module1)\n",
    "print(\"Program ends\")\n",
    "time.sleep(5)\n",
    "print(\"Program is entering sleep state\")\n",
    "reload(module1)\n",
    "dir(module1)"
   ]
  },
  {
   "cell_type": "code",
   "execution_count": 6,
   "id": "6082db98",
   "metadata": {},
   "outputs": [
    {
     "name": "stdout",
     "output_type": "stream",
     "text": [
      "The module is executed directly\n",
      "The value of __name__: __main__\n"
     ]
    }
   ],
   "source": [
    "# Special variable \"__name__\":\n",
    "#     A module can be executed either directly or by importing it\n",
    "#     If module executed directly then __name__ = __main__\n",
    "\n",
    "def f1():\n",
    "    if __name__ == '__main__':\n",
    "        print(\"The module is executed directly\")\n",
    "        print(\"The value of __name__:\", __name__)\n",
    "    else:\n",
    "        print(\"The module is executed indirectly from another method/program\")\n",
    "        print(\"The value of __name__:\", __name__)\n",
    "\n",
    "f1()"
   ]
  },
  {
   "cell_type": "code",
   "execution_count": 7,
   "id": "b64f6f1e",
   "metadata": {},
   "outputs": [
    {
     "name": "stdout",
     "output_type": "stream",
     "text": [
      "The module is executed indirectly from another method/program\n",
      "The value of __name__: module1\n"
     ]
    }
   ],
   "source": [
    "from imp import reload\n",
    "import module1\n",
    "reload(module1)\n",
    "module1.f1()"
   ]
  },
  {
   "cell_type": "code",
   "execution_count": 8,
   "id": "2f66319a",
   "metadata": {},
   "outputs": [],
   "source": [
    "# Random Module"
   ]
  },
  {
   "cell_type": "code",
   "execution_count": 9,
   "id": "b8d90338",
   "metadata": {},
   "outputs": [],
   "source": [
    "# 1. random()\n",
    "# Generates random number between 0 and 1 (not inclusive)\n",
    "# 0<x<1"
   ]
  },
  {
   "cell_type": "code",
   "execution_count": 10,
   "id": "57a4fa0b",
   "metadata": {},
   "outputs": [
    {
     "name": "stdout",
     "output_type": "stream",
     "text": [
      "0.814086859063911\n",
      "0.6407063166635358\n",
      "0.7956140158002207\n",
      "0.33216745672348535\n",
      "0.9254441206609472\n",
      "0.9789549443356692\n",
      "0.38561167716987277\n",
      "0.32542758191376175\n",
      "0.10703969908934663\n",
      "0.9582959133804629\n"
     ]
    }
   ],
   "source": [
    "from random import *\n",
    "for i in range(10):\n",
    "    print(random())"
   ]
  },
  {
   "cell_type": "code",
   "execution_count": 11,
   "id": "321f9565",
   "metadata": {},
   "outputs": [],
   "source": [
    "# 2. randint()\n",
    "# Generates int values between given range (Range is inclusive)\n",
    "# randint(1,100)"
   ]
  },
  {
   "cell_type": "code",
   "execution_count": 12,
   "id": "f5a7f6e3",
   "metadata": {},
   "outputs": [
    {
     "name": "stdout",
     "output_type": "stream",
     "text": [
      "39\n",
      "89\n",
      "96\n",
      "33\n",
      "86\n",
      "26\n",
      "61\n",
      "74\n",
      "88\n",
      "19\n"
     ]
    }
   ],
   "source": [
    "for i in range(10):\n",
    "    print(randint(1,100))"
   ]
  },
  {
   "cell_type": "code",
   "execution_count": 13,
   "id": "db6a560a",
   "metadata": {},
   "outputs": [],
   "source": [
    "# 3. uniform()\n",
    "# Generates float values between given range (Range is not inclusive)\n",
    "# uniform(1,100)"
   ]
  },
  {
   "cell_type": "code",
   "execution_count": 14,
   "id": "3b34d0de",
   "metadata": {},
   "outputs": [
    {
     "name": "stdout",
     "output_type": "stream",
     "text": [
      "80.44877664415584\n",
      "54.955565710321345\n",
      "65.14861302080335\n",
      "52.15781880898603\n",
      "33.970374596676656\n",
      "54.846091553940454\n",
      "36.90304147751236\n",
      "62.251337481249784\n",
      "13.49176224161585\n",
      "37.182723903712116\n"
     ]
    }
   ],
   "source": [
    "for i in range(10):\n",
    "    print(uniform(1,100))"
   ]
  },
  {
   "cell_type": "code",
   "execution_count": 15,
   "id": "d8f3c1ef",
   "metadata": {},
   "outputs": [],
   "source": [
    "# 4. randrange(start, stop, step)\n",
    "# Generates random number in the given range (Start is inclusive and Stop is exclusive)\n",
    "# start <= x < stop"
   ]
  },
  {
   "cell_type": "code",
   "execution_count": 16,
   "id": "a21ba240",
   "metadata": {},
   "outputs": [
    {
     "name": "stdout",
     "output_type": "stream",
     "text": [
      "randrange(10) 4\n",
      "randrange(10) 8\n",
      "randrange(10) 4\n",
      "randrange(10) 8\n",
      "randrange(10) 6\n",
      "randrange(10) 7\n",
      "randrange(10) 4\n",
      "randrange(10) 2\n",
      "randrange(10) 7\n",
      "randrange(10) 3\n"
     ]
    }
   ],
   "source": [
    "for i in range(10):\n",
    "    print(\"randrange(10)\", randrange(10))\n",
    "#     print(\"randrange(1,11)\", randrange(1,11))\n",
    "#     print(\"randrange(1,11,2)\", randrange(1,11,2))\n"
   ]
  },
  {
   "cell_type": "code",
   "execution_count": 17,
   "id": "5d19968c",
   "metadata": {},
   "outputs": [],
   "source": [
    "# 4. choice()\n",
    "# It wont return random number, it will return random object from the given list or tuple\n",
    "# start <= x < stop"
   ]
  },
  {
   "cell_type": "code",
   "execution_count": 18,
   "id": "a675fa51",
   "metadata": {},
   "outputs": [
    {
     "name": "stdout",
     "output_type": "stream",
     "text": [
      "digvijay\n",
      "sagar\n",
      "sagar\n",
      "digvijay\n",
      "chetan\n",
      "chetan\n",
      "sagar\n",
      "sagar\n",
      "digvijay\n",
      "guru\n"
     ]
    }
   ],
   "source": [
    "resource = [\"guru\", \"sagar\", \"chetan\", \"digvijay\"]\n",
    "for i in range(10):\n",
    "    print(choice(resource))"
   ]
  },
  {
   "cell_type": "code",
   "execution_count": 19,
   "id": "95822556",
   "metadata": {},
   "outputs": [
    {
     "name": "stdout",
     "output_type": "stream",
     "text": [
      "381175\n",
      "581777\n",
      "182714\n",
      "548121\n",
      "415343\n",
      "751152\n",
      "245944\n",
      "634945\n",
      "395549\n",
      "378439\n"
     ]
    }
   ],
   "source": [
    "# Program to generate random number to use as otp\n",
    "for i in range(10):\n",
    "    print(randint(1,9), randint(1,9), randint(1,9), randint(1,9), randint(1,9), randint(1,9), sep=\"\")"
   ]
  },
  {
   "cell_type": "code",
   "execution_count": 20,
   "id": "84e3b321",
   "metadata": {},
   "outputs": [
    {
     "name": "stdout",
     "output_type": "stream",
     "text": [
      "T7U2N4\n",
      "U6U3W6\n",
      "X2N5O1\n",
      "P2E6Q6\n",
      "G8R2J2\n",
      "K3C1K3\n",
      "E9U3U0\n",
      "C4T5S2\n",
      "X4Q4V2\n",
      "W2T8S7\n"
     ]
    }
   ],
   "source": [
    "# Program to generate pwd of 6 length\n",
    "# 1,3,5 are alphabets\n",
    "# 2,4,6 are digits\n",
    "# unicode of capital A is 65 and Z would be 65+25\n",
    "# chr function converts unicode value to its equivalent character\n",
    "for i in range(10):\n",
    "    print(chr(randint(65, 65+25)), randint(0,9), chr(randint(65, 65+25)), randint(0,9), chr(randint(65, 65+25)), randint(0,9), sep=\"\")"
   ]
  },
  {
   "cell_type": "code",
   "execution_count": 21,
   "id": "9b6dca6a",
   "metadata": {},
   "outputs": [
    {
     "name": "stdout",
     "output_type": "stream",
     "text": [
      "{'envoy': 'sagar', 'kuma': 'chetan', 'k8s': 'digvijay', 'terraform': 'digvijay', 'kong mesh': 'chetan', 'keg': 'chetan', 'kg': 'chetan', 'amazon API': 'sagar'}\n"
     ]
    }
   ],
   "source": [
    "from random import *\n",
    "system_types = [\"envoy\", \"kuma\", \"k8s\", \"terraform\", \"kong mesh\", \"keg\", \"kg\", \"amazon API\"]\n",
    "resource = [\"guru\", \"sagar\", \"chetan\", \"digvijay\"]\n",
    "d = {}\n",
    "for i in system_types:\n",
    "    d[i] = choice(resource)\n",
    "\n",
    "print(d)"
   ]
  }
 ],
 "metadata": {
  "kernelspec": {
   "display_name": "Python 3 (ipykernel)",
   "language": "python",
   "name": "python3"
  },
  "language_info": {
   "codemirror_mode": {
    "name": "ipython",
    "version": 3
   },
   "file_extension": ".py",
   "mimetype": "text/x-python",
   "name": "python",
   "nbconvert_exporter": "python",
   "pygments_lexer": "ipython3",
   "version": "3.9.12"
  }
 },
 "nbformat": 4,
 "nbformat_minor": 5
}
