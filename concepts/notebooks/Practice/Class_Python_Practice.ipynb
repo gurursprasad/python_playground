{
 "cells": [
  {
   "cell_type": "markdown",
   "metadata": {},
   "source": [
    "# Q1"
   ]
  },
  {
   "cell_type": "markdown",
   "metadata": {},
   "source": [
    "Create a  class test which has 2 methods:\n",
    "\n",
    "    * A method print_value should get the string input from the user\n",
    "    * Method print_value should print the String in uppercase  \n",
    "    "
   ]
  },
  {
   "cell_type": "code",
   "execution_count": 16,
   "metadata": {},
   "outputs": [],
   "source": [
    "class upper_case:\n",
    "    def get_value(self,s):\n",
    "        s=input(\"Enter the String : \")\n",
    "    def print_value(ch):\n",
    "        ch=s.upper()\n",
    "        return ch"
   ]
  },
  {
   "cell_type": "code",
   "execution_count": 17,
   "metadata": {},
   "outputs": [
    {
     "name": "stdout",
     "output_type": "stream",
     "text": [
      "Enter the String : tergdr\n"
     ]
    },
    {
     "data": {
      "text/plain": [
       "'ASADSA'"
      ]
     },
     "execution_count": 17,
     "metadata": {},
     "output_type": "execute_result"
    }
   ],
   "source": [
    "uc = upper_case()\n",
    "uc.get_value(s)\n",
    "uc.print_value()"
   ]
  },
  {
   "cell_type": "markdown",
   "metadata": {},
   "source": [
    "# Q2"
   ]
  },
  {
   "cell_type": "markdown",
   "metadata": {},
   "source": [
    "Write a python class called math contains:\n",
    "\n",
    "      * __init__ method with 2 parameters length and width. Define the variables inside the __init__ method.\n",
    "      * Define another method named area which should compute the length and width.  \n",
    "      "
   ]
  },
  {
   "cell_type": "code",
   "execution_count": 60,
   "metadata": {},
   "outputs": [],
   "source": [
    "class matth:\n",
    "    def __init__(self,l,b):\n",
    "        self.l=l\n",
    "        self.b=b\n",
    "    def get_area(self):\n",
    "        return self.l*self.b"
   ]
  },
  {
   "cell_type": "code",
   "execution_count": 61,
   "metadata": {},
   "outputs": [
    {
     "data": {
      "text/plain": [
       "30"
      ]
     },
     "execution_count": 61,
     "metadata": {},
     "output_type": "execute_result"
    }
   ],
   "source": [
    "r=matth(5,6)\n",
    "r.get_area()"
   ]
  },
  {
   "cell_type": "markdown",
   "metadata": {},
   "source": [
    "# Q3"
   ]
  },
  {
   "cell_type": "markdown",
   "metadata": {},
   "source": [
    "Create a class Student \n",
    "\n",
    "    * create a methos __init__(self, **kwargs) and initialize the variables\n",
    "    * Create a object for the class and print the object properties\n",
    "    * Delete object property\n",
    "    * Delete object "
   ]
  },
  {
   "cell_type": "code",
   "execution_count": 68,
   "metadata": {},
   "outputs": [],
   "source": [
    "class kwarrgs_learn:\n",
    "    def __init__(self,**kwargs):\n",
    "        l=[]\n",
    "        for key,value in kwargs.items():\n",
    "            l.append(key,value)\n",
    "        return l\n",
    "    def get_values():\n",
    "        d={1: 'Geeks', 2: 'For', 3: 'Geeks'}"
   ]
  },
  {
   "cell_type": "code",
   "execution_count": 69,
   "metadata": {},
   "outputs": [
    {
     "ename": "TypeError",
     "evalue": "__init__() should return None, not 'list'",
     "output_type": "error",
     "traceback": [
      "\u001b[1;31m---------------------------------------------------------------------------\u001b[0m",
      "\u001b[1;31mTypeError\u001b[0m                                 Traceback (most recent call last)",
      "\u001b[1;32m<ipython-input-69-a421bbf46921>\u001b[0m in \u001b[0;36m<module>\u001b[1;34m\u001b[0m\n\u001b[1;32m----> 1\u001b[1;33m \u001b[0ma\u001b[0m\u001b[1;33m=\u001b[0m\u001b[0mkwarrgs_learn\u001b[0m\u001b[1;33m(\u001b[0m\u001b[1;33m)\u001b[0m\u001b[1;33m\u001b[0m\u001b[1;33m\u001b[0m\u001b[0m\n\u001b[0m\u001b[0;32m      2\u001b[0m \u001b[0ma\u001b[0m\u001b[1;33m.\u001b[0m\u001b[0mget_values\u001b[0m\u001b[1;33m(\u001b[0m\u001b[1;33m)\u001b[0m\u001b[1;33m\u001b[0m\u001b[1;33m\u001b[0m\u001b[0m\n",
      "\u001b[1;31mTypeError\u001b[0m: __init__() should return None, not 'list'"
     ]
    }
   ],
   "source": [
    "a=kwarrgs_learn()\n",
    "a.get_values()"
   ]
  },
  {
   "cell_type": "markdown",
   "metadata": {},
   "source": [
    "# Q4"
   ]
  },
  {
   "cell_type": "markdown",
   "metadata": {},
   "source": [
    "Write a python class with instance variable.\n",
    "        \n",
    "        * create a method sample\n",
    "        * create a object for the class\n",
    "        * call the method and class variable\n",
    "        * print the object of the class\n",
    "        "
   ]
  },
  {
   "cell_type": "code",
   "execution_count": null,
   "metadata": {},
   "outputs": [],
   "source": []
  },
  {
   "cell_type": "markdown",
   "metadata": {},
   "source": [
    "# Q5"
   ]
  },
  {
   "cell_type": "raw",
   "metadata": {},
   "source": [
    "Create a class Employee with constructor which has 2 parameters salary and name. \n",
    "        \n",
    "        * create an object for the class\n",
    "        * print properties of the object\n",
    "        * update the object properties with different values and print.\n",
    "        "
   ]
  },
  {
   "cell_type": "code",
   "execution_count": null,
   "metadata": {},
   "outputs": [],
   "source": []
  }
 ],
 "metadata": {
  "kernelspec": {
   "display_name": "Python 3",
   "language": "python",
   "name": "python3"
  },
  "language_info": {
   "codemirror_mode": {
    "name": "ipython",
    "version": 3
   },
   "file_extension": ".py",
   "mimetype": "text/x-python",
   "name": "python",
   "nbconvert_exporter": "python",
   "pygments_lexer": "ipython3",
   "version": "3.7.6"
  }
 },
 "nbformat": 4,
 "nbformat_minor": 4
}
