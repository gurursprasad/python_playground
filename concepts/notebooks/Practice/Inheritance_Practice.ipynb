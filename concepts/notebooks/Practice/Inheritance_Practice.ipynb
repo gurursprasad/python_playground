{
 "cells": [
  {
   "cell_type": "markdown",
   "metadata": {},
   "source": [
    "# Q1"
   ]
  },
  {
   "cell_type": "markdown",
   "metadata": {},
   "source": [
    "Create a Base class with method person and variable name\n",
    "\n",
    "Create a class Child which inherit a Base clase with method Age and print name and age when object is created."
   ]
  },
  {
   "cell_type": "code",
   "execution_count": null,
   "metadata": {},
   "outputs": [],
   "source": []
  },
  {
   "cell_type": "markdown",
   "metadata": {},
   "source": [
    "# Q2"
   ]
  },
  {
   "cell_type": "markdown",
   "metadata": {},
   "source": [
    "Create class A with class variable firstname, method fname and print the firstname\n",
    "\n",
    "Create class B with class variable lastname, method lname and print the lastname\n",
    "\n",
    "Create class C which  inherits A and B, method fullname should shows firstname and lastname "
   ]
  },
  {
   "cell_type": "code",
   "execution_count": null,
   "metadata": {},
   "outputs": [],
   "source": []
  },
  {
   "cell_type": "markdown",
   "metadata": {},
   "source": [
    "# Q3"
   ]
  },
  {
   "cell_type": "markdown",
   "metadata": {},
   "source": [
    "Create 3 classes \n",
    "- Mobile (methods: sendMsg,makeCall,saveContact) , AndroidPhone (takeVideo), SmartPhone(connectWhatsApp)\n",
    "- AndroidPhone inherit Mobile and SmartPhone inherit AndroidPhone\n",
    "- Create object for SmartPhone and execute all the methods"
   ]
  },
  {
   "cell_type": "code",
   "execution_count": null,
   "metadata": {},
   "outputs": [],
   "source": []
  },
  {
   "cell_type": "markdown",
   "metadata": {},
   "source": [
    "# Q4"
   ]
  },
  {
   "cell_type": "markdown",
   "metadata": {},
   "source": [
    "Create a class Father with function fathername which prints a name\n",
    "\n",
    "Create a class Child which inherit Father\n",
    "\n",
    "Child class method childname sholud print a childname and fathername with Super() function."
   ]
  },
  {
   "cell_type": "code",
   "execution_count": null,
   "metadata": {},
   "outputs": [],
   "source": []
  },
  {
   "cell_type": "markdown",
   "metadata": {},
   "source": [
    "# Q5"
   ]
  },
  {
   "cell_type": "markdown",
   "metadata": {},
   "source": [
    "Create a Base class with constructor  which has the variable value = \"Parent class\"\n",
    "\n",
    "Define a method display to print the value\n",
    "\n",
    "Create a Child class inherits Base class which has the variable value = \"Child class\"\n",
    "\n",
    "Define a method display to print the Child class value\n"
   ]
  },
  {
   "cell_type": "code",
   "execution_count": null,
   "metadata": {},
   "outputs": [],
   "source": []
  }
 ],
 "metadata": {
  "kernelspec": {
   "display_name": "Python 3",
   "language": "python",
   "name": "python3"
  },
  "language_info": {
   "codemirror_mode": {
    "name": "ipython",
    "version": 3
   },
   "file_extension": ".py",
   "mimetype": "text/x-python",
   "name": "python",
   "nbconvert_exporter": "python",
   "pygments_lexer": "ipython3",
   "version": "3.7.6"
  }
 },
 "nbformat": 4,
 "nbformat_minor": 4
}
