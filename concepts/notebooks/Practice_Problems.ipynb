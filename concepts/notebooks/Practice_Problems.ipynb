{
 "cells": [
  {
   "cell_type": "markdown",
   "metadata": {},
   "source": [
    "# 1. \n",
    "\n",
    "Write a program which will find factors of given number and find whether the factor is even or odd.\n"
   ]
  },
  {
   "cell_type": "code",
   "execution_count": 7,
   "metadata": {},
   "outputs": [
    {
     "name": "stdout",
     "output_type": "stream",
     "text": [
      "12\n",
      "1\n",
      "2\n",
      "3\n",
      "4\n",
      "6\n",
      "12\n"
     ]
    }
   ],
   "source": [
    "n=int(input())\n",
    "i=1\n",
    "while i<=n:\n",
    "    if n%i==0:\n",
    "        print(i)\n",
    "    i+=1 "
   ]
  },
  {
   "cell_type": "code",
   "execution_count": 12,
   "metadata": {},
   "outputs": [
    {
     "name": "stdout",
     "output_type": "stream",
     "text": [
      "12\n",
      "1\n",
      "2\n",
      "3\n",
      "4\n",
      "6\n",
      "12\n"
     ]
    }
   ],
   "source": [
    "n=int(input())\n",
    "i=1\n",
    "for i in range(1,n+1):\n",
    "    if n%i==0:\n",
    "        print(i)"
   ]
  },
  {
   "cell_type": "markdown",
   "metadata": {},
   "source": [
    "# 2. \n",
    "\n",
    "Write a code which accepts a sequence of words as input and prints the words in a sequence after sorting them alphabetically.\n"
   ]
  },
  {
   "cell_type": "code",
   "execution_count": 48,
   "metadata": {},
   "outputs": [
    {
     "name": "stdout",
     "output_type": "stream",
     "text": [
      "Enter the string : vfdddddd gfdddg\n",
      "['gfdddg', 'vfdddddd']\n"
     ]
    }
   ],
   "source": [
    "s=input(\"Enter the string : \")\n",
    "l=s.split()\n",
    "l1=[]\n",
    "op=''\n",
    "for x in l:\n",
    "    l1.append((x))\n",
    "print(sorted(l1))"
   ]
  },
  {
   "cell_type": "markdown",
   "metadata": {},
   "source": [
    "# 3.\n",
    "\n",
    "Write a program, which will find all the numbers between 1000 and 3000 (both included) such that each digit of a number is an even number. The numbers obtained should be printed in a comma separared sequence on a single line.\n"
   ]
  },
  {
   "cell_type": "code",
   "execution_count": null,
   "metadata": {},
   "outputs": [],
   "source": []
  },
  {
   "cell_type": "markdown",
   "metadata": {},
   "source": [
    "# 4.\n",
    "\n",
    "Write a program that accepts a sentence and calculate the number of letters and digits.\n"
   ]
  },
  {
   "cell_type": "code",
   "execution_count": 8,
   "metadata": {},
   "outputs": [
    {
     "name": "stdout",
     "output_type": "stream",
     "text": [
      "Enter the sentence : bgf 54 23gfd\n",
      "6\n",
      "4\n"
     ]
    }
   ],
   "source": [
    "s=input(\"Enter the sentence : \")\n",
    "nos=0\n",
    "chtr=0\n",
    "for ch in s:\n",
    "    if ch.isalpha():\n",
    "        nos+=1\n",
    "    if ch.isnumeric():\n",
    "        chtr+=1\n",
    "print(nos)\n",
    "print(chtr)\n",
    "        "
   ]
  },
  {
   "cell_type": "markdown",
   "metadata": {},
   "source": [
    "# 5.\n",
    "\n",
    "Design a code which will find the given number is Palindrome number or not.\n"
   ]
  },
  {
   "cell_type": "code",
   "execution_count": 20,
   "metadata": {},
   "outputs": [
    {
     "name": "stdout",
     "output_type": "stream",
     "text": [
      "Enter the number : 121121\n",
      "Its a palindrome number\n"
     ]
    }
   ],
   "source": [
    "n=input(\"Enter the number : \")\n",
    "rev=[]\n",
    "i=len(n)-1\n",
    "while i>=0:\n",
    "    rev.append(n[i])\n",
    "    i-=1\n",
    "reverse=''.join(rev)\n",
    "if n==reverse:\n",
    "    print(\"Its a palindrome number\")\n",
    "else:\n",
    "    print(\"Its not a palindrome number\")\n",
    "    "
   ]
  },
  {
   "cell_type": "markdown",
   "metadata": {},
   "source": [
    "# 6.\n",
    "\n",
    "A website requires a user to input username and password to register. Write a program to check the validity of password given by user. Following are the criteria for checking password:\n",
    "\t- At least 1 letter between [a-z]\n",
    "\t- At least 1 number between [0-9]\n",
    "\t- At least 1 letter between [A-Z]\n",
    "\t- At least 1 character from [$#@]\n",
    "\t- Minimum length of transaction password: 6\n",
    "\t- Maximum length of transaction password: 12"
   ]
  },
  {
   "cell_type": "code",
   "execution_count": 44,
   "metadata": {},
   "outputs": [
    {
     "name": "stdout",
     "output_type": "stream",
     "text": [
      "Enter the password : 232545\n",
      "Should have [a-z]\n",
      "Should have [a-z]\n",
      "Should have [a-z]\n",
      "Should have [a-z]\n",
      "Should have [a-z]\n",
      "Should have [a-z]\n"
     ]
    }
   ],
   "source": [
    "s=input(\"Enter the password : \")\n",
    "l=len(s)\n",
    "#if (len(user_input)<6 or len(user_input)>12):\n",
    "for ch in s:\n",
    "    if ord(ch)<97 or ord(ch)>122:\n",
    "        print(\"Should have [a-z]\")\n",
    "        continue\n",
    "    elif 48<=ord(ch)<=57:\n",
    "        print(\"Should have [0-9]\")     \n",
    "        continue\n",
    "    elif 65<=ord(ch)<=90:\n",
    "        print(\"Should have [A-Z]\")\n",
    "        continue\n",
    "    elif ord(ch)==35:\n",
    "        print(\"Should have [#$@]\")\n",
    "        continue\n",
    "    elif ord(ch)==36:\n",
    "        print(\"Should have [#$@]\")\n",
    "        continue\n",
    "    elif ord(ch)==64:\n",
    "        print(\"Should have [#$@]\")\n",
    "        continue\n",
    "    else:\n",
    "        print(\"Valid\")"
   ]
  },
  {
   "cell_type": "markdown",
   "metadata": {},
   "source": [
    "# 7.\n",
    "\n",
    "Write a for loop that prints all elements of a list and their position in the list. a = [4,7,3,2,5,9]\n"
   ]
  },
  {
   "cell_type": "code",
   "execution_count": 15,
   "metadata": {},
   "outputs": [
    {
     "name": "stdout",
     "output_type": "stream",
     "text": [
      "4 0\n",
      "7 1\n",
      "3 2\n",
      "2 3\n",
      "5 4\n",
      "9 5\n"
     ]
    }
   ],
   "source": [
    "a=[4,7,3,2,5,9]\n",
    "i=0\n",
    "op=[]\n",
    "while i<len(a):\n",
    "    op.append(a[i])\n",
    "    print(a[i],i)\n",
    "    i+=1"
   ]
  },
  {
   "cell_type": "markdown",
   "metadata": {},
   "source": [
    "# 8.\n",
    "\n",
    "Please write a program which accepts a string from console and print the characters that have even indexes.\n"
   ]
  },
  {
   "cell_type": "code",
   "execution_count": 22,
   "metadata": {},
   "outputs": [
    {
     "name": "stdout",
     "output_type": "stream",
     "text": [
      "Enter the string : hi da\n",
      "h a\n"
     ]
    }
   ],
   "source": [
    "s=input(\"Enter the string : \")\n",
    "op=''\n",
    "i=0\n",
    "while i<=len(s):\n",
    "    op=op+s[i]\n",
    "    i+=2\n",
    "print(op)"
   ]
  },
  {
   "cell_type": "markdown",
   "metadata": {},
   "source": [
    "# 9.\n",
    "\n",
    "Please write a program which accepts a string from console and print it in reverse order.\n"
   ]
  },
  {
   "cell_type": "code",
   "execution_count": 23,
   "metadata": {},
   "outputs": [
    {
     "name": "stdout",
     "output_type": "stream",
     "text": [
      "Enter the string : fngjrgjk\n",
      "kjgrjgnf\n"
     ]
    }
   ],
   "source": [
    "s=input(\"Enter the string : \")\n",
    "op=''\n",
    "i=len(s)-1\n",
    "while i>=0:\n",
    "    op=op+s[i]\n",
    "    i-=1\n",
    "print(op)"
   ]
  },
  {
   "cell_type": "markdown",
   "metadata": {},
   "source": [
    "# 10.\n",
    "\n",
    "Please write a program which count and print the numbers of each character in a string input by console\n"
   ]
  },
  {
   "cell_type": "code",
   "execution_count": 32,
   "metadata": {},
   "outputs": [
    {
     "name": "stdout",
     "output_type": "stream",
     "text": [
      "Enter the string : aaa bbb cc\n",
      "a occures 3 times\n",
      "  occures 2 times\n",
      "b occures 3 times\n",
      "c occures 2 times\n"
     ]
    }
   ],
   "source": [
    "s=input(\"Enter the string : \")\n",
    "l=[]\n",
    "for ch in s:\n",
    "    if ch not in l:\n",
    "        l.append(ch)\n",
    "for ch in l:\n",
    "    print('{} occures {} times'.format(ch,s.count(ch)))        "
   ]
  },
  {
   "cell_type": "code",
   "execution_count": 30,
   "metadata": {},
   "outputs": [
    {
     "name": "stdout",
     "output_type": "stream",
     "text": [
      "Enter the sring : aaaa bbb cc\n",
      "4a1 3b1 2c\n"
     ]
    }
   ],
   "source": [
    "s=input(\"Enter the sring : \")\n",
    "c=1\n",
    "prev=s[0]\n",
    "op=''\n",
    "i=1\n",
    "while i<len(s):\n",
    "    if s[i]==prev:\n",
    "        c+=1\n",
    "    else:\n",
    "        op=op+str(c)+prev\n",
    "        c=1\n",
    "        prev=s[i]\n",
    "    if i==len(s)-1:\n",
    "        op=op+str(c)+prev     \n",
    "    i+=1\n",
    "print(op)\n",
    "        "
   ]
  },
  {
   "cell_type": "code",
   "execution_count": null,
   "metadata": {},
   "outputs": [],
   "source": []
  }
 ],
 "metadata": {
  "kernelspec": {
   "display_name": "Python 3",
   "language": "python",
   "name": "python3"
  },
  "language_info": {
   "codemirror_mode": {
    "name": "ipython",
    "version": 3
   },
   "file_extension": ".py",
   "mimetype": "text/x-python",
   "name": "python",
   "nbconvert_exporter": "python",
   "pygments_lexer": "ipython3",
   "version": "3.7.6"
  }
 },
 "nbformat": 4,
 "nbformat_minor": 4
}
