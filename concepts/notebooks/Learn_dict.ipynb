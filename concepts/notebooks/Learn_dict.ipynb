{
 "cells": [
  {
   "cell_type": "markdown",
   "metadata": {},
   "source": [
    "# Dict\n",
    "\n",
    "    key value pair\n",
    "    key should be always unique\n",
    "    value can have duplicates\n",
    "    Unordered"
   ]
  },
  {
   "cell_type": "code",
   "execution_count": null,
   "metadata": {},
   "outputs": [],
   "source": [
    "d={}"
   ]
  },
  {
   "cell_type": "code",
   "execution_count": null,
   "metadata": {},
   "outputs": [],
   "source": [
    "type(d)"
   ]
  },
  {
   "cell_type": "code",
   "execution_count": null,
   "metadata": {},
   "outputs": [],
   "source": [
    "d={\"Data\":2,\"Science\":3}"
   ]
  },
  {
   "cell_type": "code",
   "execution_count": null,
   "metadata": {},
   "outputs": [],
   "source": [
    "d"
   ]
  },
  {
   "cell_type": "code",
   "execution_count": null,
   "metadata": {},
   "outputs": [],
   "source": [
    "print(d.get(\"Data\"))"
   ]
  },
  {
   "cell_type": "code",
   "execution_count": null,
   "metadata": {},
   "outputs": [],
   "source": [
    "print(d.items())"
   ]
  },
  {
   "cell_type": "code",
   "execution_count": null,
   "metadata": {},
   "outputs": [],
   "source": [
    "d2={\"Data\":55,\"js\":10}\n",
    "print(d.keys())\n",
    "print(d.fromkeys(\"Data\"))\n",
    "d.update(d2)\n",
    "d2\n",
    "d"
   ]
  },
  {
   "cell_type": "code",
   "execution_count": null,
   "metadata": {},
   "outputs": [],
   "source": [
    "d.values()"
   ]
  },
  {
   "cell_type": "code",
   "execution_count": null,
   "metadata": {},
   "outputs": [],
   "source": []
  },
  {
   "cell_type": "code",
   "execution_count": null,
   "metadata": {},
   "outputs": [],
   "source": []
  },
  {
   "cell_type": "code",
   "execution_count": null,
   "metadata": {},
   "outputs": [],
   "source": []
  },
  {
   "cell_type": "markdown",
   "metadata": {},
   "source": [
    "# Q\n",
    "\n",
    "Write a program to generate a dictionary that contains (i, i*i) such that is an integral number between 1 and n (both included). and then the program should print the dictionary.\n"
   ]
  },
  {
   "cell_type": "code",
   "execution_count": 1,
   "metadata": {},
   "outputs": [
    {
     "name": "stdout",
     "output_type": "stream",
     "text": [
      "{1: 1, 2: 4, 3: 9, 4: 16, 5: 25, 6: 36, 7: 49}\n"
     ]
    }
   ],
   "source": [
    "n=8\n",
    "d=dict()\n",
    "for x in range(1,n):\n",
    "    d[x]=x**2\n",
    "print(d)"
   ]
  },
  {
   "cell_type": "markdown",
   "metadata": {},
   "source": [
    "# Q\n",
    "\n",
    "Write a code for print each character count for given String."
   ]
  },
  {
   "cell_type": "code",
   "execution_count": 2,
   "metadata": {},
   "outputs": [
    {
     "name": "stdout",
     "output_type": "stream",
     "text": [
      "Enter the string : bbdjvjdjkvx fjkdjkgjfk\n",
      "{'b': 2, 'd': 3, 'j': 6, 'v': 2, 'k': 4, 'x': 1, ' ': 1, 'f': 2, 'g': 1}\n"
     ]
    }
   ],
   "source": [
    "str1=input(\"Enter the string : \")\n",
    "dict={}\n",
    "for n in str1:\n",
    "    keys=dict.keys()\n",
    "    if n in keys:\n",
    "        dict[n]+=1\n",
    "    else:\n",
    "        dict[n]=1\n",
    "print(dict)"
   ]
  },
  {
   "cell_type": "markdown",
   "metadata": {},
   "source": [
    "# Q\n",
    "\n",
    "Write a Program for get given character count for given String\n",
    "\n",
    "    input  -> 'testleaf'\n",
    "    input  -> 'e'\n",
    "    output -> {'e': 2}"
   ]
  },
  {
   "cell_type": "code",
   "execution_count": 1,
   "metadata": {},
   "outputs": [
    {
     "name": "stdout",
     "output_type": "stream",
     "text": [
      "Enter the string : sngdfjkgdf\n",
      "Enter the letter : f\n",
      "{'s': 1, 'n': 1, 'g': 2, 'd': 2, 'f': 2, 'j': 1, 'k': 1}\n",
      "2\n"
     ]
    }
   ],
   "source": [
    "str1=input(\"Enter the string : \")\n",
    "str2=input(\"Enter the letter : \")\n",
    "dict={}\n",
    "for ch in str1:\n",
    "    keys=dict.keys()\n",
    "    if ch in keys:\n",
    "        dict[ch]+=1\n",
    "    else:\n",
    "        dict[ch]=1\n",
    "print(dict)\n",
    "print(dict.get(str2))"
   ]
  },
  {
   "cell_type": "markdown",
   "metadata": {},
   "source": [
    "# Q\n",
    "\n",
    "Write a code for print each word count for given String.\n",
    "\n",
    "    input  -> \"Data hello Data\";\n",
    "    output -> \"{'Data': 2, 'hello': 1}\""
   ]
  },
  {
   "cell_type": "code",
   "execution_count": 6,
   "metadata": {},
   "outputs": [
    {
     "name": "stdout",
     "output_type": "stream",
     "text": [
      "Enter the string : input data input\n",
      "2\n",
      "1\n"
     ]
    }
   ],
   "source": [
    "s=input(\"Enter the string : \")\n",
    "l=s.split()\n",
    "d={}\n",
    "l1=[]\n",
    "c=0\n",
    "for word in l:\n",
    "    if word not in l1:\n",
    "        l1.append(word)\n",
    "for word in l1:\n"
   ]
  },
  {
   "cell_type": "code",
   "execution_count": 1,
   "metadata": {},
   "outputs": [
    {
     "name": "stdout",
     "output_type": "stream",
     "text": [
      "Enter the string : data hello data\n",
      "{'data': 2, 'hello': 1}\n"
     ]
    }
   ],
   "source": [
    "s=input(\"Enter the string : \")\n",
    "l=s.split()\n",
    "d={}\n",
    "l1=[]\n",
    "for word in l:\n",
    "    if word not in l1:\n",
    "        l1.append(word)\n",
    "for word in l1:\n",
    "    d[word] = s.count(word)\n",
    "print(d)"
   ]
  },
  {
   "cell_type": "code",
   "execution_count": null,
   "metadata": {},
   "outputs": [],
   "source": []
  },
  {
   "cell_type": "code",
   "execution_count": null,
   "metadata": {},
   "outputs": [],
   "source": [
    "\n",
    "\n"
   ]
  },
  {
   "cell_type": "code",
   "execution_count": null,
   "metadata": {},
   "outputs": [],
   "source": []
  }
 ],
 "metadata": {
  "kernelspec": {
   "display_name": "Python 3",
   "language": "python",
   "name": "python3"
  },
  "language_info": {
   "codemirror_mode": {
    "name": "ipython",
    "version": 3
   },
   "file_extension": ".py",
   "mimetype": "text/x-python",
   "name": "python",
   "nbconvert_exporter": "python",
   "pygments_lexer": "ipython3",
   "version": "3.7.6"
  }
 },
 "nbformat": 4,
 "nbformat_minor": 4
}
