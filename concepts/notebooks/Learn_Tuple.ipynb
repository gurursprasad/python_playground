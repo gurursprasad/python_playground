{
 "cells": [
  {
   "cell_type": "code",
   "execution_count": 1,
   "metadata": {},
   "outputs": [],
   "source": [
    "tp=()"
   ]
  },
  {
   "cell_type": "code",
   "execution_count": 2,
   "metadata": {},
   "outputs": [
    {
     "data": {
      "text/plain": [
       "()"
      ]
     },
     "execution_count": 2,
     "metadata": {},
     "output_type": "execute_result"
    }
   ],
   "source": [
    "tp"
   ]
  },
  {
   "cell_type": "code",
   "execution_count": 3,
   "metadata": {},
   "outputs": [
    {
     "data": {
      "text/plain": [
       "tuple"
      ]
     },
     "execution_count": 3,
     "metadata": {},
     "output_type": "execute_result"
    }
   ],
   "source": [
    "type(tp)"
   ]
  },
  {
   "cell_type": "code",
   "execution_count": 17,
   "metadata": {
    "scrolled": true
   },
   "outputs": [
    {
     "name": "stdout",
     "output_type": "stream",
     "text": [
      "21 21 21 21\n",
      "['21', '21', '21', '21']\n",
      "('21', '21', '21', '21')\n"
     ]
    }
   ],
   "source": [
    "s=input()\n",
    "ls=s.split()\n",
    "tp=tuple(ls)\n",
    "print(ls)\n",
    "print(tp)"
   ]
  },
  {
   "cell_type": "code",
   "execution_count": 12,
   "metadata": {},
   "outputs": [
    {
     "name": "stdout",
     "output_type": "stream",
     "text": [
      "[0, 1, 4, 9, 16, 25, 36, 49, 64, 81, 100, 121, 144, 169, 196, 225, 256, 289, 324, 361]\n",
      "(0, 1, 4, 9, 16, 25, 36, 49, 64, 81, 100, 121, 144, 169, 196, 225, 256, 289, 324, 361)\n"
     ]
    }
   ],
   "source": [
    "ls=[]\n",
    "tp=()\n",
    "for i in range(20):\n",
    "    i=i**2\n",
    "    ls.append(i)\n",
    "print(ls)\n",
    "tp=tuple(ls)\n",
    "print(tp)"
   ]
  },
  {
   "cell_type": "code",
   "execution_count": 25,
   "metadata": {},
   "outputs": [
    {
     "name": "stdout",
     "output_type": "stream",
     "text": [
      "hi\n",
      "2\n"
     ]
    }
   ],
   "source": [
    "s=input()\n",
    "l=s.split()\n",
    "le=len(l)\n",
    "ch=[]\n",
    "i=0\n",
    "while i < le:\n",
    "    \n",
    "    i=i+2\n",
    "print(i)"
   ]
  },
  {
   "cell_type": "markdown",
   "metadata": {},
   "source": [
    "# Q\n",
    "With a given tuple (1,2,3,4,5,6,7,8,9,10), write a program to print the first half values in one line    and the last half values in one line.\n",
    "\n",
    "\tinput  : (1,2,3,4,5,6,7,8,9,10,11)\n",
    "\toutput : (1,2,3,4,5)\n",
    "\t\t (6,7,8,9,10)"
   ]
  },
  {
   "cell_type": "code",
   "execution_count": 43,
   "metadata": {},
   "outputs": [
    {
     "name": "stdout",
     "output_type": "stream",
     "text": [
      "1,2,3,4,5,6,7,8,9,10\n",
      "[1, 2, 3, 4, 5]\n",
      "[6, 7, 8, 9, 10]\n"
     ]
    }
   ],
   "source": [
    "l=list(map(int,input().split(\",\")))\n",
    "l1=len(l)//2\n",
    "fh=l[ : l1]\n",
    "sh=l[l1 : ]\n",
    "print(fh)\n",
    "print(sh)"
   ]
  },
  {
   "cell_type": "code",
   "execution_count": 51,
   "metadata": {},
   "outputs": [
    {
     "name": "stdout",
     "output_type": "stream",
     "text": [
      "1,2,3,4,5,6,7,8,9,10\n",
      "[0, 1, 2, 3, 4, 5]\n",
      "[5, 6, 7, 8, 9, 10]\n"
     ]
    }
   ],
   "source": [
    "# Alternate Method\n",
    "\n",
    "l=list(map(int,input().split(\",\")))\n",
    "l1=len(l)//2\n",
    "fh=[]\n",
    "sh=[]\n",
    "for x in range(0,l1+1):\n",
    "    fh.append(x)\n",
    "print(fh)\n",
    "for x in range(l1,len(l)+1):\n",
    "    sh.append(x)\n",
    "print(sh)"
   ]
  },
  {
   "cell_type": "markdown",
   "metadata": {},
   "source": [
    "# Q\n",
    "Write a program to generate and print another tuple whose values are in even indexes in the given tuple \n",
    "\tinput  : (1,2,3,4,5,6,7,8,9,10)\n",
    "\toutput : (1, 3, 5, 7, 9)"
   ]
  },
  {
   "cell_type": "code",
   "execution_count": null,
   "metadata": {},
   "outputs": [],
   "source": [
    "l=list(map(int,input().split(\",\")))\n",
    "op=[]\n",
    "i=0\n",
    "while i<len(l):\n",
    "    if i%2==0:\n",
    "        op.append(l[i])\n",
    "        i+=2\n",
    "print(op)"
   ]
  },
  {
   "cell_type": "markdown",
   "metadata": {},
   "source": [
    "# Q\n",
    "Write a program to generate and print another tuple whose values are even numbers in the given tuple \n",
    "\tinput  : (1,2,3,4,5,6,7,8,9,10)\n",
    "\toutput : (2, 4, 6, 8, 10)"
   ]
  },
  {
   "cell_type": "code",
   "execution_count": null,
   "metadata": {},
   "outputs": [],
   "source": [
    "l=list(map(int,input().split(\",\")))\n",
    "op=[]\n",
    "for d in l:\n",
    "    if d%2==0:\n",
    "        op.append(d)\n",
    "print(op)"
   ]
  }
 ],
 "metadata": {
  "kernelspec": {
   "display_name": "Python 3",
   "language": "python",
   "name": "python3"
  },
  "language_info": {
   "codemirror_mode": {
    "name": "ipython",
    "version": 3
   },
   "file_extension": ".py",
   "mimetype": "text/x-python",
   "name": "python",
   "nbconvert_exporter": "python",
   "pygments_lexer": "ipython3",
   "version": "3.7.6"
  }
 },
 "nbformat": 4,
 "nbformat_minor": 4
}
