{
 "cells": [
  {
   "cell_type": "markdown",
   "metadata": {},
   "source": [
    "# Q1"
   ]
  },
  {
   "cell_type": "markdown",
   "metadata": {},
   "source": [
    "Write a Python program to get a single string from two given strings, separated by a space and swap the first two characters of each string.\n",
    "\n",
    "\tinput  : \"Test\", \"Leaf\"\n",
    "\toutput : \"Lest Teaf\"\n"
   ]
  },
  {
   "cell_type": "code",
   "execution_count": 5,
   "metadata": {},
   "outputs": [
    {
     "name": "stdout",
     "output_type": "stream",
     "text": [
      "Enter the string :  hello world\n",
      "world hello\n"
     ]
    }
   ],
   "source": [
    "s=input(\"Enter the string :  \")\n",
    "ls=s.split()\n",
    "x=ls[::-1]\n",
    "output=' '.join(x)\n",
    "print(output)"
   ]
  },
  {
   "cell_type": "markdown",
   "metadata": {},
   "source": [
    "# Q2"
   ]
  },
  {
   "cell_type": "markdown",
   "metadata": {},
   "source": [
    "Write a Python program to add 'ing' at the end of a given string (length should be at least 3). If the given string already ends with 'ing' then add 'ly' instead. If the string length of the given string is less than 3, leave it unchanged. Go to the editor\n",
    "\n",
    "\tinput  : 'abc'\n",
    "\toutput : 'abcing'\n",
    "\n",
    "\tinput  : 'string'\n",
    "\toutput : 'stringly'"
   ]
  },
  {
   "cell_type": "code",
   "execution_count": 25,
   "metadata": {},
   "outputs": [
    {
     "name": "stdout",
     "output_type": "stream",
     "text": [
      "Enter the string : abc\n",
      "3\n",
      "abcing\n"
     ]
    }
   ],
   "source": [
    "s=input(\"Enter the string : \")\n",
    "i=len(s)\n",
    "print(i)\n",
    "x=''\n",
    "if s.endswith(\"ing\", i-3,i):\n",
    "    x=s+'ly'\n",
    "else:\n",
    "    x=s+'ing'\n",
    "print(x)"
   ]
  },
  {
   "cell_type": "markdown",
   "metadata": {},
   "source": [
    "# Q3"
   ]
  },
  {
   "cell_type": "markdown",
   "metadata": {},
   "source": [
    "Allow user to input a sentence. Create a List of Words in sentence. Create another list that would give length of \n",
    "corresponding word in a list.\n",
    "\n",
    "\tinput  : 'Python is a easy language'\n",
    "\toutput : List:   [\"Python\", \"is\", \"a\", \"easy\", \"language\"] \n",
    "             Length: [6, 2, 1, 4, 8]    "
   ]
  },
  {
   "cell_type": "code",
   "execution_count": 29,
   "metadata": {},
   "outputs": [
    {
     "name": "stdout",
     "output_type": "stream",
     "text": [
      "Enter the string : Python is a easy language\n",
      "['Python', 'is', 'a', 'easy', 'language']\n",
      "[6, 2, 1, 4, 8]\n"
     ]
    }
   ],
   "source": [
    "s=input(\"Enter the string : \")\n",
    "l=s.split()\n",
    "y=[]\n",
    "print(l)\n",
    "for x in l:\n",
    "    y.append(len(x))\n",
    "print(y)"
   ]
  },
  {
   "cell_type": "markdown",
   "metadata": {},
   "source": [
    "# Q4"
   ]
  },
  {
   "cell_type": "code",
   "execution_count": null,
   "metadata": {},
   "outputs": [],
   "source": [
    "Write a program to find the count of upper, lower, digit and other of given Sting\n",
    "\n",
    "    input  : \"'Python is a easy language compare to other language's. 03-04-2020\" "
   ]
  },
  {
   "cell_type": "code",
   "execution_count": 40,
   "metadata": {},
   "outputs": [
    {
     "name": "stdout",
     "output_type": "stream",
     "text": [
      "Enter the string : Python is a easy language compare to other language's. 03-04-2020     \n",
      "1\n",
      "43\n",
      "8\n",
      "18\n"
     ]
    }
   ],
   "source": [
    "s=input(\"Enter the string : \")\n",
    "upper=0\n",
    "lower=0\n",
    "digit=0\n",
    "special=0\n",
    "for ch in s:\n",
    "    if ch.isupper():\n",
    "        upper+=1\n",
    "    elif ch.islower():\n",
    "        lower+=1\n",
    "    elif ch.isnumeric():\n",
    "        digit+=1\n",
    "    else:\n",
    "        special+=1\n",
    "print(upper)\n",
    "print(lower)\n",
    "print(digit)\n",
    "print(special)"
   ]
  },
  {
   "cell_type": "code",
   "execution_count": null,
   "metadata": {},
   "outputs": [],
   "source": []
  }
 ],
 "metadata": {
  "kernelspec": {
   "display_name": "Python 3",
   "language": "python",
   "name": "python3"
  },
  "language_info": {
   "codemirror_mode": {
    "name": "ipython",
    "version": 3
   },
   "file_extension": ".py",
   "mimetype": "text/x-python",
   "name": "python",
   "nbconvert_exporter": "python",
   "pygments_lexer": "ipython3",
   "version": "3.7.6"
  }
 },
 "nbformat": 4,
 "nbformat_minor": 4
}
