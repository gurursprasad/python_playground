{
 "cells": [
  {
   "cell_type": "code",
   "execution_count": 4,
   "id": "cc627799",
   "metadata": {},
   "outputs": [],
   "source": [
    "# use open() to open a file. open() takes filename and filemodes as arguments\n",
    "# Two types of files:\n",
    "#     text files\n",
    "#     binary files\n",
    "# There are seven text files file modes:\n",
    "#     r - read\n",
    "#     w - write\n",
    "#     a - append\n",
    "#     r+ - read and write\n",
    "#     w+ - write and read\n",
    "#     a+ - append and read\n",
    "#     x - exclusive\n",
    "# There are seven binary files file modes:\n",
    "#     rb - read\n",
    "#     wb - write\n",
    "#     ab - append\n",
    "#     r+b - read and write\n",
    "#     w+b - write and read\n",
    "#     a+b - append and read\n",
    "#     xb - exclusive"
   ]
  },
  {
   "cell_type": "code",
   "execution_count": 5,
   "id": "b26d0b04",
   "metadata": {},
   "outputs": [],
   "source": [
    "# Various properties of file object:\n",
    "#     f = open(\"abc.txt\",\"r\")\n",
    "#     f.name\n",
    "#     f.mode\n",
    "#     f.closed\n",
    "#     f.readable()\n",
    "#     f.writable()"
   ]
  },
  {
   "cell_type": "code",
   "execution_count": 6,
   "id": "cc9f6483",
   "metadata": {},
   "outputs": [],
   "source": [
    "# Write data to txt files:\n",
    "#     write(str)\n",
    "#     writelines(list of lines)"
   ]
  },
  {
   "cell_type": "code",
   "execution_count": 10,
   "id": "df2762c8",
   "metadata": {},
   "outputs": [],
   "source": [
    "f = open(\"abc.txt\", \"w\")\n",
    "f.write(\"Guru\\n\")\n",
    "f.write(\"Prasad\\n\")\n",
    "f.close()"
   ]
  },
  {
   "cell_type": "code",
   "execution_count": 20,
   "id": "484a0c7e",
   "metadata": {},
   "outputs": [],
   "source": [
    "f = open(\"abc.txt\", \"w\")\n",
    "f.writelines([\"List data:\\n\", \"Guru\\n\", \"Prasad\\n\\n\"])\n",
    "f.writelines((\"Tuple data:\\n\", \"Guru\\n\", \"Prasad\\n\\n\"))\n",
    "f.writelines({\"Set data:\\n\", \"Guru\\n\", \"Prasad\\n\\n\"})\n",
    "d = {\"Dict\\n\": \"data\\n\", \"Guru\\n\": \"Prasad\\n\"}\n",
    "f.writelines(d)\n",
    "f.writelines(d.values())\n",
    "f.close()"
   ]
  },
  {
   "cell_type": "code",
   "execution_count": null,
   "id": "dadc1207",
   "metadata": {},
   "outputs": [],
   "source": []
  }
 ],
 "metadata": {
  "kernelspec": {
   "display_name": "Python 3 (ipykernel)",
   "language": "python",
   "name": "python3"
  },
  "language_info": {
   "codemirror_mode": {
    "name": "ipython",
    "version": 3
   },
   "file_extension": ".py",
   "mimetype": "text/x-python",
   "name": "python",
   "nbconvert_exporter": "python",
   "pygments_lexer": "ipython3",
   "version": "3.9.12"
  }
 },
 "nbformat": 4,
 "nbformat_minor": 5
}
