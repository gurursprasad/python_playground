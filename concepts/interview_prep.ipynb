{
 "cells": [
  {
   "cell_type": "code",
   "execution_count": null,
   "id": "4cda1b5c",
   "metadata": {},
   "outputs": [],
   "source": [
    "# Python oops"
   ]
  },
  {
   "cell_type": "code",
   "execution_count": 1,
   "id": "fbeaa75a",
   "metadata": {},
   "outputs": [
    {
     "name": "stdout",
     "output_type": "stream",
     "text": [
      "<__main__.Car object at 0x78fe1c2ba1f0>\n"
     ]
    }
   ],
   "source": [
    "# 1. Class and Object\n",
    "# Class ➔ Blueprint for objects\n",
    "# Object ➔ Instance created from a class\n",
    "\n",
    "class Car:\n",
    "    pass  # Empty class for now\n",
    "\n",
    "# Create an object of Car\n",
    "my_car = Car()\n",
    "print(my_car)\n"
   ]
  },
  {
   "cell_type": "code",
   "execution_count": 2,
   "id": "c46ccacc",
   "metadata": {},
   "outputs": [
    {
     "name": "stdout",
     "output_type": "stream",
     "text": [
      "Toyota\n",
      "Camry\n"
     ]
    }
   ],
   "source": [
    "# 2. Constructor (__init__ method)\n",
    "# Constructor runs automatically when you create an object.\n",
    "\n",
    "class Car:\n",
    "    def __init__(self, brand, model):\n",
    "        self.brand = brand\n",
    "        self.model = model\n",
    "\n",
    "my_car = Car(\"Toyota\", \"Camry\")\n",
    "print(my_car.brand)  # Output: Toyota\n",
    "print(my_car.model)  # Output: Camry\n"
   ]
  },
  {
   "cell_type": "code",
   "execution_count": 3,
   "id": "b0de70e8",
   "metadata": {},
   "outputs": [],
   "source": [
    "# 3. self Keyword\n",
    "# self refers to current instance of the class.\n",
    "\n",
    "# It's mandatory inside instance methods.\n",
    "\n",
    "# Already seen in above example!\n",
    "# (self.brand, self.model refer to current object's brand and model)"
   ]
  },
  {
   "cell_type": "code",
   "execution_count": 4,
   "id": "954103dc",
   "metadata": {},
   "outputs": [],
   "source": [
    "# 4. Attributes\n",
    "# Variables that belong to an object.\n",
    "\n",
    "# Defined inside constructor using self.\n",
    "\n",
    "# brand and model are attributes of my_car."
   ]
  },
  {
   "cell_type": "code",
   "execution_count": 5,
   "id": "61a158c4",
   "metadata": {},
   "outputs": [
    {
     "name": "stdout",
     "output_type": "stream",
     "text": [
      "Honda's engine started.\n"
     ]
    }
   ],
   "source": [
    "# 5. Methods\n",
    "# Functions that belong to a class.\n",
    "\n",
    "class Car:\n",
    "    def __init__(self, brand):\n",
    "        self.brand = brand\n",
    "    \n",
    "    def start_engine(self):\n",
    "        print(f\"{self.brand}'s engine started.\")\n",
    "\n",
    "my_car = Car(\"Honda\")\n",
    "my_car.start_engine()  # Output: Honda's engine started.\n"
   ]
  },
  {
   "cell_type": "code",
   "execution_count": 7,
   "id": "38945d74",
   "metadata": {},
   "outputs": [
    {
     "name": "stdout",
     "output_type": "stream",
     "text": [
      "1500\n"
     ]
    }
   ],
   "source": [
    "# 6. Encapsulation\n",
    "# Protects object’s internal state.\n",
    "\n",
    "# We achieve it by private variables (prefix with __).\n",
    "\n",
    "class BankAccount:\n",
    "    def __init__(self, balance):\n",
    "        self.__balance = balance  # Private attribute\n",
    "    \n",
    "    def get_balance(self):\n",
    "        return self.__balance\n",
    "\n",
    "    def deposit(self, amount):\n",
    "        if amount > 0:\n",
    "            self.__balance += amount\n",
    "\n",
    "account = BankAccount(1000)\n",
    "account.deposit(500)\n",
    "print(account.get_balance())  # Output: 1500\n",
    "\n",
    "# You can't access account.__balance directly!\n"
   ]
  },
  {
   "cell_type": "code",
   "execution_count": 8,
   "id": "3c9b8bbf",
   "metadata": {},
   "outputs": [
    {
     "name": "stdout",
     "output_type": "stream",
     "text": [
      "Animal Sound\n",
      "Dog barks\n"
     ]
    }
   ],
   "source": [
    "# 8. Inheritance\n",
    "# One class inherits properties/methods from another.\n",
    "\n",
    "class Animal:\n",
    "    def sound(self):\n",
    "        print(\"Animal Sound\")\n",
    "\n",
    "class Dog(Animal):\n",
    "    def bark(self):\n",
    "        print(\"Dog barks\")\n",
    "\n",
    "dog = Dog()\n",
    "dog.sound()  # Inherited\n",
    "dog.bark()   # Own method"
   ]
  },
  {
   "cell_type": "code",
   "execution_count": 9,
   "id": "acec2bbb",
   "metadata": {},
   "outputs": [
    {
     "name": "stdout",
     "output_type": "stream",
     "text": [
      "This is a parent class.\n",
      "This is a child class.\n",
      "This is the father class.\n",
      "This is the mother class.\n",
      "This is the child class.\n",
      "This is the grandparent class.\n",
      "This is the parent class.\n",
      "This is the child class.\n",
      "This is the parent class.\n",
      "This is the first child class.\n",
      "This is the parent class.\n",
      "This is the second child class.\n",
      "This is the base class.\n",
      "This is the first derived class.\n",
      "This is the second derived class.\n",
      "This is the third derived class.\n"
     ]
    }
   ],
   "source": [
    "# 9. Types of Inheritance\n",
    "# Single ➔ One parent, one child\n",
    "\n",
    "# Multiple ➔ Child inherits from multiple parents\n",
    "\n",
    "# Multilevel ➔ Grandparent ➔ Parent ➔ Child\n",
    "\n",
    "# Hierarchical ➔ One parent ➔ Multiple children\n",
    "\n",
    "# Hybrid ➔ Combination of above\n",
    "\n",
    "\n",
    "# Single Inheritance\n",
    "class Parent:\n",
    "    def func1(self):\n",
    "        print(\"This is a parent class.\")\n",
    "\n",
    "class Child(Parent):\n",
    "    def func2(self):\n",
    "        print(\"This is a child class.\")\n",
    "\n",
    "single = Child()\n",
    "single.func1()  # Inherited\n",
    "single.func2()  # Own method\n",
    "\n",
    "# Multiple Inheritance\n",
    "class Father:\n",
    "    def func1(self):\n",
    "        print(\"This is the father class.\")\n",
    "\n",
    "class Mother:\n",
    "    def func2(self):\n",
    "        print(\"This is the mother class.\")\n",
    "\n",
    "class Child(Father, Mother):\n",
    "    def func3(self):\n",
    "        print(\"This is the child class.\")\n",
    "\n",
    "multiple = Child()\n",
    "multiple.func1()  # Inherited from Father\n",
    "multiple.func2()  # Inherited from Mother\n",
    "multiple.func3()  # Own method\n",
    "\n",
    "# Multilevel Inheritance\n",
    "class Grandparent:\n",
    "    def func1(self):\n",
    "        print(\"This is the grandparent class.\")\n",
    "\n",
    "class Parent(Grandparent):\n",
    "    def func2(self):\n",
    "        print(\"This is the parent class.\")\n",
    "\n",
    "class Child(Parent):\n",
    "    def func3(self):\n",
    "        print(\"This is the child class.\")\n",
    "\n",
    "multilevel = Child()\n",
    "multilevel.func1()  # Inherited from Grandparent\n",
    "multilevel.func2()  # Inherited from Parent\n",
    "multilevel.func3()  # Own method\n",
    "\n",
    "# Hierarchical Inheritance\n",
    "class Parent:\n",
    "    def func1(self):\n",
    "        print(\"This is the parent class.\")\n",
    "\n",
    "class Child1(Parent):\n",
    "    def func2(self):\n",
    "        print(\"This is the first child class.\")\n",
    "\n",
    "class Child2(Parent):\n",
    "    def func3(self):\n",
    "        print(\"This is the second child class.\")\n",
    "\n",
    "hierarchical1 = Child1()\n",
    "hierarchical1.func1()  # Inherited\n",
    "hierarchical1.func2()  # Own method\n",
    "\n",
    "hierarchical2 = Child2()\n",
    "hierarchical2.func1()  # Inherited\n",
    "hierarchical2.func3()  # Own method\n",
    "\n",
    "# Hybrid Inheritance\n",
    "class Base:\n",
    "    def func1(self):\n",
    "        print(\"This is the base class.\")\n",
    "\n",
    "class Derived1(Base):\n",
    "    def func2(self):\n",
    "        print(\"This is the first derived class.\")\n",
    "\n",
    "class Derived2(Base):\n",
    "    def func3(self):\n",
    "        print(\"This is the second derived class.\")\n",
    "\n",
    "class Derived3(Derived1, Derived2):\n",
    "    def func4(self):\n",
    "        print(\"This is the third derived class.\")\n",
    "\n",
    "hybrid = Derived3()\n",
    "hybrid.func1()  # Inherited from Base\n",
    "hybrid.func2()  # Inherited from Derived1\n",
    "hybrid.func3()  # Inherited from Derived2\n",
    "hybrid.func4()  # Own method"
   ]
  },
  {
   "cell_type": "code",
   "execution_count": 10,
   "id": "26938a22",
   "metadata": {},
   "outputs": [
    {
     "name": "stdout",
     "output_type": "stream",
     "text": [
      "Meow\n"
     ]
    }
   ],
   "source": [
    "# 10. Method Overriding\n",
    "# Child class provides its own version of a parent method.\n",
    "\n",
    "class Animal:\n",
    "    def sound(self):\n",
    "        print(\"Some generic sound\")\n",
    "\n",
    "class Cat(Animal):\n",
    "    def sound(self):\n",
    "        print(\"Meow\")\n",
    "\n",
    "cat = Cat()\n",
    "cat.sound()  # Output: Meow"
   ]
  },
  {
   "cell_type": "code",
   "execution_count": 11,
   "id": "b03ffd7a",
   "metadata": {},
   "outputs": [
    {
     "name": "stdout",
     "output_type": "stream",
     "text": [
      "Bark\n",
      "Meow\n"
     ]
    }
   ],
   "source": [
    "# 11. Polymorphism\n",
    "# Same function name behaves differently on different objects.\n",
    "\n",
    "class Dog:\n",
    "    def sound(self):\n",
    "        print(\"Bark\")\n",
    "\n",
    "class Cat:\n",
    "    def sound(self):\n",
    "        print(\"Meow\")\n",
    "\n",
    "def make_sound(animal):\n",
    "    animal.sound()\n",
    "\n",
    "dog = Dog()\n",
    "cat = Cat()\n",
    "\n",
    "make_sound(dog)\n",
    "make_sound(cat)\n"
   ]
  },
  {
   "cell_type": "code",
   "execution_count": 12,
   "id": "d455cea7",
   "metadata": {},
   "outputs": [],
   "source": [
    "# 12. Abstraction\n",
    "# Hiding internal implementation.\n",
    "\n",
    "# Achieved using abstract classes."
   ]
  },
  {
   "cell_type": "code",
   "execution_count": 13,
   "id": "366b059b",
   "metadata": {},
   "outputs": [
    {
     "name": "stdout",
     "output_type": "stream",
     "text": [
      "Moo\n"
     ]
    }
   ],
   "source": [
    "# 13. Abstract Classes (abc module)\n",
    "# Use ABC and abstractmethod\n",
    "\n",
    "from abc import ABC, abstractmethod\n",
    "\n",
    "class Animal(ABC):\n",
    "    @abstractmethod\n",
    "    def sound(self):\n",
    "        pass\n",
    "\n",
    "class Cow(Animal):\n",
    "    def sound(self):\n",
    "        print(\"Moo\")\n",
    "\n",
    "cow = Cow()\n",
    "cow.sound()\n",
    "\n",
    "# You can't create object of Animal directly!"
   ]
  },
  {
   "cell_type": "code",
   "execution_count": 14,
   "id": "23deb328",
   "metadata": {},
   "outputs": [],
   "source": [
    "# 14. Interfaces\n",
    "# Python doesn’t have real interfaces like Java.\n",
    "\n",
    "# We simulate using abstract classes with all methods abstract."
   ]
  },
  {
   "cell_type": "code",
   "execution_count": 15,
   "id": "0ecfda95",
   "metadata": {},
   "outputs": [
    {
     "name": "stdout",
     "output_type": "stream",
     "text": [
      "2\n"
     ]
    }
   ],
   "source": [
    "# 15. Class Methods (@classmethod)\n",
    "# Works on class not instance.\n",
    "\n",
    "# First argument is cls.\n",
    "\n",
    "class Person:\n",
    "    count = 0\n",
    "\n",
    "    def __init__(self):\n",
    "        Person.count += 1\n",
    "\n",
    "    @classmethod\n",
    "    def get_count(cls):\n",
    "        return cls.count\n",
    "\n",
    "p1 = Person()\n",
    "p2 = Person()\n",
    "print(Person.get_count())  # Output: 2\n"
   ]
  },
  {
   "cell_type": "code",
   "execution_count": 16,
   "id": "42ac4af4",
   "metadata": {},
   "outputs": [
    {
     "name": "stdout",
     "output_type": "stream",
     "text": [
      "5\n"
     ]
    }
   ],
   "source": [
    "# 16. Static Methods (@staticmethod)\n",
    "# No access to instance (self) or class (cls).\n",
    "\n",
    "class Math:\n",
    "    @staticmethod\n",
    "    def add(a, b):\n",
    "        return a + b\n",
    "\n",
    "print(Math.add(2, 3))  # Output: 5\n"
   ]
  },
  {
   "cell_type": "code",
   "execution_count": 17,
   "id": "9b7a3d57",
   "metadata": {},
   "outputs": [
    {
     "name": "stdout",
     "output_type": "stream",
     "text": [
      "Book: Python 101\n"
     ]
    }
   ],
   "source": [
    "# 17. Special (Magic / Dunder) Methods\n",
    "# Methods starting with __ and ending with __.\n",
    "\n",
    "class Book:\n",
    "    def __init__(self, title):\n",
    "        self.title = title\n",
    "    \n",
    "    def __str__(self):\n",
    "        return f\"Book: {self.title}\"\n",
    "\n",
    "book = Book(\"Python 101\")\n",
    "print(book)  # Output: Book: Python 101\n",
    "\n",
    "# Important Magic Methods:\n",
    "\n",
    "# __init__\n",
    "\n",
    "# __str__\n",
    "\n",
    "# __repr__\n",
    "\n",
    "# __len__\n",
    "\n",
    "# __add__\n",
    "\n",
    "# __eq__\n",
    "\n",
    "# etc."
   ]
  },
  {
   "cell_type": "code",
   "execution_count": null,
   "id": "aa195395",
   "metadata": {},
   "outputs": [],
   "source": []
  }
 ],
 "metadata": {
  "kernelspec": {
   "display_name": "base",
   "language": "python",
   "name": "python3"
  },
  "language_info": {
   "codemirror_mode": {
    "name": "ipython",
    "version": 3
   },
   "file_extension": ".py",
   "mimetype": "text/x-python",
   "name": "python",
   "nbconvert_exporter": "python",
   "pygments_lexer": "ipython3",
   "version": "3.9.12"
  }
 },
 "nbformat": 4,
 "nbformat_minor": 5
}
