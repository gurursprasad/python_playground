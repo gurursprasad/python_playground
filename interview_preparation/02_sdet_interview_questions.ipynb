{
 "cells": [
  {
   "cell_type": "code",
   "execution_count": null,
   "id": "2e025cc1",
   "metadata": {},
   "outputs": [],
   "source": [
    "# How do you implement inheritance and super keyword in Python?\n",
    "class A:\n",
    "    def __init__(self, name, age):\n",
    "        self.name = name\n",
    "        self.age = age\n",
    "\n",
    "    def print_info(self):\n",
    "        print(f\"Name: {self.name}\")\n",
    "        print(f\"Age: {self.age}\")\n",
    "\n",
    "class B(A):\n",
    "    def __init__(self, name, age, ht, wt):\n",
    "        super().__init__(name, age)\n",
    "        self.ht = ht\n",
    "        self.wt = wt\n",
    "\n",
    "    def print_info(self):\n",
    "        super().print_info()\n",
    "        print(f\"Height: {self.ht}\")\n",
    "        print(f\"Weight: {self.wt}\")\n",
    "\n",
    "\n",
    "b = B(\"Guru\", 30, 6, 83)\n",
    "b.print_info()"
   ]
  },
  {
   "cell_type": "code",
   "execution_count": 1,
   "id": "0577bbc4",
   "metadata": {},
   "outputs": [
    {
     "name": "stdout",
     "output_type": "stream",
     "text": [
      "Alice\n",
      "30\n"
     ]
    }
   ],
   "source": [
    "# What is __init__() in python?\n",
    "# In Python, __init__ is a special (“dunder”) method on a class that serves as the instance initializer\n",
    "# what many other languages call the “constructor.” \n",
    "# It’s automatically invoked right after a new object is created, and it’s where you set up any per‐instance state.\n",
    "\n",
    "class Person:\n",
    "    def __init__(self, name, age):\n",
    "        # these become attributes on the new instance\n",
    "        self.name = name\n",
    "        self.age = age\n",
    "\n",
    "# When you call Person(...), Python\n",
    "# 1. allocates memory for a new Person object,\n",
    "# 2. calls __new__ to actually create it,\n",
    "# 3. then calls __init__ to initialize it.\n",
    "p = Person(\"Alice\", 30)\n",
    "print(p.name)  # Alice\n",
    "print(p.age)   # 30"
   ]
  },
  {
   "cell_type": "code",
   "execution_count": 9,
   "id": "d6f28b75",
   "metadata": {},
   "outputs": [
    {
     "name": "stdout",
     "output_type": "stream",
     "text": [
      "Guru Prasad \n",
      "\n"
     ]
    }
   ],
   "source": [
    "# How do you read and write files in Python?\n",
    "\n",
    "write = open('abcd.txt', 'w')\n",
    "write.write(\"Guru Prasad \\n\")\n",
    "write.close()\n",
    "\n",
    "# read = open('abcd.txt', 'r')\n",
    "# read.readline()\n",
    "\n",
    "with open('abcd.txt', 'r') as read:\n",
    "    print(read.readline())"
   ]
  },
  {
   "cell_type": "code",
   "execution_count": 14,
   "id": "4d428cf6",
   "metadata": {},
   "outputs": [
    {
     "name": "stdout",
     "output_type": "stream",
     "text": [
      "[{}, {}, {}, {}, {}, {}, {}, {}, {}, {}]\n"
     ]
    }
   ],
   "source": [
    "# How do you create a list of dictionaries in Python?\n",
    "\n",
    "l = []\n",
    "\n",
    "for i in range(0, 10):\n",
    "    l.append(dict())\n",
    "\n",
    "print(l)"
   ]
  },
  {
   "cell_type": "code",
   "execution_count": null,
   "id": "ec9d7653",
   "metadata": {},
   "outputs": [],
   "source": []
  }
 ],
 "metadata": {
  "kernelspec": {
   "display_name": "base",
   "language": "python",
   "name": "python3"
  },
  "language_info": {
   "codemirror_mode": {
    "name": "ipython",
    "version": 3
   },
   "file_extension": ".py",
   "mimetype": "text/x-python",
   "name": "python",
   "nbconvert_exporter": "python",
   "pygments_lexer": "ipython3",
   "version": "3.9.12"
  }
 },
 "nbformat": 4,
 "nbformat_minor": 5
}
