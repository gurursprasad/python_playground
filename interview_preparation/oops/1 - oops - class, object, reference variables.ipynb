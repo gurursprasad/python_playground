{
 "cells": [
  {
   "cell_type": "code",
   "execution_count": 1,
   "id": "37eb85a4",
   "metadata": {},
   "outputs": [],
   "source": [
    "# https://www.youtube.com/watch?v=ark2VQUZvAA&list=PLvRRU_krnBdZTLO3OvbkFcHT_ORHka2Ue&index=1\n",
    "# important terms: \n",
    "#     class - blueprint(just a plan). Represents properties of data members and behaviour of object. Eg: A tv model.\n",
    "#     object - physical existance or a instance of a class(building). Eg: A single tv of a particular model.\n",
    "#     reference variable - refer an object, required to perform operatiosn on python objects. Eg: A remote to perform operations on that tv.\n",
    "    "
   ]
  },
  {
   "cell_type": "code",
   "execution_count": 2,
   "id": "8ef23aab",
   "metadata": {},
   "outputs": [],
   "source": [
    "# How to define a class?\n",
    "# class classname:\n",
    "#     variables => properties/attributes\n",
    "#     methods => actions/behaviours"
   ]
  },
  {
   "cell_type": "code",
   "execution_count": 8,
   "id": "e27c6a36",
   "metadata": {},
   "outputs": [],
   "source": [
    "# Within a pyhton class, there are three types of variables are allowed:\n",
    "#     Instance variable - Object level variables\n",
    "#     Static variable - Class level variables\n",
    "#     Local variable - Method level variables\n",
    "# Within a pyhton class, there are three types of methods are allowed:\n",
    "#     Instance methods\n",
    "#     class methods\n",
    "#     Static methods\n",
    "# Functions defined inside class are called methods\n",
    "    "
   ]
  },
  {
   "cell_type": "code",
   "execution_count": 4,
   "id": "3b313623",
   "metadata": {},
   "outputs": [],
   "source": [
    "# Example 1\n",
    "class Student:\n",
    "    def __init__(self):\n",
    "        self.name = \"Guru\"\n",
    "        self.rollno = \"101\"\n",
    "        self.marks = \"90\"\n",
    "    def talk(self):\n",
    "        print(f\"My name is: {self.name}\")\n",
    "        print(f\"My rollno is: {self.rollno}\")\n",
    "        print(f\"My marks is: {self.marks}\")\n",
    "    "
   ]
  },
  {
   "cell_type": "code",
   "execution_count": 7,
   "id": "7ce55843",
   "metadata": {},
   "outputs": [
    {
     "name": "stdout",
     "output_type": "stream",
     "text": [
      "Guru\n",
      "101\n",
      "90\n",
      "My name is: Guru\n",
      "My rollno is: 101\n",
      "My marks is: 90\n"
     ]
    }
   ],
   "source": [
    "s = Student()\n",
    "print(s.name)\n",
    "print(s.rollno)\n",
    "print(s.marks)\n",
    "s.talk()"
   ]
  },
  {
   "cell_type": "code",
   "execution_count": 23,
   "id": "b6af59dd",
   "metadata": {},
   "outputs": [],
   "source": [
    "# Example 2:\n",
    "class Student:\n",
    "    def __init__(self, name, rollno, marks):\n",
    "        self.name = name\n",
    "        self.rollno = rollno\n",
    "        self.marks = marks\n",
    "    def talk(self, a, b):\n",
    "        print(f\"My name is: {self.name}\")\n",
    "        print(f\"My rollno is: {self.rollno}\")\n",
    "        print(f\"My marks is: {self.marks}\")\n",
    "        print(f\"The next rollno to {self.rollno} is: {a}\")"
   ]
  },
  {
   "cell_type": "code",
   "execution_count": 22,
   "id": "ed4ac1dc",
   "metadata": {},
   "outputs": [
    {
     "name": "stdout",
     "output_type": "stream",
     "text": [
      "My name is: Guru Prasad\n",
      "My rollno is: 100\n",
      "My marks is: 99\n",
      "The next rollno to 100 is:101\n"
     ]
    }
   ],
   "source": [
    "gp = Student(\"Guru Prasad\", 100, 99)\n",
    "gp.talk(101, 102)"
   ]
  },
  {
   "cell_type": "code",
   "execution_count": null,
   "id": "50e9a982",
   "metadata": {},
   "outputs": [],
   "source": []
  }
 ],
 "metadata": {
  "kernelspec": {
   "display_name": "Python 3 (ipykernel)",
   "language": "python",
   "name": "python3"
  },
  "language_info": {
   "codemirror_mode": {
    "name": "ipython",
    "version": 3
   },
   "file_extension": ".py",
   "mimetype": "text/x-python",
   "name": "python",
   "nbconvert_exporter": "python",
   "pygments_lexer": "ipython3",
   "version": "3.9.12"
  }
 },
 "nbformat": 4,
 "nbformat_minor": 5
}
