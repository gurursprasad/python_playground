{
 "cells": [
  {
   "cell_type": "code",
   "execution_count": 1,
   "id": "ac72aac9",
   "metadata": {},
   "outputs": [],
   "source": [
    "# Operator overloading:\n",
    "#     \"+\" can be used on int as well as string. This is a example of operator overloading.\n",
    "#     Eg: 2 + 3 = 5 and \"Guru\" + \"Prasad\" = \"GuruPrasad\""
   ]
  },
  {
   "cell_type": "code",
   "execution_count": 2,
   "id": "f0ee72c3",
   "metadata": {},
   "outputs": [],
   "source": [
    "# class P:\n",
    "#     def marry(self):\n",
    "#         print(\"Marry Ava Addams\")\n",
    "\n",
    "# class C(P):\n",
    "#     def marry(self):\n",
    "#         print(\"Marry Julia Ann\")\n",
    "        \n",
    "# This is an example of method-overriding"
   ]
  },
  {
   "cell_type": "code",
   "execution_count": 3,
   "id": "5f0a575b",
   "metadata": {},
   "outputs": [],
   "source": [
    "# Operator overloading:\n",
    "    # \"+\" operator: In python we can use this operator even on two objects. For this we need to add __add__(self, other)"
   ]
  },
  {
   "cell_type": "code",
   "execution_count": 5,
   "id": "a5d3d71b",
   "metadata": {},
   "outputs": [
    {
     "name": "stdout",
     "output_type": "stream",
     "text": [
      "40\n"
     ]
    }
   ],
   "source": [
    "class Book:\n",
    "    def __init__(self, pages):\n",
    "        self.pages = pages\n",
    "        \n",
    "    def __add__(self, other):\n",
    "        total_pages = self.pages + other.pages\n",
    "        return total_pages\n",
    "    \n",
    "b1 = Book(10)\n",
    "b2 = Book(30)\n",
    "print(b1 + b2)\n",
    "\n",
    "# Here b1 becomes self and b2 becomes other. Hence adding them. Like __add__(self, other), \n",
    "# there are other operators with corresponding magic methods"
   ]
  },
  {
   "cell_type": "code",
   "execution_count": 8,
   "id": "d836a9f1",
   "metadata": {},
   "outputs": [
    {
     "name": "stdout",
     "output_type": "stream",
     "text": [
      "440000\n"
     ]
    }
   ],
   "source": [
    "# \"*\" operator\n",
    "\n",
    "class Employee:\n",
    "    def __init__(self, name, salary_per_day):\n",
    "        self.name = name\n",
    "        self.salary_per_day = salary_per_day\n",
    "        \n",
    "    def __mul__(self, other):\n",
    "        return self.salary_per_day * other.days\n",
    "    \n",
    "class Timesheet:\n",
    "    def __init__(self, name, days):\n",
    "        self.name = name\n",
    "        self.days = days\n",
    "        \n",
    "emp = Employee(\"Guru\", 20000)\n",
    "time = Timesheet(\"Guru\", 22)\n",
    "print(emp*time)\n",
    "\n",
    "# Here there might be confusion of where to define the __mul__(self, other). Python always calls the magic method\n",
    "# from the first object/method. In out case its emp. So __mul__(self, other) is defined in the Employee class"
   ]
  },
  {
   "cell_type": "code",
   "execution_count": 14,
   "id": "3aec6837",
   "metadata": {},
   "outputs": [
    {
     "name": "stdout",
     "output_type": "stream",
     "text": [
      "Total Pages: 55\n"
     ]
    }
   ],
   "source": [
    "# The above approach can be modified to have multiple objects like b1 + b2 + b3. This can be achieved by adding\n",
    "# Book(self.pages  + other.pages). This is similar to type conversions. Where we are converting everything into\n",
    "# objects of class Book. We finally print the total using __str__ method\n",
    "\n",
    "class Book:\n",
    "    def __init__(self, pages):\n",
    "        self.pages = pages\n",
    "        \n",
    "    def __add__(self, other):\n",
    "        total_pages = Book(self.pages + other.pages)\n",
    "        return total_pages\n",
    "    \n",
    "    def __str__(self):\n",
    "        return f\"Total Pages: {self.pages}\"\n",
    "    \n",
    "b1 = Book(10)\n",
    "b2 = Book(30)\n",
    "b3 = Book(15)\n",
    "print(b1 + b2 + b3)\n"
   ]
  },
  {
   "cell_type": "code",
   "execution_count": 42,
   "id": "5dcaed03",
   "metadata": {},
   "outputs": [
    {
     "name": "stdout",
     "output_type": "stream",
     "text": [
      "Constructor\n",
      "The sum is: 0\n",
      "Constructor\n",
      "The sum is: 10\n",
      "Constructor\n",
      "The sum is: 30\n"
     ]
    }
   ],
   "source": [
    "# Methods with variable number of arguments\n",
    "class Test:\n",
    "    def __init__(self):\n",
    "        print(\"Constructor\")\n",
    "    \n",
    "    def m1(self, *args):\n",
    "        total = 0\n",
    "        for no in args:\n",
    "            total = total + no\n",
    "        return f\"The sum is: {total}\"\n",
    "    \n",
    "t1 = Test()\n",
    "print(t1.m1())\n",
    "t2 = Test()\n",
    "print(t2.m1(10))\n",
    "t3 = Test()\n",
    "print(t3.m1(10,20))\n",
    "            "
   ]
  },
  {
   "cell_type": "code",
   "execution_count": null,
   "id": "3589b41d",
   "metadata": {},
   "outputs": [],
   "source": []
  }
 ],
 "metadata": {
  "kernelspec": {
   "display_name": "Python 3 (ipykernel)",
   "language": "python",
   "name": "python3"
  },
  "language_info": {
   "codemirror_mode": {
    "name": "ipython",
    "version": 3
   },
   "file_extension": ".py",
   "mimetype": "text/x-python",
   "name": "python",
   "nbconvert_exporter": "python",
   "pygments_lexer": "ipython3",
   "version": "3.9.12"
  }
 },
 "nbformat": 4,
 "nbformat_minor": 5
}
