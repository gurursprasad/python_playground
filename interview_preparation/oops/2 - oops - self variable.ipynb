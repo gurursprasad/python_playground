{
 "cells": [
  {
   "cell_type": "code",
   "execution_count": 1,
   "id": "4af9adaa",
   "metadata": {},
   "outputs": [],
   "source": [
    "# https://www.youtube.com/watch?v=9hgBZYjCp3M&list=PLvRRU_krnBdZTLO3OvbkFcHT_ORHka2Ue&index=2"
   ]
  },
  {
   "cell_type": "code",
   "execution_count": 2,
   "id": "ccfa7641",
   "metadata": {},
   "outputs": [
    {
     "name": "stdout",
     "output_type": "stream",
     "text": [
      "id of object referenced by self: 124760548841600\n",
      "id od object referenced by t: 124760548841600\n"
     ]
    }
   ],
   "source": [
    "# self is a reference variable which is always pointing to the present object. \n",
    "# Use self inside the class to refer current object.\n",
    "class Test:\n",
    "    def __init__(self):\n",
    "        print(f\"id of object referenced by self: {id(self)}\")\n",
    "        \n",
    "t = Test()\n",
    "print(f\"id od object referenced by t: {id(t)}\")\n",
    "# Both ids will be same"
   ]
  },
  {
   "cell_type": "code",
   "execution_count": null,
   "id": "b5942d37",
   "metadata": {},
   "outputs": [],
   "source": []
  }
 ],
 "metadata": {
  "kernelspec": {
   "display_name": "Python 3 (ipykernel)",
   "language": "python",
   "name": "python3"
  },
  "language_info": {
   "codemirror_mode": {
    "name": "ipython",
    "version": 3
   },
   "file_extension": ".py",
   "mimetype": "text/x-python",
   "name": "python",
   "nbconvert_exporter": "python",
   "pygments_lexer": "ipython3",
   "version": "3.9.12"
  }
 },
 "nbformat": 4,
 "nbformat_minor": 5
}
