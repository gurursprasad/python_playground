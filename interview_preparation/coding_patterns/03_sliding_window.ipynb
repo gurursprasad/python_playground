{
 "cells": [
  {
   "cell_type": "code",
   "execution_count": null,
   "id": "a9f0fac6",
   "metadata": {},
   "outputs": [],
   "source": [
    "# 1. Declare two pointers left and right\n",
    "# 2. left = 0 and right keeps growing equal to the length of array\n",
    "# 3. Maintain a seperate variable(result) to maintain the length of the window. Use (right-left+1) to do this"
   ]
  },
  {
   "cell_type": "code",
   "execution_count": 4,
   "id": "e6e44f48",
   "metadata": {},
   "outputs": [
    {
     "name": "stdout",
     "output_type": "stream",
     "text": [
      "4\n"
     ]
    }
   ],
   "source": [
    "# Given a string, find the longest substring that does not contain any repeated characters\n",
    "s = \"abcdabcbb\"\n",
    "\n",
    "char_set = set()\n",
    "l = 0\n",
    "result = 0\n",
    "\n",
    "for r in range(len(s)):\n",
    "    while s[r] in char_set:\n",
    "        char_set.remove(s[l])\n",
    "        l += 1\n",
    "    char_set.add(s[r])\n",
    "    result = max(result, r-l + 1)\n",
    "\n",
    "print(result)"
   ]
  },
  {
   "cell_type": "code",
   "execution_count": 7,
   "id": "1803529f",
   "metadata": {},
   "outputs": [
    {
     "name": "stdout",
     "output_type": "stream",
     "text": [
      "4\n"
     ]
    }
   ],
   "source": [
    "s = \"abcdabcbb\"\n",
    "\n",
    "left = 0\n",
    "right = 0\n",
    "result = 0\n",
    "l = []\n",
    "\n",
    "while right < len(s):\n",
    "    while s[right] in l:\n",
    "        l.remove(s[right])\n",
    "        left += 1\n",
    "\n",
    "    l.append(s[right])\n",
    "    result = max(result, right-left+1)\n",
    "    right += 1\n",
    "\n",
    "print(result)"
   ]
  },
  {
   "cell_type": "code",
   "execution_count": null,
   "id": "ef5a15fa",
   "metadata": {},
   "outputs": [
    {
     "name": "stdout",
     "output_type": "stream",
     "text": [
      "2\n",
      "[2, 3, 1, 2, 4, 3]\n"
     ]
    }
   ],
   "source": [
    "# Minumum size subarray sum\n",
    "nums = [2,3,1,2,4,3] # op = 2\n",
    "target = 7\n",
    "\n",
    "left = 0\n",
    "right = 0\n",
    "result = 99999999999\n",
    "sub_sum = 0\n",
    "\n",
    "\n",
    "while right < len(nums):\n",
    "    sub_sum += nums[right]\n",
    "    l.append(nums[right])\n",
    "\n",
    "    while sub_sum >= target:\n",
    "        result = min(result, right-left + 1)\n",
    "        sub_sum -= nums[left]\n",
    "        left += 1\n",
    "        \n",
    "    right += 1\n",
    "\n",
    "print(result)"
   ]
  },
  {
   "cell_type": "code",
   "execution_count": 11,
   "id": "0f7d987e",
   "metadata": {},
   "outputs": [
    {
     "name": "stdout",
     "output_type": "stream",
     "text": [
      "5\n"
     ]
    }
   ],
   "source": [
    "s = \"abcdeabcbb\"\n",
    "left = 0\n",
    "right = 0\n",
    "result = 0\n",
    "char_set = set()\n",
    "\n",
    "while right < len(s):\n",
    "  while s[right] in char_set:\n",
    "    char_set.remove(s[right])\n",
    "    left += 1\n",
    "\n",
    "  char_set.add(s[right])\n",
    "  result = max(result, right-left+1)\n",
    "  right += 1\n",
    "\n",
    "print(result)\n"
   ]
  },
  {
   "cell_type": "code",
   "execution_count": null,
   "id": "5d2982b9",
   "metadata": {},
   "outputs": [],
   "source": []
  }
 ],
 "metadata": {
  "kernelspec": {
   "display_name": "base",
   "language": "python",
   "name": "python3"
  },
  "language_info": {
   "codemirror_mode": {
    "name": "ipython",
    "version": 3
   },
   "file_extension": ".py",
   "mimetype": "text/x-python",
   "name": "python",
   "nbconvert_exporter": "python",
   "pygments_lexer": "ipython3",
   "version": "3.9.12"
  }
 },
 "nbformat": 4,
 "nbformat_minor": 5
}
