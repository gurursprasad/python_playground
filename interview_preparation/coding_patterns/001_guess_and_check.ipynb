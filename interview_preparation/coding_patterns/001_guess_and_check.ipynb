{
 "cells": [
  {
   "cell_type": "raw",
   "id": "f00c6129",
   "metadata": {
    "vscode": {
     "languageId": "raw"
    }
   },
   "source": [
    "- Process called exhaustive enumeration\n",
    "- Applies to a problem where:\n",
    "    - You are able to guess a value for solution\n",
    "    - You are able to check if the solution is correct\n",
    "- You can keep guessing until:\n",
    "    - Find solution or\n",
    "    - Have guessed all values"
   ]
  },
  {
   "cell_type": "code",
   "execution_count": 9,
   "id": "88ed205a",
   "metadata": {},
   "outputs": [
    {
     "name": "stdout",
     "output_type": "stream",
     "text": [
      "15 is not a perfect square\n"
     ]
    }
   ],
   "source": [
    "# Square root of a number\n",
    "# We use algebra to define the limits of how many guesses we make\n",
    "# Here the limit of guesses we have to make is guess**2 < x     \n",
    "x = 15\n",
    "guess = 0\n",
    "neg_flag = False\n",
    "\n",
    "if x < 0:\n",
    "    neg_flag = True\n",
    "\n",
    "while guess**2 < x:\n",
    "    guess += 1\n",
    "if guess**2 == x:\n",
    "    print(f\"Square root is: {guess}\")\n",
    "else:\n",
    "    if neg_flag:\n",
    "        print(f\"{x} is a negative number and no perfect square is possible\")\n",
    "    else:\n",
    "        print(f\"{x} is not a perfect square\")"
   ]
  },
  {
   "cell_type": "code",
   "execution_count": null,
   "id": "0e1203e7",
   "metadata": {},
   "outputs": [],
   "source": []
  }
 ],
 "metadata": {
  "kernelspec": {
   "display_name": "base",
   "language": "python",
   "name": "python3"
  },
  "language_info": {
   "codemirror_mode": {
    "name": "ipython",
    "version": 3
   },
   "file_extension": ".py",
   "mimetype": "text/x-python",
   "name": "python",
   "nbconvert_exporter": "python",
   "pygments_lexer": "ipython3",
   "version": "3.9.12"
  }
 },
 "nbformat": 4,
 "nbformat_minor": 5
}
