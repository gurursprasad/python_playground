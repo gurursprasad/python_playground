{
 "cells": [
  {
   "cell_type": "markdown",
   "id": "6368a306",
   "metadata": {},
   "source": [
    "About the pattern\n",
    "\n",
    "The two pointers pattern is a versatile technique used in problem-solving to efficiently traverse or manipulate sequential data structures, such as arrays or linked lists. As the name suggests, it involves maintaining two pointers that traverse the data structure in a coordinated manner, typically starting from different positions or moving in opposite directions. These pointers dynamically adjust based on specific conditions or criteria, allowing for the efficient exploration of the data and enabling solutions with optimal time and space complexity. Whenever there’s a requirement to find two data elements in an array that satisfy a certain condition, the two pointers pattern should be the first strategy to come to mind.\n",
    "\n",
    "The pointers can be used to iterate through the data structure in one or both directions, depending on the problem statement. For example, to identify whether a string is a palindrome, we can use one pointer to iterate the string from the beginning and the other to iterate it from the end. At each step, we can compare the values of the two pointers and see if they meet the palindrome properties."
   ]
  },
  {
   "cell_type": "markdown",
   "id": "e5767a48",
   "metadata": {},
   "source": []
  },
  {
   "cell_type": "code",
   "execution_count": null,
   "id": "4a786a2b",
   "metadata": {
    "vscode": {
     "languageId": "plaintext"
    }
   },
   "outputs": [],
   "source": [
    "arr = [1,2,3,4,5,6]\n",
    "target = 12\n",
    "l = 0\n",
    "r = len(arr)-1\n",
    "h = False\n",
    "while(l<r):\n",
    "    act = arr[l] + arr[r]\n",
    "    if act == target:\n",
    "        print(arr[l],arr[r])\n",
    "        h = True\n",
    "        break\n",
    "    elif act<target:\n",
    "        l = l+1\n",
    "    elif act>target:\n",
    "        r = r-1\n",
    "\n",
    "if not h:\n",
    "    print(\"No combination\")\n",
    "\n",
    "\n",
    "STEPS:\n",
    "Make sure the list/array is sorted\n",
    "\n",
    "1. Set two pointers on the array in opposite directions - l and r (left and right pointers)\n",
    "2. l pointer from start and r pointer from end [l=0 and r=len(arr)-1]\n",
    "3. We need to make sure that l and r do not cross each other. Meaning that l should always be smaller than r. \n",
    "4. We use while loop for this [while(l<r)]\n",
    "5. When doing the operations in the array, three conditions are possible actual value is equal, lesser or greater than the target value.\n",
    "6. Hence we add act == target, act<target, act>target in the if blocks.\n",
    "7. Since we are using a sorted array/list, when act<target we increment the left pointer by 1 [l = l+1]\n",
    "8. When act>target we decrement the right pointer by 1 [r = r-1]\n",
    "9. We set a flag h = True when the combination is satisfied ie., act == target\n",
    "10. If h remains False throughout, it means no combination gives us the result"
   ]
  }
 ],
 "metadata": {
  "language_info": {
   "name": "python"
  }
 },
 "nbformat": 4,
 "nbformat_minor": 5
}
