{
 "cells": [
  {
   "cell_type": "markdown",
   "metadata": {},
   "source": [
    "# Q1"
   ]
  },
  {
   "cell_type": "markdown",
   "metadata": {},
   "source": [
    "Explore the program and Explain. Create a class with constructor and define 3 variables,\n",
    "\n",
    "      self.one\n",
    "      self._two\n",
    "      self.__three\n",
    "      \n",
    "Create object and call class variables."
   ]
  },
  {
   "cell_type": "code",
   "execution_count": null,
   "metadata": {},
   "outputs": [],
   "source": []
  },
  {
   "cell_type": "markdown",
   "metadata": {},
   "source": [
    "# Q2"
   ]
  },
  {
   "cell_type": "markdown",
   "metadata": {},
   "source": [
    "* Create a class with constructor which has name and age.\n",
    "\n",
    "* Name a method display and print the constructor variables.\n",
    "\n",
    "* Create a object, access using class method and access directly frm outside.\n",
    "\n",
    "    "
   ]
  },
  {
   "cell_type": "code",
   "execution_count": null,
   "metadata": {
    "scrolled": false
   },
   "outputs": [],
   "source": []
  },
  {
   "cell_type": "markdown",
   "metadata": {},
   "source": [
    "# Q3"
   ]
  },
  {
   "cell_type": "markdown",
   "metadata": {},
   "source": [
    "* Create a class with class variable __name as private\n",
    "\n",
    "* Define a constructor and initialize the __name variable inside the constructor\n",
    "\n",
    "* Create a method called getname and return the class variable"
   ]
  },
  {
   "cell_type": "code",
   "execution_count": null,
   "metadata": {},
   "outputs": [],
   "source": []
  },
  {
   "cell_type": "markdown",
   "metadata": {},
   "source": [
    "# Q4"
   ]
  },
  {
   "cell_type": "markdown",
   "metadata": {},
   "source": [
    "Explore and explain the following python program.\n",
    "\n",
    "class Sample:\n",
    "\n",
    "    def __init__(self):\n",
    "        self.__cost = 900\n",
    "\n",
    "    def sell(self):\n",
    "        print(self.__cost)\n",
    "\n",
    "    def MaxCost(self, mincost):\n",
    "        self.__cost = mincost\n",
    "        \n",
    "* Create object of class and call sell method\n",
    "* Change the cost amount as 6000 and call sell method\n",
    "* Set MaxCost as obj.MaxCost(8000) and call sell method"
   ]
  },
  {
   "cell_type": "code",
   "execution_count": null,
   "metadata": {},
   "outputs": [],
   "source": []
  },
  {
   "cell_type": "markdown",
   "metadata": {},
   "source": [
    "# Q5"
   ]
  },
  {
   "cell_type": "markdown",
   "metadata": {},
   "source": [
    "Complete the program and Explain. \n",
    "\n",
    "class Customer:\n",
    "\n",
    "    def __init__(self):\n",
    "    \n",
    "       self.__accountNumber = 4321\n",
    "       \n",
    "    def __Account(self):\n",
    "    \n",
    "       print(\"Processing Account\")\n",
    "\n",
    "    def getAccountNumber(self):\n",
    "    \n",
    "       return self.__accountNumber\n",
    "\n",
    "* Create object for the class\n",
    "* Print object oroperty like, obj._Customer__accountNumber\n",
    "* Call method Account like, obj._Customer__Account()\n"
   ]
  },
  {
   "cell_type": "code",
   "execution_count": null,
   "metadata": {},
   "outputs": [],
   "source": []
  }
 ],
 "metadata": {
  "kernelspec": {
   "display_name": "Python 3",
   "language": "python",
   "name": "python3"
  },
  "language_info": {
   "codemirror_mode": {
    "name": "ipython",
    "version": 3
   },
   "file_extension": ".py",
   "mimetype": "text/x-python",
   "name": "python",
   "nbconvert_exporter": "python",
   "pygments_lexer": "ipython3",
   "version": "3.7.6"
  }
 },
 "nbformat": 4,
 "nbformat_minor": 4
}
