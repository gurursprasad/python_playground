{
 "cells": [
  {
   "cell_type": "code",
   "execution_count": 2,
   "id": "f5f1564d",
   "metadata": {},
   "outputs": [
    {
     "name": "stdout",
     "output_type": "stream",
     "text": [
      "2\n",
      "h\n",
      "3\n",
      "yu\n",
      "8\n",
      "[['h', 3.0], ['yu', 8.0]]\n"
     ]
    }
   ],
   "source": [
    "records = []\n",
    "for _ in range(int(input())):\n",
    "        name = input()\n",
    "        score = float(input())\n",
    "        \n",
    "        records.append([name, score])\n",
    "        \n",
    "print(records)"
   ]
  },
  {
   "cell_type": "code",
   "execution_count": 3,
   "id": "d76cb48c",
   "metadata": {},
   "outputs": [],
   "source": [
    "records = [['Harry', 37.21], ['Berry', 37.21], ['Tina', 37.2], ['Akriti', 41.0], ['Harsh', 39.0]]"
   ]
  },
  {
   "cell_type": "code",
   "execution_count": 49,
   "id": "efeed927",
   "metadata": {},
   "outputs": [
    {
     "name": "stdout",
     "output_type": "stream",
     "text": [
      "Berry\n",
      "Harry\n"
     ]
    }
   ],
   "source": [
    "grades = sorted(set([record[1] for record in records]))\n",
    "second_lowest_grade = grades[1]\n",
    "second_lowest_student = [record[0] for record in records if record[1] == second_lowest_grade]\n",
    "     \n",
    "second_lowest_student.sort()\n",
    "\n",
    "for student in second_lowest_student:\n",
    "    print(student)"
   ]
  },
  {
   "cell_type": "code",
   "execution_count": null,
   "id": "a0a54589",
   "metadata": {},
   "outputs": [],
   "source": []
  }
 ],
 "metadata": {
  "kernelspec": {
   "display_name": "Python 3 (ipykernel)",
   "language": "python",
   "name": "python3"
  },
  "language_info": {
   "codemirror_mode": {
    "name": "ipython",
    "version": 3
   },
   "file_extension": ".py",
   "mimetype": "text/x-python",
   "name": "python",
   "nbconvert_exporter": "python",
   "pygments_lexer": "ipython3",
   "version": "3.9.12"
  }
 },
 "nbformat": 4,
 "nbformat_minor": 5
}
