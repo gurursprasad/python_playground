{
 "cells": [
  {
   "cell_type": "code",
   "execution_count": null,
   "id": "31ad8b93",
   "metadata": {},
   "outputs": [],
   "source": [
    "# Two Sum\n",
    "# Roman to Integer\n",
    "# Palindrome Number\n",
    "# Maximum Subarray\n",
    "# Remove Element\n",
    "# Contains Duplicate\n",
    "# Add Two Numbers\n",
    "# Majority Element\n",
    "# Remove Duplicates from Sorted Array\n",
    "# Practice them in a row for better understanding and please Upvote for more questions."
   ]
  },
  {
   "cell_type": "code",
   "execution_count": null,
   "id": "69aa9d36",
   "metadata": {},
   "outputs": [],
   "source": [
    "# Two sum - \n",
    "# Input: nums = [2,7,11,15], target = 9 Output: [0,1]. \n",
    "# Input: nums = [3,2,4], target = 6 Output: [1,2]\n",
    "# Input: nums = [3,3], target = 6 Output: [0,1]\n",
    "\n",
    "def twoSum(nums, target):\n",
    "    n = len(nums)\n",
    "    for i in range(n-1):\n",
    "        for j in range(i+1, n):\n",
    "            if nums[i] + nums[j] == target:\n",
    "                return [i,j]\n",
    "    return []\n",
    "\n",
    "twoSum([2,7,11,15], 18)"
   ]
  },
  {
   "cell_type": "code",
   "execution_count": null,
   "id": "7752fc38",
   "metadata": {},
   "outputs": [],
   "source": [
    "# Two sum - \n",
    "# Input: nums = [2,7,11,15], target = 9 Output: [0,1]. \n",
    "# Input: nums = [3,2,4], target = 6 Output: [1,2]\n",
    "# Input: nums = [3,3], target = 6 Output: [0,1]\n",
    "\n",
    "def twoSum(nums, target):\n",
    "    num_map = {}\n",
    "    for i, n in enumerate(nums):\n",
    "        complement = target - n\n",
    "        print(complement)\n",
    "        if complement in num_map:\n",
    "            return [num_map[complement], i]\n",
    "        num_map[n] = i\n",
    "\n",
    "twoSum([2,7,11,15], 18)"
   ]
  },
  {
   "cell_type": "code",
   "execution_count": null,
   "id": "562ba8ef",
   "metadata": {},
   "outputs": [],
   "source": [
    "def two_sum(nums, target):\n",
    "    n = len(nums)\n",
    "    for i in range(n):\n",
    "        for j in range(i+1, n-1):\n",
    "                if nums[i]+nums[j] == target:\n",
    "                        return [i,j]\n",
    "    return []\n",
    "\n",
    "two_sum([2,7,11,15], 13)"
   ]
  },
  {
   "cell_type": "code",
   "execution_count": null,
   "id": "bd71c56b",
   "metadata": {},
   "outputs": [],
   "source": [
    "def is_valid(s):\n",
    "    stack = []\n",
    "    mapping = {')': '(', '}': '{', ']': '['}\n",
    "    \n",
    "    for char in s:\n",
    "        if char in mapping:\n",
    "            if stack:\n",
    "                top_element = stack.pop()\n",
    "            else:\n",
    "                \"#\"\n",
    "            if mapping[char] != top_element:\n",
    "                return False\n",
    "        else:\n",
    "            stack.append(char)\n",
    "    return not stack\n",
    "\n",
    "is_valid(\"({[]}\")"
   ]
  },
  {
   "cell_type": "code",
   "execution_count": null,
   "id": "48e8d793",
   "metadata": {},
   "outputs": [],
   "source": [
    "from datetime import datetime\n",
    "\n",
    "# Input timestamps\n",
    "timestamp1 = \"2024-12-23 14:53:17,492\"\n",
    "timestamp2 = \"2024-12-29 14:55:42,723\"\n",
    "timestamp3 = \"2024-12-24 10:13:33,803\"\n",
    "\n",
    "# Convert to datetime objects\n",
    "fmt = \"%Y-%m-%d %H:%M:%S,%f\"\n",
    "time1 = datetime.strptime(timestamp1, fmt)\n",
    "time2 = datetime.strptime(timestamp2, fmt)\n",
    "time3 = datetime.strptime(timestamp3, fmt)\n",
    "\n",
    "# Calculate time differences\n",
    "diff1 = time2 - time1\n",
    "diff2 = time3 - time2\n",
    "\n",
    "diff1_total_seconds = diff1.total_seconds()\n",
    "diff2_total_seconds = diff2.total_seconds()\n",
    "\n",
    "(diff1, diff1_total_seconds, diff2, diff2_total_seconds)\n"
   ]
  },
  {
   "cell_type": "code",
   "execution_count": null,
   "id": "9b17445f",
   "metadata": {},
   "outputs": [],
   "source": [
    "def fibonacci(n):\n",
    "    a, b = 0, 1\n",
    "    for _ in range(n):\n",
    "        print(a, end=\" \")\n",
    "        a, b = b, b+a\n",
    "fibonacci(5)"
   ]
  },
  {
   "cell_type": "code",
   "execution_count": null,
   "id": "62ad6588",
   "metadata": {},
   "outputs": [],
   "source": [
    "def is_prime(n):\n",
    "    if n > 1:\n",
    "        for i in range(2, n):\n",
    "            if n % i == 0:\n",
    "                print(\"Not a prime\")\n",
    "                break\n",
    "        else:\n",
    "            print(\"Prime\")\n",
    "    else:\n",
    "        print(\"Not a prime\")"
   ]
  },
  {
   "cell_type": "code",
   "execution_count": null,
   "id": "1623f46b",
   "metadata": {},
   "outputs": [],
   "source": [
    "def reverse_string(s):\n",
    "    op = \"\"\n",
    "    i = len(s)-1\n",
    "    while i >= 0:\n",
    "        op = op + s[i]\n",
    "        i -= 1\n",
    "    return op\n",
    "reverse_string(\"guru\")"
   ]
  },
  {
   "cell_type": "code",
   "execution_count": null,
   "id": "78ae1487",
   "metadata": {},
   "outputs": [],
   "source": [
    "l = [100, 101, 102, 103]\n",
    "new_list = []  # List to store numbers with even digit sums\n",
    "\n",
    "for num in l:\n",
    "    digit_sum = 0\n",
    "    for digit in str(num):\n",
    "        digit_sum += int(digit)\n",
    "        if digit_sum % 2 == 0:\n",
    "            new_list.append(num)\n",
    "\n",
    "print(\"Numbers with even digit sums:\", new_list)"
   ]
  },
  {
   "cell_type": "code",
   "execution_count": null,
   "id": "49af98be",
   "metadata": {},
   "outputs": [],
   "source": [
    "# Two sum -\n",
    "# Input: nums = [2,7,11,15], target = 9 Output: [0,1].\n",
    "# Input: nums = [3,2,4], target = 6 Output: [1,2]\n",
    "# Input: nums = [3,3], target = 6 Output: [0,1]\n",
    "\n",
    "\n",
    "def two_sums(nums, target):\n",
    "    n =len(nums)\n",
    "\n",
    "    for i in range(n-1):\n",
    "        for j in range(i+1, n):\n",
    "            if nums[i] + nums[j] == target:\n",
    "                return [i, j]\n",
    "    return []\n",
    "\n",
    "two_sums([2,7,11,15], 9)\n"
   ]
  },
  {
   "cell_type": "code",
   "execution_count": null,
   "id": "a2aebde8",
   "metadata": {},
   "outputs": [],
   "source": [
    "# Function to check if a number is prime\n",
    "n = 9\n",
    "\n",
    "def is_prime(n):\n",
    "    if n > 1:\n",
    "        for i in range(2, n):\n",
    "            if n % i == 0:\n",
    "                return False\n",
    "        return True\n",
    "    else:\n",
    "        return False\n",
    "\n",
    "print(is_prime(n))"
   ]
  },
  {
   "cell_type": "code",
   "execution_count": null,
   "id": "df458880",
   "metadata": {},
   "outputs": [],
   "source": [
    "# Function to reverse a string\n",
    "op = \"\"\n",
    "s = \"guru\"\n",
    "i = len(s)-1\n",
    "\n",
    "while i >= 0:\n",
    "    op = op + s[i]\n",
    "    i = i - 1\n",
    "\n",
    "print(op)"
   ]
  },
  {
   "cell_type": "code",
   "execution_count": null,
   "id": "31ca567a",
   "metadata": {},
   "outputs": [],
   "source": [
    "# Function to store numbers with even digit sums\n",
    "\n",
    "n = [100, 101, 102, 103]\n",
    "new_list = []\n",
    "\n",
    "def even_digit_sum(n):\n",
    "    for num in n:\n",
    "        digit_sum = 0\n",
    "        for digit in str(num):\n",
    "            digit_sum += int(digit)\n",
    "            if digit_sum % 2 == 0:\n",
    "                new_list.append(num)\n",
    "\n",
    "even_digit_sum(n)\n",
    "print(new_list)\n",
    "for items in range(0, len(n)):\n",
    "    if n[items] in new_list:\n",
    "        print(items)"
   ]
  },
  {
   "cell_type": "code",
   "execution_count": null,
   "id": "a471cd15",
   "metadata": {},
   "outputs": [],
   "source": [
    "# Durga Soft"
   ]
  },
  {
   "cell_type": "code",
   "execution_count": null,
   "id": "35446fd0",
   "metadata": {},
   "outputs": [],
   "source": [
    "# Reverse a string\n",
    "\n",
    "op = \"\"\n",
    "s = \"guruprasad\"\n",
    "i = len(s) -1\n",
    "while i >= 0:\n",
    "    op = op + s[i]\n",
    "    i = i - 1\n",
    "    \n",
    "print(op)"
   ]
  },
  {
   "cell_type": "code",
   "execution_count": null,
   "id": "ed388363",
   "metadata": {},
   "outputs": [],
   "source": [
    "# Reverse a sentence\n",
    "s = \"learning python is easy\"\n",
    "l = s.split()\n",
    "\n",
    "l1 = l[::-1]\n",
    "\n",
    "op = \" \".join(l1)\n",
    "print(op)"
   ]
  },
  {
   "cell_type": "code",
   "execution_count": null,
   "id": "6f267a80",
   "metadata": {},
   "outputs": [],
   "source": [
    "# Reverse internal content of each word\n",
    "s = \"learning python is easy\"\n",
    "l = s.split()\n",
    "l1 = []\n",
    "\n",
    "for word in l:\n",
    "    l1.append(word[::-1])\n",
    "\n",
    "op = \" \".join(l1)\n",
    "print(op)"
   ]
  },
  {
   "cell_type": "code",
   "execution_count": null,
   "id": "5146d4e0",
   "metadata": {},
   "outputs": [
    {
     "name": "stdout",
     "output_type": "stream",
     "text": [
      "['one', 'owt', 'three', 'ruof', 'five', 'xis', 'seven', 'thgie']\n"
     ]
    }
   ],
   "source": [
    "# Reverse the content of only the second word\n",
    "ip = \"one two three four five six seven eight\"\n",
    "l1 = []\n",
    "l1 = ip.split()\n",
    "l2 = []\n",
    "i = 0\n",
    "while i<len(l1):\n",
    "    if i%2==0:\n",
    "        l2.append(l1[i])\n",
    "    else:\n",
    "        l2.append(l1[i][::-1])\n",
    "    i = i + 1\n",
    "print(l2)"
   ]
  },
  {
   "cell_type": "code",
   "execution_count": 11,
   "id": "d58956d5",
   "metadata": {},
   "outputs": [
    {
     "name": "stdout",
     "output_type": "stream",
     "text": [
      "ABD134\n"
     ]
    }
   ],
   "source": [
    "# Sort alphabets first and digits next\n",
    "s = \"B4A1D3\"\n",
    "alphabets = []\n",
    "digits = []\n",
    "\n",
    "for ch in s:\n",
    "    if ch.isalpha():\n",
    "        alphabets.append(ch)\n",
    "    else:\n",
    "        digits.append(ch)\n",
    "\n",
    "op = \"\".join(sorted(alphabets) + sorted(digits))\n",
    "print(op)"
   ]
  },
  {
   "cell_type": "code",
   "execution_count": 13,
   "id": "83c736e1",
   "metadata": {},
   "outputs": [
    {
     "name": "stdout",
     "output_type": "stream",
     "text": [
      "aaaabbbcc\n"
     ]
    }
   ],
   "source": [
    "# ip = a4b3c2 op = aaaabbbcc\n",
    "\n",
    "ip = \"a4b3c2\"\n",
    "op = \"\"\n",
    "\n",
    "for ch in ip:\n",
    "    if ch.isalpha():\n",
    "        x = ch\n",
    "    else:\n",
    "        op = op + (x*int(ch))\n",
    "\n",
    "print(op)\n",
    "\n"
   ]
  },
  {
   "cell_type": "code",
   "execution_count": null,
   "id": "69159c86",
   "metadata": {},
   "outputs": [
    {
     "name": "stdout",
     "output_type": "stream",
     "text": [
      "4a3b\n"
     ]
    }
   ],
   "source": [
    "# ip = aaaabbbcc op = 4a3b2c\n",
    "\n",
    "s = \"aaaabbbcc\"\n",
    "op = \"\"\n",
    "c = 1\n",
    "prev = s[0]\n",
    "i = 1\n",
    "while i <= len(s)-1:\n",
    "    if s[i] == prev:\n",
    "        c = c + 1\n",
    "    else:\n",
    "        op = op + str(c) + prev\n",
    "        c = 1\n",
    "        prev = s[i]\n",
    "    i = i + 1\n",
    "\n",
    "op += str(c) + prev\n",
    "\n",
    "print(op)\n",
    "\n"
   ]
  },
  {
   "cell_type": "code",
   "execution_count": null,
   "id": "55059267",
   "metadata": {},
   "outputs": [],
   "source": []
  }
 ],
 "metadata": {
  "kernelspec": {
   "display_name": "base",
   "language": "python",
   "name": "python3"
  },
  "language_info": {
   "codemirror_mode": {
    "name": "ipython",
    "version": 3
   },
   "file_extension": ".py",
   "mimetype": "text/x-python",
   "name": "python",
   "nbconvert_exporter": "python",
   "pygments_lexer": "ipython3",
   "version": "3.9.12"
  }
 },
 "nbformat": 4,
 "nbformat_minor": 5
}
