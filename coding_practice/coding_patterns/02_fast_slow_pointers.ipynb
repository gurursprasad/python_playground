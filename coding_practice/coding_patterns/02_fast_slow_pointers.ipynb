{
 "cells": [
  {
   "cell_type": "markdown",
   "id": "c421c42c",
   "metadata": {},
   "source": [
    "About the pattern\n",
    "\n",
    "Similar to the two pointers pattern, the fast and slow pointers pattern uses two pointers to traverse an iterable data structure, but at different speeds, often to identify cycles or find a specific target. The speeds of the pointers can be adjusted according to the problem statement. The two pointers pattern focuses on comparing data values, whereas the fast and slow pointers method is typically used to analyze the structure or properties of the data.\n",
    "\n",
    "The key idea is that the pointers start at the same location and then start moving at different speeds. The slow pointer moves one step at a time, while the fast pointer moves by two steps. Due to the different speeds of the pointers, this pattern is also commonly known as the Hare and Tortoise algorithm, where the Hare is the fast pointer while Tortoise is the slow pointer. If a cycle exists, the two pointers will eventually meet during traversal. This approach enables the algorithm to detect specific properties within the data structure, such as cycles, midpoints, or intersections.\n",
    "\n",
    "To visualize this, imagine two runners on a circular track starting at the same point. With different running speeds, the faster runner will eventually overtake the slower one, illustrating how this method works to detect cycles.\n",
    "\n",
    "In the template below, the fastPointer moves at twice the speed of the slowPointer, allowing efficient traversal and detection of specific conditions. The fastPointer advances two steps at a time (fastPointer.next.next for linked lists or fastPointer + 2 for arrays), while the slowPointer moves one step at a time (slowPointer.next or slowPointer + 1). The loop continues until the fastPointer reaches the end of the structure or a condition (someCondition) is met, triggering handleCondition. Finally, the result is processed using the slowPointer, which often points to a meaningful position, such as the middle of the structure or the start of a cycle."
   ]
  },
  {
   "cell_type": "markdown",
   "id": "aef696aa",
   "metadata": {},
   "source": []
  },
  {
   "cell_type": "code",
   "execution_count": null,
   "id": "a58e0318",
   "metadata": {
    "vscode": {
     "languageId": "plaintext"
    }
   },
   "outputs": [],
   "source": [
    "FUNCTION fastAndSlow(dataStructure):\n",
    "\n",
    "  # initialize pointers (or indices)\n",
    "  fastPointer = dataStructure.start   # or 0 if the data structure is an array\n",
    "  slowPointer = dataStructure.start   # or 0 if the data structure is an array\n",
    "  \n",
    "  WHILE fastPointer != null AND fastPointer.next != null: \n",
    "    # For arrays: WHILE fastPointer < dataStructure.length AND (fastPointer + 1) < dataStructure.length:\n",
    "    \n",
    "    slowPointer = slowPointer.next            \n",
    "    # For arrays: slowPointer = slowPointer + 1\n",
    "    \n",
    "    fastPointer = fastPointer.next.next       \n",
    "    # For arrays: fastPointer = fastPointer + 2\n",
    "    \n",
    "    IF fastPointer != null AND someCondition(fastPointer, slowPointer):\n",
    "      # For arrays: use someCondition(dataStructure[fastPointer], dataStructure[slowPointer]) if needed\n",
    "      handleCondition(fastPointer, slowPointer)\n",
    "      BREAK\n",
    "\n",
    "  # process the result\n",
    "  processResult(slowPointer)\n",
    "  # For arrays: processResult(slowPointer) might process dataStructure[slowPointer]"
   ]
  },
  {
   "cell_type": "code",
   "execution_count": null,
   "id": "be63733a",
   "metadata": {
    "vscode": {
     "languageId": "plaintext"
    }
   },
   "outputs": [],
   "source": []
  }
 ],
 "metadata": {
  "language_info": {
   "name": "python"
  }
 },
 "nbformat": 4,
 "nbformat_minor": 5
}
