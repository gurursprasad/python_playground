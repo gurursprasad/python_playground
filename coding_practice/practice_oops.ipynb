{
 "cells": [
  {
   "cell_type": "code",
   "execution_count": 13,
   "id": "e531dadf",
   "metadata": {},
   "outputs": [
    {
     "name": "stdout",
     "output_type": "stream",
     "text": [
      "Parent constructor\n",
      "10\n",
      "20\n",
      "Parent instance method\n",
      "Parent class method\n",
      "Parent static method\n"
     ]
    }
   ],
   "source": [
    "# Inheritance\n",
    "\n",
    "class Parent:\n",
    "    a = 10\n",
    "    def __init__(self):\n",
    "        print(\"Parent constructor\")\n",
    "        self.b = 20\n",
    "    \n",
    "    def m1(self):\n",
    "        return \"Parent instance method\"\n",
    "\n",
    "    @classmethod\n",
    "    def m2(cls):\n",
    "        return \"Parent class method\"\n",
    "\n",
    "    @staticmethod\n",
    "    def m3():\n",
    "        return \"Parent static method\"\n",
    "\n",
    "\n",
    "class Child(Parent):\n",
    "    pass\n",
    "\n",
    "c = Child()\n",
    "\n",
    "print(c.a)\n",
    "print(c.b)\n",
    "print(c.m1())\n",
    "print(c.m2())\n",
    "print(c.m3())"
   ]
  },
  {
   "cell_type": "code",
   "execution_count": 1,
   "id": "0f8a86f8",
   "metadata": {},
   "outputs": [
    {
     "name": "stdout",
     "output_type": "stream",
     "text": [
      "Guru\n"
     ]
    }
   ],
   "source": [
    "# super()\n",
    "\n",
    "class Person:\n",
    "    def __init__(self, name, age):\n",
    "        self.name = name\n",
    "        self.age = age\n",
    "\n",
    "    def m1(self):\n",
    "        print(\"Parent class instance method\")\n",
    "\n",
    "class Child(Person):\n",
    "    def __init__(self, name, age, id):\n",
    "        super().__init__(name, age)\n",
    "        self.id = id\n",
    "\n",
    "    def m2(self):\n",
    "        print(self.name)\n",
    "\n",
    "\n",
    "e = Child(\"Guru\", 32, 1)\n",
    "e.m2()"
   ]
  },
  {
   "cell_type": "code",
   "execution_count": 1,
   "id": "15526c48",
   "metadata": {},
   "outputs": [
    {
     "name": "stdout",
     "output_type": "stream",
     "text": [
      "Private method\n"
     ]
    }
   ],
   "source": [
    "# Encapsulation\n",
    "\n",
    "class Test:\n",
    "    def __init__(self):\n",
    "        self.__a = 10\n",
    "\n",
    "    def __m1(self):\n",
    "        print(\"Private method\")\n",
    "\n",
    "    def m2(self):\n",
    "        print(self.__a)\n",
    "        print(self.__m1())\n",
    "\n",
    "t = Test()\n",
    "# t.m2()\n",
    "t._Test__m1()\n",
    "# t._Test__a\n"
   ]
  },
  {
   "cell_type": "code",
   "execution_count": null,
   "id": "1fa312df",
   "metadata": {},
   "outputs": [],
   "source": []
  }
 ],
 "metadata": {
  "kernelspec": {
   "display_name": "base",
   "language": "python",
   "name": "python3"
  },
  "language_info": {
   "codemirror_mode": {
    "name": "ipython",
    "version": 3
   },
   "file_extension": ".py",
   "mimetype": "text/x-python",
   "name": "python",
   "nbconvert_exporter": "python",
   "pygments_lexer": "ipython3",
   "version": "3.9.12"
  }
 },
 "nbformat": 4,
 "nbformat_minor": 5
}
