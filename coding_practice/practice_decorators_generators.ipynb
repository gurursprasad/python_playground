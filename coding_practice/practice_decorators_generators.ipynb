{
 "cells": [
  {
   "cell_type": "code",
   "execution_count": 1,
   "id": "a5a340f8",
   "metadata": {},
   "outputs": [
    {
     "name": "stdout",
     "output_type": "stream",
     "text": [
      "f2 function\n"
     ]
    }
   ],
   "source": [
    "# We can pass one function as argument to another function\n",
    "\n",
    "def f1(func):\n",
    "    func()\n",
    "\n",
    "def f2():\n",
    "    print(\"f2 function\")\n",
    "\n",
    "f1(f2)"
   ]
  },
  {
   "cell_type": "code",
   "execution_count": null,
   "id": "94ab8f92",
   "metadata": {},
   "outputs": [
    {
     "name": "stdout",
     "output_type": "stream",
     "text": [
      "Outer function\n"
     ]
    }
   ],
   "source": [
    "# We can have a function inside another function\n",
    "\n",
    "def outer():\n",
    "    def inner():\n",
    "        print(\"Inner function\")\n",
    "    \n",
    "    inner()\n",
    "    print(\"Outer function\")\n",
    "\n",
    "o = outer()"
   ]
  },
  {
   "cell_type": "code",
   "execution_count": null,
   "id": "35453836",
   "metadata": {},
   "outputs": [],
   "source": [
    "# Decorators:\n",
    "\n",
    "# Input function -> Decorator function -> Output function with enhanced functionalities\n",
    "# def decor_function(input_function):\n",
    "#     def output_function():\n",
    "#         print(\"Buffed up\")\n",
    "\n",
    "#     return output_function\n",
    "\n",
    "# @decor_function\n",
    "# def input_function():\n",
    "#     pass"
   ]
  },
  {
   "cell_type": "code",
   "execution_count": null,
   "id": "b7049811",
   "metadata": {},
   "outputs": [
    {
     "name": "stdout",
     "output_type": "stream",
     "text": [
      "Buffed up Inner Function\n"
     ]
    }
   ],
   "source": [
    "# The decorator name should be same as the decorator function in our case it is @decor_function. \n",
    "# The decor_function function will return the inner function.\n",
    "# Now call the old function in our case it is display().\n",
    "# Calling display() will call the decor_function instead\n",
    "\n",
    "def decor_function(func):\n",
    "    def inner():\n",
    "        print(\"Buffed up Inner Function\")\n",
    "    return inner\n",
    "\n",
    "@decor_function\n",
    "def display():\n",
    "    print(\"Display function\")\n",
    "\n",
    "display()"
   ]
  },
  {
   "cell_type": "code",
   "execution_count": null,
   "id": "d58ecc96",
   "metadata": {},
   "outputs": [],
   "source": []
  }
 ],
 "metadata": {
  "kernelspec": {
   "display_name": "base",
   "language": "python",
   "name": "python3"
  },
  "language_info": {
   "codemirror_mode": {
    "name": "ipython",
    "version": 3
   },
   "file_extension": ".py",
   "mimetype": "text/x-python",
   "name": "python",
   "nbconvert_exporter": "python",
   "pygments_lexer": "ipython3",
   "version": "3.9.12"
  }
 },
 "nbformat": 4,
 "nbformat_minor": 5
}
