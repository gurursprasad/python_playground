{
 "cells": [
  {
   "cell_type": "code",
   "execution_count": 18,
   "id": "f97698c3",
   "metadata": {},
   "outputs": [
    {
     "name": "stdout",
     "output_type": "stream",
     "text": [
      "53 is a prime number.\n"
     ]
    }
   ],
   "source": [
    "# Prime number\n",
    "def is_prime(n):\n",
    "    if n <= 1:\n",
    "        return False\n",
    "    for i in range(2, int(n ** 0.5) + 1):\n",
    "        if n % i == 0:\n",
    "            return False\n",
    "    return True\n",
    "\n",
    "number = 53\n",
    "if is_prime(number):\n",
    "    print(f\"{number} is a prime number.\")\n",
    "else:\n",
    "    print(f\"{number} is not a prime number.\")\n"
   ]
  },
  {
   "cell_type": "code",
   "execution_count": 56,
   "id": "cf7a9940",
   "metadata": {},
   "outputs": [
    {
     "name": "stdout",
     "output_type": "stream",
     "text": [
      "-3 is not a prime number\n",
      "-2 is not a prime number\n",
      "2 is a prime number\n",
      "3 is a prime number\n",
      "4 is not a prime number\n",
      "5 is a prime number\n",
      "6 is not a prime number\n",
      "7 is a prime number\n",
      "8 is not a prime number\n",
      "9 is not a prime number\n",
      "10 is not a prime number\n",
      "11 is a prime number\n",
      "13 is a prime number\n",
      "17 is a prime number\n",
      "19 is a prime number\n",
      "21 is not a prime number\n",
      "23 is a prime number\n",
      "29 is a prime number\n",
      "31 is a prime number\n",
      "36 is not a prime number\n",
      "37 is a prime number\n",
      "41 is a prime number\n",
      "43 is a prime number\n",
      "47 is a prime number\n",
      "53 is a prime number\n",
      "59 is a prime number\n",
      "61 is a prime number\n",
      "67 is a prime number\n",
      "71 is a prime number\n",
      "73 is a prime number\n",
      "79 is a prime number\n",
      "83 is a prime number\n",
      "89 is a prime number\n",
      "97 is a prime number\n"
     ]
    }
   ],
   "source": [
    "def is_prime(n):\n",
    "    no_list = []\n",
    "\n",
    "    if n <= 1:\n",
    "        return False\n",
    "    if n in (2, 3):\n",
    "        return True\n",
    "    if n < 9 and (n % 2 != 0 and n % 3 != 0):\n",
    "        return True\n",
    "    \n",
    "    if n > 9:\n",
    "        no = str(n)\n",
    "        for digit in no:\n",
    "            no_list.append(digit)\n",
    "\n",
    "        sum = 0\n",
    "        for digit in no_list:\n",
    "            sum += int(digit)\n",
    "        if sum % 3 != 0 and n % 2 != 0:\n",
    "            return True\n",
    "        else:\n",
    "            return False\n",
    "    \n",
    "prime_list = [-3, -2, 2, 3, 4, 5, 6, 7, 8, 9, 10, 11, 13, 17, 19, 21, 23, 29, 31, 36, 37, 41, 43, 47, 53, 59, 61, 67, 71, 73, 79, 83, 89, 97]\n",
    "\n",
    "for num in prime_list:\n",
    "    if is_prime(num):\n",
    "        print(f\"{num} is a prime number\")\n",
    "    else:\n",
    "        print(f\"{num} is not a prime number\")"
   ]
  },
  {
   "cell_type": "code",
   "execution_count": null,
   "id": "215e4e2a",
   "metadata": {},
   "outputs": [],
   "source": [
    "X, Y, Z, N = map(int, input().split())\n",
    "coordinates = [[x, y, z] for x in range(X + 1) for y in range(Y + 1) for z in range(Z + 1) if x + y + z != N]\n",
    "print(coordinates)\n"
   ]
  },
  {
   "cell_type": "code",
   "execution_count": null,
   "id": "dd386463",
   "metadata": {},
   "outputs": [],
   "source": [
    "# Given a string, find the longest substring that does not contain any repeated characters\n",
    "s = \"abcabcbb\"\n",
    "start = 0\n",
    "end = 0\n",
    "max_length = 0\n",
    "char_set = set()\n",
    "while end < len(s):\n",
    "    if s[end] not in char_set:\n",
    "        char_set.add(s[end])\n",
    "        end += 1\n",
    "        max_length = max(max_length, end - start)\n",
    "    else:\n",
    "        char_set.remove(s[start])\n",
    "        start += 1\n",
    "print(char_set)\n",
    "        "
   ]
  },
  {
   "cell_type": "code",
   "execution_count": null,
   "id": "b89e067e",
   "metadata": {},
   "outputs": [],
   "source": [
    "def longest_substring_without_repeating_chars(s):\n",
    "    # Initialize variables\n",
    "    start = 0\n",
    "    end = 0\n",
    "    max_length = 0\n",
    "    char_set = []\n",
    "\n",
    "    # Traverse the string with a sliding window\n",
    "    while end < len(s):\n",
    "        if s[end] not in char_set:\n",
    "            char_set.append(s[end])\n",
    "            print(char_set)\n",
    "            end += 1\n",
    "            max_length = max(max_length, end - start)\n",
    "            print(max_length)\n",
    "        else:\n",
    "            char_set.remove(s[start])\n",
    "            print(\"else\", char_set)\n",
    "            start += 1\n",
    "\n",
    "    return max_length, char_set\n"
   ]
  },
  {
   "cell_type": "code",
   "execution_count": null,
   "id": "9f674a6c",
   "metadata": {},
   "outputs": [],
   "source": [
    "longest_substring_without_repeating_chars(\"abcdeaav\")"
   ]
  },
  {
   "cell_type": "code",
   "execution_count": null,
   "id": "8ec1592f",
   "metadata": {},
   "outputs": [],
   "source": [
    "s = input(\"Enter a string: \")\n",
    "start = 0\n",
    "end = 0\n",
    "maxLength = 0\n",
    "charList = []\n",
    "while end < len(s):\n",
    "    if s[end] not in charList:\n",
    "        charList.append(s[end])\n",
    "        end += 1\n",
    "        if end - start > maxLength:\n",
    "            maxLength = end - start\n",
    "            longestString = s[start:end]\n",
    "    else:\n",
    "        charList.remove(s[start])\n",
    "        start += 1\n",
    "\n",
    "print(charList, maxLength, longestString)\n",
    "        "
   ]
  },
  {
   "cell_type": "code",
   "execution_count": null,
   "id": "1f8fe0b4",
   "metadata": {},
   "outputs": [],
   "source": [
    "# Reverse a String\n",
    "s = \"Guruprasad\"\n",
    "i = len(s) - 1\n",
    "op = \"\"\n",
    "while i >= 0:\n",
    "    op = op + s[i]\n",
    "    i -= 1\n",
    "print(op)\n",
    "    "
   ]
  },
  {
   "cell_type": "code",
   "execution_count": null,
   "id": "97c21744",
   "metadata": {},
   "outputs": [],
   "source": [
    "# Palindrome Check\n",
    "s = \"radar\"\n",
    "i = len(s) - 1\n",
    "s1 = \"\"\n",
    "while i >= 0:\n",
    "    s1 = s1 + s[i]\n",
    "    i -=1\n",
    "if s == s1:\n",
    "    print(\"Its a palindrome\")\n",
    "else:\n",
    "    print(\"Not a palindrome\")"
   ]
  },
  {
   "cell_type": "code",
   "execution_count": null,
   "id": "fa4d02e3",
   "metadata": {},
   "outputs": [],
   "source": [
    "# FizzBuzz: Write a program that prints the numbers from 1 to 100. \n",
    "# But for multiples of three, print \"Fizz\" instead of the number, and for the multiples of five, print \"Buzz\". \n",
    "# For numbers that are multiples of both three and five, print \"FizzBuzz\".\n",
    "for num in range(1, 101):\n",
    "    if num % 3 == 0 and num % 5 == 0:\n",
    "        print(\"FizzBuzz\")\n",
    "    elif num % 3 ==0:\n",
    "        print(\"Fizz\")\n",
    "    elif num % 5 ==0:\n",
    "        print(\"Buzz\")\n",
    "    else:\n",
    "        print(num)\n"
   ]
  },
  {
   "cell_type": "code",
   "execution_count": null,
   "id": "44859f41",
   "metadata": {},
   "outputs": [],
   "source": [
    "# Two Sum: Given an array of integers and a target value, \n",
    "# find two numbers that add up to the target and return their indices. \n",
    "# For example, if the array is [2, 7, 11, 15] and the target is 9, the output should be [0, 1] because 2 + 7 = 9.\n",
    "\n",
    "targetValue = int(input(\"Enter the target value: \"))\n",
    "l = [2, 7, 11, 15]\n",
    "n = len(l)\n",
    "for i in range(n-1):\n",
    "    for j in range(i+1, n):\n",
    "        if l[i] + l[j] == targetValue:\n",
    "            print(i, j)\n"
   ]
  },
  {
   "cell_type": "code",
   "execution_count": null,
   "id": "904290d1",
   "metadata": {},
   "outputs": [],
   "source": [
    "# Fibonacci Sequence\n",
    "l = [0, 1]\n",
    "n = 8\n",
    "for i in range(2, n):\n",
    "    nextItem = l[i-1] + l[i-2]\n",
    "    l.append(nextItem)\n",
    "print(l)\n"
   ]
  },
  {
   "cell_type": "code",
   "execution_count": null,
   "id": "3533d634",
   "metadata": {},
   "outputs": [],
   "source": [
    "# Merge Intervals: Given a list of intervals represented as start and end points, merge overlapping intervals. \n",
    "# For example, given [(1, 3), (2, 6), (8, 10), (15, 18)], the output should be [(1, 6), (8, 10), (15, 18)]"
   ]
  },
  {
   "cell_type": "code",
   "execution_count": null,
   "id": "8e466032",
   "metadata": {},
   "outputs": [],
   "source": [
    "# Validate Parentheses: Write a function that determines if a given string containing parentheses is valid. \n",
    "# The string is considered valid if it contains opening and closing parentheses of the same type in the correct order. \n",
    "# For example, \"((()))\" is valid, but \"((())\" is not.\n",
    "\n",
    "def is_valid_parentheses(s):\n",
    "    stack = []\n",
    "    opening = \"({[\"  # Opening parentheses\n",
    "    closing = \")}]\"  # Corresponding closing parentheses\n",
    "\n",
    "    for char in s:\n",
    "        if char in opening:\n",
    "            stack.append(char)\n",
    "        elif char in closing:\n",
    "            if not stack or opening.index(stack.pop()) != closing.index(char):\n",
    "                return False\n",
    "\n",
    "    return not stack  # Return True if stack is empty"
   ]
  },
  {
   "cell_type": "code",
   "execution_count": null,
   "id": "451b1da2",
   "metadata": {},
   "outputs": [],
   "source": [
    "# Example usage:\n",
    "string1 = \"((()))\"\n",
    "string2 = \"((())\"\n",
    "\n",
    "print(is_valid_parentheses(string1))  # True\n",
    "print(is_valid_parentheses(string2))  # False"
   ]
  },
  {
   "cell_type": "code",
   "execution_count": null,
   "id": "e02f9ce7",
   "metadata": {},
   "outputs": [],
   "source": [
    "# Counting Elements: Given an array of integers, \n",
    "# count the number of elements that are smaller than the current element and located to the right of it. \n",
    "# For example, given the array [3, 4, 9, 6, 1], the output should be [1, 1, 2, 1, 0]\n",
    "l = [3, 4, 9, 6, 1]\n",
    "n = len(l)\n",
    "l1 = [0]*n\n",
    "\n",
    "for i in range(n):\n",
    "    count = 0\n",
    "    for j in range(i+1,n):\n",
    "        if l[j] < l[i]:\n",
    "            count += 1\n",
    "    l1[i] = count\n",
    "        \n",
    "print(l1)"
   ]
  },
  {
   "cell_type": "code",
   "execution_count": null,
   "id": "60d2ecee",
   "metadata": {},
   "outputs": [],
   "source": [
    "# Reverse Linked List: Given a singly linked list, reverse the order of its nodes. \n",
    "# For example, given the list 1 -> 2 -> 3 -> 4 -> 5, the output should be 5 -> 4 -> 3 -> 2 -> 1"
   ]
  },
  {
   "cell_type": "code",
   "execution_count": null,
   "id": "e5e26644",
   "metadata": {},
   "outputs": [],
   "source": [
    "# Longest Substring Without Repeating Characters: Given a string, \n",
    "# find the length of the longest substring without repeating characters. \n",
    "# For example, given the string \"abcabcbb\", \n",
    "# the output should be 3 because the longest substring without repeating characters is \"abc\"\n",
    "s = \"abcabcbb\"\n",
    "end = 0\n",
    "start = 0\n",
    "maxLength = 0\n",
    "charList = []\n",
    "maxString = \"\"\n",
    "\n",
    "while end < len(s):\n",
    "    if s[end] not in charList:\n",
    "        charList.append(s[end])\n",
    "        end += 1\n",
    "        if maxLength < end - start:\n",
    "            maxLength = end - start\n",
    "            maxString = s[start:end]\n",
    "    else:\n",
    "        charList.remove(s[start])\n",
    "        start += 1\n",
    "\n",
    "print(charList, maxLength, maxString)            "
   ]
  },
  {
   "cell_type": "code",
   "execution_count": null,
   "id": "69c24527",
   "metadata": {},
   "outputs": [],
   "source": [
    "# Largest Element in a List: Write a function that finds and returns the largest element in a given list.\n",
    "\n",
    "l = [1, 3, 4, 41, 19, 21, 41.5]\n",
    "max = l[0]\n",
    "i = 0\n",
    "while i<len(l):\n",
    "    if l[i] > max:\n",
    "        max = l[i]\n",
    "    i += 1\n",
    "print(max)\n"
   ]
  },
  {
   "cell_type": "code",
   "execution_count": null,
   "id": "7b21ec3c",
   "metadata": {},
   "outputs": [],
   "source": [
    "# Sum of List Elements: Write a function that calculates and returns the sum of all elements in a given list.\n",
    "\n",
    "l = [1, 3, 4, 41, 19, 21]\n",
    "i = 0\n",
    "sum = 0\n",
    "while i < len(l):\n",
    "    sum = sum+l[i]\n",
    "    i += 1\n",
    "\n",
    "print(sum)"
   ]
  },
  {
   "cell_type": "code",
   "execution_count": null,
   "id": "ca39955f",
   "metadata": {},
   "outputs": [],
   "source": [
    "# Remove Duplicates from a List: Write a function that removes duplicate elements from a list and returns the updated list.\n",
    "\n",
    "l = [1, 3, 4, 41, 19, 21, 1, 3]\n",
    "l1 = []\n",
    "\n",
    "for i in l:\n",
    "    if i not in l1:\n",
    "        l1.append(i)\n",
    "        \n",
    "print(l1)\n"
   ]
  },
  {
   "cell_type": "code",
   "execution_count": null,
   "id": "214292d8",
   "metadata": {},
   "outputs": [],
   "source": [
    "# Finding the Second Largest Element: Write a function that finds and returns the second largest element in a given list. If there is no second largest element, return None.\n",
    "\n",
    "l = [1, 3, 4, 19, 21, 41.5]\n",
    "max = l[0]\n",
    "secondMax = l[0]\n",
    "i = 0\n",
    "while i<len(l):\n",
    "    if l[i] > max:\n",
    "        max = l[i]\n",
    "    i += 1\n",
    "l.remove(max)\n",
    "i = 0\n",
    "while i<len(l):\n",
    "    if l[i] > secondMax:\n",
    "        secondMax = l[i]\n",
    "    i += 1\n",
    "print(secondMax)"
   ]
  },
  {
   "cell_type": "code",
   "execution_count": null,
   "id": "96058d19",
   "metadata": {},
   "outputs": [],
   "source": [
    "# Matrix Transposition: Write a function that takes a matrix (2D list) as input and returns \n",
    "# the transpose of the matrix. The transpose of a matrix flips its rows and columns.\n",
    "\n",
    "matrix = [\n",
    "    [1, 2, 3],\n",
    "    [4, 5, 6],\n",
    "    [7, 8, 9]\n",
    "]"
   ]
  },
  {
   "cell_type": "code",
   "execution_count": null,
   "id": "a6f794a6",
   "metadata": {},
   "outputs": [],
   "source": [
    "rows = len(matrix)\n",
    "columns = len(matrix[0]) \n",
    "\n",
    "transposed = [[0 for _ in range(rows)] for _ in range(columns)]\n",
    "\n",
    "for i in range(rows):\n",
    "    for j in range(columns):\n",
    "        transposed[j][i] = matrix[i][j]\n",
    "\n",
    "print(transposed)"
   ]
  },
  {
   "cell_type": "code",
   "execution_count": null,
   "id": "4b610ecc",
   "metadata": {},
   "outputs": [],
   "source": [
    "# Intersection of Lists: Write a function that takes two lists as input and returns a new list containing only the elements that are common to both lists.\n",
    "\n",
    "l1 = [4, 4, 4, 19, 21]\n",
    "l2 = [1, 3, 4, 20, 22, 42.5]\n",
    "l3 = []\n",
    "\n",
    "for i in l2:\n",
    "    if i in l1:\n",
    "        l3.append(i)\n",
    "        \n",
    "print(l3)\n",
    "\n"
   ]
  },
  {
   "cell_type": "code",
   "execution_count": null,
   "id": "6409bdcb",
   "metadata": {},
   "outputs": [],
   "source": [
    "# List Rotation: Write a function that rotates the elements of a list by a given number of positions to the right. \n",
    "# For example, given the list [1, 2, 3, 4, 5] and rotation of 2, the output should be [4, 5, 1, 2, 3].\n",
    "\n",
    "numbers = [1, 2, 3, 4, 5]\n",
    "rotation = 2\n",
    "\n",
    "n = len(numbers)\n",
    "rotation = rotation % n\n",
    "rotated = numbers[-rotation:] + numbers[: -rotation]\n",
    "\n",
    "print(rotated)"
   ]
  },
  {
   "cell_type": "code",
   "execution_count": 6,
   "id": "1c2f8b12",
   "metadata": {},
   "outputs": [
    {
     "name": "stdout",
     "output_type": "stream",
     "text": [
      "[2, 3, 5, 7, 11, 13, 17, 19]\n"
     ]
    }
   ],
   "source": [
    "# Prime numbers\n",
    "\n",
    "n = 20\n",
    "primes = []\n",
    "\n",
    "for num in range(2, n + 1):\n",
    "    isPrime = True\n",
    "    for i in range(2, num):\n",
    "        if num % i == 0:\n",
    "            isPrime = False\n",
    "            break\n",
    "    if isPrime:\n",
    "        primes.append(num)\n",
    "\n",
    "print(primes)"
   ]
  },
  {
   "cell_type": "code",
   "execution_count": 18,
   "id": "c9a2564c",
   "metadata": {},
   "outputs": [
    {
     "name": "stdout",
     "output_type": "stream",
     "text": [
      "[(5, 5), (25, 5), (25, 25)]\n"
     ]
    }
   ],
   "source": [
    "riceBags = [5, 625, 4, 2, 25]\n",
    "riceBags.sort()\n",
    "n = len(riceBags)\n",
    "l = []\n",
    "largest_set_size = -1\n",
    "\n",
    "for i in range(1, n - 1):\n",
    "    for j in range(2, n):\n",
    "        if riceBags[i] % riceBags[j] == 0:\n",
    "            l.append((riceBags[i], riceBags[j]))\n",
    "            \n",
    "\n",
    "print(l)"
   ]
  },
  {
   "cell_type": "code",
   "execution_count": null,
   "id": "9dbfcfca",
   "metadata": {},
   "outputs": [],
   "source": []
  }
 ],
 "metadata": {
  "kernelspec": {
   "display_name": "Python 3 (ipykernel)",
   "language": "python",
   "name": "python3"
  },
  "language_info": {
   "codemirror_mode": {
    "name": "ipython",
    "version": 3
   },
   "file_extension": ".py",
   "mimetype": "text/x-python",
   "name": "python",
   "nbconvert_exporter": "python",
   "pygments_lexer": "ipython3",
   "version": "3.9.12"
  }
 },
 "nbformat": 4,
 "nbformat_minor": 5
}
