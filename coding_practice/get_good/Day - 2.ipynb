{
 "cells": [
  {
   "cell_type": "code",
   "execution_count": null,
   "id": "c80d5164",
   "metadata": {},
   "outputs": [],
   "source": [
    "# Day 2: String Manipulation & Built-in Functions\n",
    "# Focus Areas:\n",
    "\n",
    "# String slicing, reversing\n",
    "# Regular Expressions (re module)\n",
    "# map(), filter(), reduce()"
   ]
  },
  {
   "cell_type": "code",
   "execution_count": null,
   "id": "3c8be378",
   "metadata": {},
   "outputs": [],
   "source": [
    "# Problems (Leetcode/Easy - Medium)\n",
    "\n",
    "# Reverse Words in a String (String, Two Pointers) – Medium\n",
    "# Valid Palindrome (Two Pointers, String) – Easy\n",
    "# Longest Common Prefix (String, Sorting) – Easy\n",
    "# Implement strStr() (String Matching) – Easy\n",
    "# Decode String (Stack, Recursion) – Medium"
   ]
  },
  {
   "cell_type": "code",
   "execution_count": 2,
   "id": "af8da73d",
   "metadata": {},
   "outputs": [
    {
     "name": "stdout",
     "output_type": "stream",
     "text": [
      "ecnerrucco\n"
     ]
    }
   ],
   "source": [
    "# Reverse Words in a String (String, Two Pointers) – Medium\n",
    "s = \"occurrence\"\n",
    "l = len(s)-1\n",
    "rev = \"\"\n",
    "while l>=0:\n",
    "    rev = rev + s[l]\n",
    "    l -= 1\n",
    "print(rev)"
   ]
  },
  {
   "cell_type": "code",
   "execution_count": 11,
   "id": "50baff29",
   "metadata": {},
   "outputs": [
    {
     "name": "stdout",
     "output_type": "stream",
     "text": [
      "Its a palindrome\n"
     ]
    }
   ],
   "source": [
    "# Valid Palindrome (Two Pointers, String) – Easy\n",
    "s1 = \"madam\"\n",
    "def rev_string(s):\n",
    "    l = len(s)-1\n",
    "    rev = \"\"\n",
    "    while l >= 0:\n",
    "        rev = rev + s[l]\n",
    "        l -= 1\n",
    "    return rev\n",
    "x = rev_string(s1)\n",
    "if x==s1:\n",
    "    print(f\"Its a palindrome\")\n",
    "else:\n",
    "    print(f\"Not a palindrome\")"
   ]
  },
  {
   "cell_type": "code",
   "execution_count": null,
   "id": "0339799c",
   "metadata": {},
   "outputs": [],
   "source": [
    "# Longest Common Prefix (String, Sorting) – Easy\n"
   ]
  }
 ],
 "metadata": {
  "kernelspec": {
   "display_name": "Python 3 (ipykernel)",
   "language": "python",
   "name": "python3"
  },
  "language_info": {
   "codemirror_mode": {
    "name": "ipython",
    "version": 3
   },
   "file_extension": ".py",
   "mimetype": "text/x-python",
   "name": "python",
   "nbconvert_exporter": "python",
   "pygments_lexer": "ipython3",
   "version": "3.9.12"
  }
 },
 "nbformat": 4,
 "nbformat_minor": 5
}
