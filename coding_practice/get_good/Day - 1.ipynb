{
 "cells": [
  {
   "cell_type": "code",
   "execution_count": null,
   "id": "07d99e09",
   "metadata": {},
   "outputs": [],
   "source": [
    "# Day 1: Core Python & Problem-Solving Basics\n",
    "# Focus Areas:\n",
    "\n",
    "# Lists, Tuples, and Dictionaries\n",
    "# String Manipulation\n",
    "# Basic Itertools & Collections"
   ]
  },
  {
   "cell_type": "code",
   "execution_count": null,
   "id": "7868e52f",
   "metadata": {},
   "outputs": [],
   "source": [
    "# Problems\n",
    "\n",
    "# Two Sum (Array, Hashmap) – Easy\n",
    "# Valid Parentheses (Stack) – Easy\n",
    "# Group Anagrams (Hashing) – Medium\n",
    "# Find the Index of First Occurrence in a String (String Matching) – Easy\n",
    "# Most Common Word (String & Dictionary) – Easy"
   ]
  },
  {
   "cell_type": "code",
   "execution_count": null,
   "id": "54e7efd8",
   "metadata": {},
   "outputs": [],
   "source": [
    "# Two Sum (Array, Hashmap) – Easy\n",
    "l = [2,3,5,7,9,13,2,5,7,0,5]\n",
    "pairs = set()\n",
    "n = 7\n",
    "\n",
    "for i in range(0, len(l)):\n",
    "    for j in range(i+1, len(l)):\n",
    "        if l[i] + l[j] == n:\n",
    "            pairs.add((min(l[i], l[j]), max(l[i], l[j])))\n",
    "print(pairs)"
   ]
  },
  {
   "cell_type": "code",
   "execution_count": null,
   "id": "a0e42325",
   "metadata": {},
   "outputs": [],
   "source": [
    "# Valid Parentheses (Stack) – Easy\n",
    "def is_valid_parentheses(s):\n",
    "    stack = []\n",
    "    valid_dict = {\")\": \"(\", \"]\": \"[\", \"}\": \"{\"}\n",
    "\n",
    "    for char in s:\n",
    "        if char in valid_dict:  # Closing bracket\n",
    "            if not stack or stack[-1] != valid_dict[char]:\n",
    "                return False  # Mismatch or empty stack\n",
    "            stack.pop()  # Remove matched opening bracket\n",
    "        else:\n",
    "            stack.append(char)  # Push opening bracket onto stack\n",
    "\n",
    "    return not stack  # Valid if stack is empty\n",
    "\n",
    "# Test cases\n",
    "s1 = \"({[]})\"\n",
    "s2 = \"({[]}\"\n",
    "s3 = \"((()))\"\n",
    "s4 = \"{[()]}\"\n",
    "s5 = \"{[(])}\"\n",
    "\n",
    "print(is_valid_parentheses(s1))\n",
    "print(is_valid_parentheses(s2))\n",
    "print(is_valid_parentheses(s3))\n",
    "print(is_valid_parentheses(s4))\n",
    "print(is_valid_parentheses(s5))"
   ]
  },
  {
   "cell_type": "code",
   "execution_count": null,
   "id": "f9fac4b3",
   "metadata": {},
   "outputs": [],
   "source": [
    "# Group Anagrams (Hashing) – Medium"
   ]
  },
  {
   "cell_type": "code",
   "execution_count": 3,
   "id": "63b410c9",
   "metadata": {},
   "outputs": [
    {
     "name": "stdout",
     "output_type": "stream",
     "text": [
      "3\n"
     ]
    }
   ],
   "source": [
    "# Find the Index of First Occurrence in a String (String Matching) – Easy\n",
    "def get_index(string, ip):\n",
    "    slen = len(string)\n",
    "    for _ in range(0,slen):\n",
    "        if string[_] == ip:\n",
    "            print(_)\n",
    "            break\n",
    "            \n",
    "get_index(\"Occurrence\", \"u\")"
   ]
  },
  {
   "cell_type": "code",
   "execution_count": 10,
   "id": "6f9bacd9",
   "metadata": {},
   "outputs": [
    {
     "name": "stdout",
     "output_type": "stream",
     "text": [
      "{'o': 1, 'c': 3, 'u': 1, 'r': 2, 'e': 2, 'n': 1}\n"
     ]
    }
   ],
   "source": [
    "# Most Common Word (String & Dictionary) – Easy\n",
    "s = \"occurrence\"\n",
    "d = dict()\n",
    "\n",
    "for ch in s:\n",
    "    d[ch] = d.get(ch, 0) + 1\n",
    "    \n",
    "print(d)\n",
    "        \n",
    "# for k,v in d.items():\n",
    "#     print(max(v))"
   ]
  },
  {
   "cell_type": "code",
   "execution_count": 16,
   "id": "484c4ef0",
   "metadata": {},
   "outputs": [
    {
     "name": "stdout",
     "output_type": "stream",
     "text": [
      "c occurs 3 times\n"
     ]
    }
   ],
   "source": [
    "# Most Common Word (String & Dictionary) – Easy\n",
    "s = \"occurrence\"\n",
    "d = dict()\n",
    "\n",
    "for ch in s:\n",
    "    d[ch] = d.get(ch, 0) + 1\n",
    "\n",
    "max_count = 0\n",
    "most_common_char = \"\"\n",
    "\n",
    "for k,v in d.items():\n",
    "    if v >= max_count:\n",
    "        max_count = v\n",
    "        most_common_char = k\n",
    "        \n",
    "print(f\"{most_common_char} occurs {max_count} times\")\n",
    "        "
   ]
  },
  {
   "cell_type": "code",
   "execution_count": null,
   "id": "e80d4d51",
   "metadata": {},
   "outputs": [],
   "source": []
  }
 ],
 "metadata": {
  "kernelspec": {
   "display_name": "Python 3 (ipykernel)",
   "language": "python",
   "name": "python3"
  },
  "language_info": {
   "codemirror_mode": {
    "name": "ipython",
    "version": 3
   },
   "file_extension": ".py",
   "mimetype": "text/x-python",
   "name": "python",
   "nbconvert_exporter": "python",
   "pygments_lexer": "ipython3",
   "version": "3.9.12"
  }
 },
 "nbformat": 4,
 "nbformat_minor": 5
}
